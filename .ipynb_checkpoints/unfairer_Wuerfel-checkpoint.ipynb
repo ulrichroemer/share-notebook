{
 "cells": [
  {
   "cell_type": "code",
   "execution_count": null,
   "metadata": {},
   "outputs": [],
   "source": [
    "import random\n",
    "\n",
    "# assume sum of bias is 1\n",
    "def unfairer_Wurf():\n",
    "    massDist = (0.2, 0.1, 0.15, 0.15, 0.25, 0.15)\n",
    "    randRoll = random.random()\n",
    "    sum = 0\n",
    "    result = 1\n",
    "    for mass in massDist:\n",
    "        sum += mass\n",
    "        if randRoll < sum:\n",
    "            return result\n",
    "        result+=1"
   ]
  }
 ],
 "metadata": {
  "kernelspec": {
   "display_name": "Python 3",
   "language": "python",
   "name": "python3"
  },
  "language_info": {
   "codemirror_mode": {
    "name": "ipython",
    "version": 3
   },
   "file_extension": ".py",
   "mimetype": "text/x-python",
   "name": "python",
   "nbconvert_exporter": "python",
   "pygments_lexer": "ipython3",
   "version": "3.8.2"
  }
 },
 "nbformat": 4,
 "nbformat_minor": 4
}
