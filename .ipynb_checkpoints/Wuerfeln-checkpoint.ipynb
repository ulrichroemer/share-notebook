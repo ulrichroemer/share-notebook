{
 "cells": [
  {
   "cell_type": "markdown",
   "metadata": {},
   "source": [
    "# Tutorial: Unfairer Würfel\n",
    "- Dies ist ein Jupyter Notebook\n",
    "\n",
    "- Ein Jupyter Notebook besteht aus mehreren Zellen\n",
    "\n",
    "- Diese Zelle ist eine Text-Zelle\n",
    "\n",
    "- Die nächste Zelle enthält einen Programmcode und kann ausgeführt werden. Die verwendete Programmiersprache heißt *Python*. Klicken Sie dazu auf das folgende Symbol neben der Zelle:\n",
    "\n",
    "<img src=\"images/run.PNG\"> \n",
    "\n",
    "- Der Befehl $\\bf{print}$ zeigt ein Ergebnis an. Zahlen und Variablen müssen in Klammern gesetzt werden, z.B. print(2). Für Text verwendet man print('Text')."
   ]
  },
  {
   "cell_type": "code",
   "execution_count": 22,
   "metadata": {},
   "outputs": [
    {
     "name": "stdout",
     "output_type": "stream",
     "text": [
      "Hello World\n"
     ]
    }
   ],
   "source": [
    "print('Hello World')"
   ]
  },
  {
   "cell_type": "markdown",
   "metadata": {},
   "source": [
    "Wir wollen das Werfen eines Würfels am Computer simulieren. Das bedeutet, wir wollen die Ergebnisse einer diskreten Zufallsvariablen $X$ simulieren, welche die Werte $\\{1,2,3,4,5,6\\}$ annehmen kann. In *Python* steht dazu der Befehl $\\textbf{randint}$ zur Verfügung (Abkürzung für $\\textbf{rand}$om $\\textbf{int}$eger). Der Befehl randint(1,6) erzeugt zufällig eine natürliche Zahl zwischen 1 und 6. \n",
    "\n",
    "Führen Sie die nächste Zelle mehrfach aus, was beobachten Sie? \n",
    "\n",
    "Hinweis: Kommentare im Code beginnen immer mit #. Die Befehle nach einem # werden nicht ausgeführt. "
   ]
  },
  {
   "cell_type": "code",
   "execution_count": 23,
   "metadata": {},
   "outputs": [
    {
     "name": "stdout",
     "output_type": "stream",
     "text": [
      "2\n"
     ]
    }
   ],
   "source": [
    "# Die nächste Zeile lädt das Python Modul für Wahrscheinlichkeitsrechnung. \n",
    "# Beispielsweise kann der Befehl \"randint\" nur ausgeführt werden, wenn er importiert wurde. \n",
    "# Sie müssen die Zeile aber nicht weiter beachten. \n",
    "from random import *\n",
    "\n",
    "# Eine diskrete Zufallsvariable zwischen 1 und 6 wird erzeugt und angezeigt\n",
    "print(randint(1,6))"
   ]
  },
  {
   "cell_type": "markdown",
   "metadata": {},
   "source": [
    "In der Praxis sind die Wahrscheinlichkeiten von Ereignissen oftmals unbekannt. Zur Illustration betrachten wir einen *unfairen* Würfel. In diesem Fall unterscheiden sich die Wahrscheinlichkeiten der Zahlen."
   ]
  },
  {
   "cell_type": "code",
   "execution_count": 24,
   "metadata": {},
   "outputs": [
    {
     "name": "stdout",
     "output_type": "stream",
     "text": [
      "4\n"
     ]
    }
   ],
   "source": [
    "# Die naechste Zeile laedt eine Funktion 'unfairer_Wuerfel', die einen unfairen Wuerfel wirft\n",
    "%run unfairer_Wuerfel.ipynb\n",
    "\n",
    "print(unfairer_Wurf())"
   ]
  },
  {
   "cell_type": "markdown",
   "metadata": {},
   "source": [
    "Die jeweiligen Wahrscheinlichkeiten können mit einer Monte Carlo Simulation ermittelt werden. Dazu wird eine hohe Anzahl von Würfelwürfen simuliert. Anschließend werden die Wahrscheinlichkeiten durch die relativen Häufigkeiten näherungsweise berechnet. Um mehrere Würfelwürfe hintereinander zu simulieren, verwenden wir eine $\\textbf{for}$-Schleife. Das folgende Beispiel demonstriert die Implementierung einer $\\textbf{for}$-Schleife in *Python*. "
   ]
  },
  {
   "cell_type": "code",
   "execution_count": 25,
   "metadata": {},
   "outputs": [
    {
     "name": "stdout",
     "output_type": "stream",
     "text": [
      "1\n",
      "2\n",
      "3\n",
      "4\n",
      "5\n",
      "6\n",
      "7\n",
      "8\n",
      "9\n"
     ]
    }
   ],
   "source": [
    "#  Zunaechst eine einfache for-Schleife, die in jeder Iteration die Zahl i um 1 erhöht und anzeigt\n",
    "for i in range(1,10):\n",
    "    print(i)\n",
    "    \n",
    "# 'range(1,10)' bedeutet, dass i Werte zwischen 1 und 9 annimmt \n",
    "# Es ist eine Eigenheit der Programmiersprache, dass hier nicht bis 10 gezählt wird."
   ]
  },
  {
   "cell_type": "markdown",
   "metadata": {},
   "source": [
    "Nun wollen wir mit einer Monte Carlo Simulation die Wahrscheinlichkeiten eines *unfairen* Würfels überprüfen. Der nachfolgende Code demonstriert dies zunächst für den *fairen* Würfel. Passen Sie die Zelle an, um den *unfairen* Würfel zu analysieren. <br> Es liegen zwei Implementierungen vor: 1) Sie notieren die Zahlen manuell und berechnen die relativen Häufigkeiten selbst. 2) Die Berechnung der relativen Häufigkeit erfolgt automatisiert. Verwenden Sie insbesondere die zweite Implementierung, um zu überprüfen, wie oft der Würfelwurf wiederholt werden muss, um eine genaue Schätzung zu erhalten. "
   ]
  },
  {
   "cell_type": "markdown",
   "metadata": {},
   "source": [
    "## Implementierung 1 "
   ]
  },
  {
   "cell_type": "code",
   "execution_count": 26,
   "metadata": {},
   "outputs": [
    {
     "name": "stdout",
     "output_type": "stream",
     "text": [
      "5\n",
      "3\n",
      "2\n",
      "4\n",
      "3\n",
      "2\n",
      "3\n",
      "3\n",
      "6\n",
      "6\n"
     ]
    }
   ],
   "source": [
    "# Wir Würfeln N mal \n",
    "N = 10\n",
    "\n",
    "for i in range(0,N):    # Starte die for-Schleife\n",
    "    Ergebnis = randint(1,6)    # Werfe einen fairen Würfel\n",
    "    print(Ergebnis)    # Anzeigen des Ergebnis"
   ]
  },
  {
   "cell_type": "markdown",
   "metadata": {},
   "source": [
    "## Implementierung 2"
   ]
  },
  {
   "cell_type": "code",
   "execution_count": 27,
   "metadata": {},
   "outputs": [
    {
     "name": "stdout",
     "output_type": "stream",
     "text": [
      "0.19835\n",
      "0.09931\n",
      "0.15051\n",
      "0.15046\n",
      "0.24965\n",
      "0.15172\n"
     ]
    }
   ],
   "source": [
    "# Zu Beginn sind alle absoluten Häufigkeiten gleich Null\n",
    "\n",
    "H1 = 0    # die Variable H1 speichert die absolute Häufigkeit von einer 1 \n",
    "H2 = 0    # die Variable H2 speichert die absolute Häufigkeit von einer 2 \n",
    "H3 = 0    # die Variable H3 speichert die absolute Häufigkeit von einer 3 \n",
    "H4 = 0    # die Variable H4 speichert die absolute Häufigkeit von einer 4 \n",
    "H5 = 0    # die Variable H5 speichert die absolute Häufigkeit von einer 5 \n",
    "H6 = 0    # die Variable H6 speichert die absolute Häufigkeit von einer 6\n",
    "\n",
    "# Wir Würfeln N mal \n",
    "N = 100000\n",
    "for i in range(0,N):    # Starte die for-Schleife\n",
    "    #Ergebnis = randint(1,6)    # Werfe einen fairen Wuerfel\n",
    "    Ergebnis = unfairer_Wurf()    # Werfe einen unfairen Wuerfel\n",
    "    if(Ergebnis == 1):   # überprüfe ob eine 1 gewürfelt wurde\n",
    "        H1 += 1          # erhöhe H1 um 1\n",
    "    if(Ergebnis == 2):   # ...\n",
    "        H2 += 1\n",
    "    if(Ergebnis == 3):\n",
    "        H3 += 1\n",
    "    if(Ergebnis == 4):\n",
    "        H4 += 1\n",
    "    if(Ergebnis == 5):\n",
    "        H5 += 1\n",
    "    if(Ergebnis == 6):\n",
    "        H6 += 1    \n",
    "        \n",
    "# Wir müssen noch durch die Anzahl an Würfelen teilen, um die relative Häufigkeit zu erhalten\n",
    "h1 = H1/N\n",
    "h2 = H2/N\n",
    "h3 = H3/N\n",
    "h4 = H4/N\n",
    "h5 = H5/N\n",
    "h6 = H6/N\n",
    "\n",
    "# Anzeigen der Ergebnisse\n",
    "print(h1)\n",
    "print(h2)\n",
    "print(h3)\n",
    "print(h4)\n",
    "print(h5)\n",
    "print(h6)"
   ]
  },
  {
   "cell_type": "markdown",
   "metadata": {},
   "source": [
    "Eine $\\textbf{if}$-Abfrage überprüft eine Aussage und führt den nachfolgenden Code nur aus, wenn die Aussage zutrifft. Eine Aussage wird unter Verwendung des Symbols == aufgestellt, wie das folgende Beispiel zeigt. "
   ]
  },
  {
   "cell_type": "code",
   "execution_count": 28,
   "metadata": {},
   "outputs": [
    {
     "name": "stdout",
     "output_type": "stream",
     "text": [
      "1 == 1\n"
     ]
    }
   ],
   "source": [
    "# Dieses Beispiel zeigt, dass nur der erste print-Befehl ausgeführt wird, da nur die erste Aussage richtig ist. \n",
    "if(1 == 1):\n",
    "    print('1 == 1')\n",
    "if(1 == 2):\n",
    "    print('1 == 2')    "
   ]
  }
 ],
 "metadata": {
  "kernelspec": {
   "display_name": "Python 3",
   "language": "python",
   "name": "python3"
  },
  "language_info": {
   "codemirror_mode": {
    "name": "ipython",
    "version": 3
   },
   "file_extension": ".py",
   "mimetype": "text/x-python",
   "name": "python",
   "nbconvert_exporter": "python",
   "pygments_lexer": "ipython3",
   "version": "3.8.2"
  }
 },
 "nbformat": 4,
 "nbformat_minor": 4
}
