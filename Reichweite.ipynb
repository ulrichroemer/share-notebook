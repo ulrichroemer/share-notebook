{
 "cells": [
  {
   "cell_type": "markdown",
   "metadata": {},
   "source": [
    "Dieses Jupyter Notebook berechnet die Reichweite eines Propellerflugzeugs mit der Formel von Breguet\n",
    "\n",
    "$$\n",
    "R = C \\ln \\left(\\frac{m_{\\textrm{Flugzeug}} + m_{\\textrm{Crew}} + m_{\\textrm{Brennstoff}}}{m_{\\textrm{Flugzeug}} + m_\\textrm{Crew}} \\right).\n",
    "$$\n",
    "\n",
    "Dabei wurde die Start- und Endmasse in die Beiträge von Flugzeug und Crew, sowie des Brennstoffs unterteilt. Für das Flugzeug, das wir betrachten, gilt $C= 10^4\\,$ km. Das Gewicht des Flugzeugs mit allem Equipment beträgt außerdem $m_{\\textrm{Flugzeug}} = 900\\,$ kg. Die Endmasse bezieht sich auf die Leermasse des Flugzeugs, also ohne das Gewicht von Crew und Brennstoff. \n",
    "\n",
    "Wir stellen uns folgendes Szenario vor: Es geht um eine Umrundung der Erde ohne auftanken. Flieger, die dafür in Frage kommen, sind recht leicht und das Gewicht der Crew hat einen gewissen Einfluss auf die Reichweite. In der Formel von Breguet sieht man, wie die Masse der Crew die Reichweite beeinflusst.\n",
    "\n",
    "Sie als Ingenieur:in sollen die benötigte Menge an Treibstoff berechnen. Neben der Pilotin wird noch ein weiterer Passagier an dem Flug teilnehmen; es steht aktuell allerdings noch nicht fest, wer das sein wird (der Flug wird in einem Preisausschreiben verschenkt). Zur Verfügung steht ihnen die Formel von Breguet, außerdem beherrschen Sie die Monte Carlo Methode. Die einzige Vorgabe an den Passagier ist, das nur Handgepäck, mit dem üblichen Gewicht mitgenommen werden darf. "
   ]
  },
  {
   "cell_type": "markdown",
   "metadata": {},
   "source": [
    "# Modellierung der Unsicherheit in der Startmasse"
   ]
  },
  {
   "cell_type": "markdown",
   "metadata": {},
   "source": [
    "Um eine Unsicherheitsquantifizierung durchführen zu können muss zunächst die unbekannten Größen modellieren. Das sind hier das Gewicht des zusätzlichen Passagiers und des Handgepäcks. Das Gewicht der Pilotin ist bekannt und beträgt $71\\,$ kg. Aus bisherigen Flügen dieser Art wissen sie, dass $m_{\\textrm{Brennstoff}} = 12000\\,$ kg eine gute Masse an Brennstoff beinhaltet. Sie wollen nun ausrechnen, mit welcher Wahrscheinlichkeit dies ausreicht. Für eine Erdumrundung müssen Sie ungefähr $25000\\,$ km fliegen können. "
   ]
  },
  {
   "cell_type": "markdown",
   "metadata": {},
   "source": [
    "Modellieren Sie die unbekannte Masse der Crew als Zufallsvariable. "
   ]
  },
  {
   "cell_type": "markdown",
   "metadata": {},
   "source": [
    "# Lösung: \n",
    "Man sollte die Verteilung des Körpergewichts der Bevölkerung zu Grunde legen. Daten bekommt man durch einen einfache google Suche (z.B. statista.com). Das Körpergewicht ist strenggenommen nicht normalverteilt, das soll aber hier zur Vereinfachung angenommen werden. Die folgende Abbildung zeigt eine grobe Näherung der normalverteilten Gewichte. Zusätzlich muss das Handgepäck berücksichtigt werden; hier kann man auch eine Normalverteilung annehmen und den Mittelwert und die Standardabweichung schätzen. Der Mittelwert ergibt sich dann zu \n",
    "$$\\mu_\\text{Crew} = 71 + \\mu_{\\textrm{Passagier}} + \\mu_{\\textrm{Handgepaeck}}.$$\n",
    "Für die Standardabweichung erhält man \n",
    "$$\\sigma_\\text{Crew}^2 = \\sigma_{\\textrm{Passagier}}^2 + \\sigma_{\\textrm{Handgepaeck}}^2.$$"
   ]
  },
  {
   "cell_type": "code",
   "execution_count": 40,
   "metadata": {},
   "outputs": [
    {
     "data": {
      "image/png": "[encoded data removed]",
      "text/plain": [
       "<matplotlib.figure.Figure at 0x7faf72338f98>"
      ]
     },
     "metadata": {
      "needs_background": "light"
     },
     "output_type": "display_data"
    }
   ],
   "source": [
    "# Import der notwendigen Module \n",
    "import matplotlib.pyplot as plt\n",
    "import numpy as np\n",
    "import scipy.stats as stats\n",
    "import math\n",
    "\n",
    "mu = 71 + 78 + 8\n",
    "sigma_2 = 50^2 + 2^2\n",
    "sigma = math.sqrt(sigma_2)\n",
    "x = np.linspace(mu - 3*sigma, mu + 3*sigma, 100)\n",
    "plt.plot(x, stats.norm.pdf(x, mu, sigma))\n",
    "plt.show()"
   ]
  },
  {
   "cell_type": "markdown",
   "metadata": {},
   "source": [
    "Mit einer Monte Carlo Simulation kann man nun herausfinden, wie hoch die WSK ist, dass der Brennstoff ausreicht. Wir simulieren einfach verschiedene Gewichte von möglichen Passagieren, anhand der soeben modellierten Verteilung. Für jedes simuliertes Gewicht, berechnen wir die Reichweite. Ist sie größer als $25000\\,$km, ist der Brennstoff ausreichend (Erfolg), ansonsten verbuchen wir einen Misserfolg. Die WSK ergibt sich dann näherungsweise aus der relativen Häufigkeit eines Erfolgs. "
   ]
  },
  {
   "cell_type": "markdown",
   "metadata": {},
   "source": [
    "# Lösung"
   ]
  },
  {
   "cell_type": "code",
   "execution_count": 45,
   "metadata": {},
   "outputs": [
    {
     "name": "stdout",
     "output_type": "stream",
     "text": [
      "0.99965\n"
     ]
    }
   ],
   "source": [
    "# Zu Beginn ist die absolute Häufigkeit eines Erfolgs gleich Null\n",
    "\n",
    "H_Erfolg = 0    # die Variable H_Erfolg speichert die Häufigkeit eines Erfolgs\n",
    "m_Brennstoff = 12100    # Gewicht des Brennstoffs\n",
    "m_Flugzeug = 900\n",
    "\n",
    "# Wir simulieren N Flüge mit unterschiedlichen Gewichten der Crew\n",
    "N = 100000\n",
    "for i in range(0,N):    # Starte die for-Schleife\n",
    "    m_Crew = np.random.normal(loc=mu, scale=sigma)\n",
    "    # Erzeuge zufällig das Gewicht der Crew\n",
    "    R = 1e4*np.log((m_Flugzeug + m_Brennstoff + m_Crew)/(m_Flugzeug + m_Crew))   # Berechne Reichweite\n",
    "    if(R > 25000):   # können wir die Erde umrunden? \n",
    "        H_Erfolg += 1          # notiere den Erfolg\n",
    "        \n",
    "# Wir müssen noch durch die Anzahl an Simulationen teilen, um die relative Häufigkeit zu erhalten\n",
    "h_Erfolg = H_Erfolg/N\n",
    "\n",
    "# Anzeigen der Ergebnisse\n",
    "print(h_Erfolg)"
   ]
  },
  {
   "cell_type": "markdown",
   "metadata": {},
   "source": [
    "Modifizieren Sie die Brennstoffmasse so lagen, bis sie in mindestens 99.9 Prozent der Fälle die Erde umrunden können."
   ]
  },
  {
   "cell_type": "markdown",
   "metadata": {},
   "source": [
    "# Lösung\n",
    "Der systematische Weg, wäre eine Optimierung von m_Brennstoff. Hier reicht es allerdings den Brennstoff etwas zu erhöhen: $12100\\,$kg sind bereits ausreichend."
   ]
  },
  {
   "cell_type": "code",
   "execution_count": null,
   "metadata": {},
   "outputs": [],
   "source": []
  }
 ],
 "metadata": {
  "kernelspec": {
   "display_name": "Python 3",
   "language": "python",
   "name": "python3"
  },
  "language_info": {
   "codemirror_mode": {
    "name": "ipython",
    "version": 3
   },
   "file_extension": ".py",
   "mimetype": "text/x-python",
   "name": "python",
   "nbconvert_exporter": "python",
   "pygments_lexer": "ipython3",
   "version": "3.6.9"
  }
 },
 "nbformat": 4,
 "nbformat_minor": 4
}
