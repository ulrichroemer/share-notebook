{
 "cells": [
  {
   "cell_type": "markdown",
   "metadata": {},
   "source": [
    "# Tutorial: Erdumrundung mit unsicherem Passagiergewicht\n",
    "\n",
    "In diesem Tutorial untersuchen wir das Szenario einer Erdumrundung ohne Auftanken mit unsicherem Passagiergewicht.  Für diese Aufgabe geeignete Flieger sind leicht. Daher hat das Gewicht der Crew einen Einfluss auf die Reichweite.  Die *Formel von Breguet*\n",
    "\n",
    "$$\n",
    "R = C \\ln \\left(\\frac{m_{\\textrm{Flugzeug}} + m_{\\textrm{Crew}} + m_{\\textrm{Brennstoff}}}{m_{\\textrm{Flugzeug}} + m_\\textrm{Crew}} \\right)\n",
    "$$\n",
    "\n",
    "berechnet die Reichweite $ R $ eines Propellerflugzeugs. Die Startmasse setzt sich aus dem Flugzeuggewicht, dem Gewicht der Crew und dem Brennstoffgewicht zusammen. Da der Brennstoff während des Fluges verbraucht wird, trägt er nicht zur Endmasse bei. Das Gewicht des Flugzeugs mit allem Equipment beträgt $m_{\\textrm{Flugzeug}} = 900\\,$ kg. Für das betrachtete Flugzeug gilt $C= 10^4\\,$ km. Neben der Pilotin wird noch ein weiterer Passagier an dem Flug teilnehmen. Da der Flug in einem Preisausschreiben verschenkt wird, ist dessen Identität aktuell unbekannt. Die einzige Vorgabe an den Passagier ist, dass nur Handgepäck mit dem üblichen Gewicht mitgenommen werden darf. <br>\n",
    "\n",
    "## Gesamtaufgabe:\n",
    "Sie als Ingenieur_in sollen die benötigte Treibstoffmenge ermitteln. Da das Gewicht der Crew unbekannt ist, kann kein exakter Wert bestimmt werden. Stattdessen soll eine *Unsicherheitsquantifizierung* erfolgen. Zur Verfügung steht Ihnen die *Formel von Breguet*, außerdem beherrschen Sie die *Monte Carlo Methode*."
   ]
  },
  {
   "cell_type": "markdown",
   "metadata": {},
   "source": [
    "### 1. Teilaufgabe: Modellierung der Unsicherheit im Gewicht der Crew"
   ]
  },
  {
   "cell_type": "markdown",
   "metadata": {},
   "source": [
    "Das Gewicht der Pilotin ist bekannt und beträgt $71\\,$ kg. Die unbekannten Größen sind das Gewicht des zusätzlichen Passagiers und seines Handgepäcks. <br>\n",
    "Modellieren Sie die unbekannte Masse der Crew als Zufallsvariable. <br>\n",
    "\n",
    "* #### Gegeben \n",
    "$m_{\\textrm{Pilotin}} = 71\\,$ kg"
   ]
  },
  {
   "cell_type": "markdown",
   "metadata": {},
   "source": [
    "* #### Lösung \n",
    "Als Grundlage sollte die Verteilung des Körpergewichts der Bevölkerung herangezogen werden. Die entsprechenden Daten können durch eine Internetrecherche ermittelt werden (z.B. statista.com). Das Körpergewicht kann zur Vereinfachung als normalverteilt angenommen werden. Zusätzlich muss das Handgepäck berücksichtigt werden. Auch hier kann eine Normalverteilung angenommen und der Mittelwert und die Standardabweichung geschätzt werden. Der Mittelwert ergibt sich dann zu \n",
    "$$\\mu_\\text{Crew} = 71 \\, \\text{kg} + \\mu_{\\textrm{Passagier}} + \\mu_{\\textrm{Handgepaeck}}.$$\n",
    "Die Standardabweichung berechnet sich als\n",
    "$$\\sigma_\\text{Crew}^2 = \\sigma_{\\textrm{Passagier}}^2 + \\sigma_{\\textrm{Handgepaeck}}^2.$$\n",
    "Die folgende Abbildung zeigt eine grobe Näherung des normalverteilten Gesamtgewichts der Crew."
   ]
  },
  {
   "cell_type": "code",
   "execution_count": 4,
   "metadata": {},
   "outputs": [
    {
     "data": {
      "image/png": "[encoded data removed]",
      "text/plain": [
       "<Figure size 432x288 with 1 Axes>"
      ]
     },
     "metadata": {
      "needs_background": "light"
     },
     "output_type": "display_data"
    }
   ],
   "source": [
    "# Import der notwendigen Module \n",
    "import matplotlib.pyplot as plt\n",
    "import numpy as np\n",
    "import scipy.stats as stats\n",
    "import math\n",
    "\n",
    "mu = 71 + 78 + 8\n",
    "sigma_2 = 50^2 + 2^2\n",
    "sigma = math.sqrt(sigma_2)\n",
    "x = np.linspace(mu - 3*sigma, mu + 3*sigma, 100)\n",
    "plt.plot(x, stats.norm.pdf(x, mu, sigma))\n",
    "plt.xlabel('$ m_{crew} $ in [kg]')\n",
    "plt.ylabel('Wahrscheinlichkeit')\n",
    "plt.show()"
   ]
  },
  {
   "cell_type": "markdown",
   "metadata": {},
   "source": [
    "### 2. Monte Carlo Simulation\n",
    "Für eine Erdumrundung müssen Sie eine Strecke von ungefähr $s = 25000\\,$ km zurücklegen können. Bei bisherigen Flügen dieser Art hat sich eine Brennstoffmasse von $\\hat{m}_{\\textrm{Brennstoff}} = 12000\\,$ kg bewährt. Sie wollen nun mithilfe einer *Monte Carlo Simulation* ausrechnen, mit welcher Wahrscheinlichkeit der Erfahrungswert $\\hat{m}_{\\textrm{Brennstoff}}$ ausreicht. Im Rahmen der *Monte Carlo Simulation* werden verschiedene Gewichte von möglichen Passagieren anhand der im ersten Aufgabenteil modellierten Verteilung simuliert. Für jedes simulierte Gewicht wird die Reichweite berechnet. Ist sie größer als $25000\\,$km, ist der Brennstoff ausreichend. In diesem Fall ist einen Erfolg zu verbuchen, ansonsten einen Misserfolg. Die Wahrscheinlichkeit ergibt sich dann näherungsweise aus der relativen Häufigkeit eines Erfolges. \n",
    "* #### Gegeben\n",
    "$C= 10^4\\,$ km, $s = 25000\\,$ km, $m_{\\textrm{Flugzeug}} = 900\\,$ kg, $\\hat{m}_{\\textrm{Brennstoff}} = 12000\\,$ kg, Modellierung von $ m_{\\textrm{Crew}} $ aus Teilaufgabe 1"
   ]
  },
  {
   "cell_type": "markdown",
   "metadata": {},
   "source": [
    "* #### Lösung"
   ]
  },
  {
   "cell_type": "code",
   "execution_count": 5,
   "metadata": {},
   "outputs": [
    {
     "name": "stdout",
     "output_type": "stream",
     "text": [
      "0.99974\n"
     ]
    }
   ],
   "source": [
    "# Zu Beginn ist die absolute Häufigkeit eines Erfolgs gleich Null\n",
    "\n",
    "H_Erfolg = 0    # die Variable H_Erfolg speichert die Häufigkeit eines Erfolgs\n",
    "m_Brennstoff = 12100    # Gewicht des Brennstoffs\n",
    "m_Flugzeug = 900\n",
    "\n",
    "# Wir simulieren N Flüge mit unterschiedlichen Gewichten der Crew\n",
    "N = 100000\n",
    "for i in range(0,N):    # Starte die for-Schleife\n",
    "    m_Crew = np.random.normal(loc=mu, scale=sigma)\n",
    "    # Erzeuge zufällig das Gewicht der Crew\n",
    "    R = 1e4*np.log((m_Flugzeug + m_Brennstoff + m_Crew)/(m_Flugzeug + m_Crew))   # Berechne Reichweite\n",
    "    if(R > 25000):   # können wir die Erde umrunden? \n",
    "        H_Erfolg += 1          # notiere den Erfolg\n",
    "        \n",
    "# Wir müssen noch durch die Anzahl an Simulationen teilen, um die relative Häufigkeit zu erhalten\n",
    "h_Erfolg = H_Erfolg/N\n",
    "\n",
    "# Anzeigen der Ergebnisse\n",
    "print(h_Erfolg)"
   ]
  },
  {
   "cell_type": "markdown",
   "metadata": {},
   "source": [
    "### 3. Modifizierung der Brennstoffmasse\n",
    "Ändern Sie die Treibstoffmasse, bis Sie die Erde in mindestens $ 99,9 $ Prozent der Fälle umrunden können."
   ]
  },
  {
   "cell_type": "markdown",
   "metadata": {},
   "source": [
    "* #### Lösung\n",
    "Der systematische Weg wäre eine Optimierung von $ m_\\textrm{Brennstoff} $. Es ist jedoch ausreichend, die Brennstoffmasse manuell auf $12100\\,$kg zu erhöhen."
   ]
  }
 ],
 "metadata": {
  "kernelspec": {
   "display_name": "Python 3",
   "language": "python",
   "name": "python3"
  },
  "language_info": {
   "codemirror_mode": {
    "name": "ipython",
    "version": 3
   },
   "file_extension": ".py",
   "mimetype": "text/x-python",
   "name": "python",
   "nbconvert_exporter": "python",
   "pygments_lexer": "ipython3",
   "version": "3.8.2"
  }
 },
 "nbformat": 4,
 "nbformat_minor": 4
}
