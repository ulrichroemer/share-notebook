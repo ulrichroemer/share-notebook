{
 "cells": [
  {
   "cell_type": "markdown",
   "metadata": {},
   "source": [
    "# Tutorial: Unfairer Würfel\n",
    "\n",
    "Dieses Tutorial gliedert sich in zwei Teile. Der erste Teil vermittelt relevante Programmiergrundkenntnisse. Im zweiten Teil soll ein *unfairer Würfel* mithilfe der *Monte Carlo Methode* analysiert werden."
   ]
  },
  {
   "cell_type": "markdown",
   "metadata": {},
   "source": [
    "### 1. Crashcourse Programmierung\n",
    "\n",
    "- Dies ist ein Jupyter Notebook\n",
    "\n",
    "- Ein Jupyter Notebook besteht aus mehreren Zellen\n",
    "\n",
    "- Diese Zelle ist eine Text-Zelle\n",
    "\n",
    "- Die nächste Zelle enthält einen Programmcode und kann ausgeführt werden. Klicken Sie dazu auf das folgende Symbol neben der Zelle:\n",
    "\n",
    "<img src=\"images/run.PNG\"> \n",
    "\n",
    "- Die verwendete Programmiersprache heißt *Python*.\n",
    "\n",
    "- Der Befehl $\\bf{print}$ zeigt ein Ergebnis an. Zahlen und Variablen müssen in Klammern gesetzt werden, z.B. print(2). Für Text verwendet man print('Text')."
   ]
  },
  {
   "cell_type": "code",
   "execution_count": 57,
   "metadata": {},
   "outputs": [
    {
     "name": "stdout",
     "output_type": "stream",
     "text": [
      "Hello World\n"
     ]
    }
   ],
   "source": [
    "print('Hello World')"
   ]
  },
  {
   "cell_type": "markdown",
   "metadata": {},
   "source": [
    "- Schleifen gehören zu den wichtigsten Strukturen in der Programmierung. Das folgende Beispiel demonstriert die Implementierung einer 𝐟𝐨𝐫-Schleife in *Python*. "
   ]
  },
  {
   "cell_type": "code",
   "execution_count": 58,
   "metadata": {},
   "outputs": [
    {
     "name": "stdout",
     "output_type": "stream",
     "text": [
      "1\n",
      "2\n",
      "3\n",
      "4\n",
      "5\n",
      "6\n",
      "7\n",
      "8\n",
      "9\n"
     ]
    }
   ],
   "source": [
    "#  Zunaechst eine einfache for-Schleife, die in jeder Iteration die Zahl i um 1 erhöht und anzeigt\n",
    "for i in range(1,10):\n",
    "    print(i)\n",
    "    \n",
    "# 'range(1,10)' bedeutet, dass i Werte zwischen 1 und 9 annimmt \n",
    "# Es ist eine Eigenheit der Programmiersprache, dass hier nicht bis 10 gezählt wird."
   ]
  },
  {
   "cell_type": "markdown",
   "metadata": {},
   "source": [
    "- Gleichermaßen wichtige Grundelemente sind Abfragen. Eine 𝐢𝐟-Abfrage überprüft eine Aussage und führt den nachfolgenden Code nur aus, wenn die Aussage zutrifft. Eine Aussage wird unter Verwendung des Symbols == aufgestellt. Das nachfolgende Beispiel verdeutlicht das Vorgehen."
   ]
  },
  {
   "cell_type": "code",
   "execution_count": 59,
   "metadata": {},
   "outputs": [
    {
     "name": "stdout",
     "output_type": "stream",
     "text": [
      "1 == 1\n"
     ]
    }
   ],
   "source": [
    "# Dieses Beispiel zeigt, dass nur der erste print-Befehl ausgeführt wird, da nur die erste Aussage richtig ist. \n",
    "if(1 == 1):\n",
    "    print('1 == 1')\n",
    "if(1 == 2):\n",
    "    print('1 == 2')  "
   ]
  },
  {
   "cell_type": "markdown",
   "metadata": {},
   "source": [
    "### 2. Monte Carlo Simulation eines unfairen Würfels\n",
    "\n",
    "In diesem Aufgabenteil beschäftigen wir uns mit der Simulation von Würfelwürfen am Computer. Mit anderen Worten: Wir simulieren die Ergebnisse einer diskreten Zufallsvariablen $X$, welche die Werte $\\{1,2,3,4,5,6\\}$ annehmen kann. In *Python* steht dazu der Befehl $\\textbf{randint}$ zur Verfügung (Abkürzung für $\\textbf{rand}$om $\\textbf{int}$eger). Der Befehl randint(1,6) erzeugt zufällig eine natürliche Zahl zwischen 1 und 6. \n",
    "\n",
    "**2.1** Führen Sie die nächste Zelle mehrfach aus, was beobachten Sie? \n",
    "\n",
    "Hinweis: Kommentare im Code beginnen immer mit #. Die Befehle nach einem # werden nicht ausgeführt. "
   ]
  },
  {
   "cell_type": "code",
   "execution_count": 60,
   "metadata": {},
   "outputs": [
    {
     "name": "stdout",
     "output_type": "stream",
     "text": [
      "Ergebnis des Würfelwurfs: \n",
      "4\n"
     ]
    }
   ],
   "source": [
    "# Die nächste Zeile lädt das Python Modul für Wahrscheinlichkeitsrechnung. \n",
    "# Beispielsweise kann der Befehl \"randint\" nur ausgeführt werden, wenn er importiert wurde.\n",
    "# Das in der darauffolgenden Zeile importierte Modul beeinhaltet beispielsweise Slider.\n",
    "# Sie müssen die Zeilen aber nicht weiter beachten. \n",
    "from random import *\n",
    "import ipywidgets as widgets\n",
    "\n",
    "# Eine diskrete Zufallsvariable zwischen 1 und 6 wird erzeugt und angezeigt\n",
    "print(\"Ergebnis des Würfelwurfs: \")\n",
    "print(randint(1,6))"
   ]
  },
  {
   "cell_type": "markdown",
   "metadata": {},
   "source": [
    "In der Praxis sind die Wahrscheinlichkeiten von Ereignissen oftmals unbekannt. Zur Illustration betrachten wir einen *unfairen* Würfel. In diesem Fall unterscheiden sich die Wahrscheinlichkeiten der Zahlen.\n",
    "\n",
    "**2.2** Führen Sie die nächste Zelle mehrfach aus. Beobachten Sie einen Unterschied zum *fairen* Würfel?"
   ]
  },
  {
   "cell_type": "code",
   "execution_count": 61,
   "metadata": {},
   "outputs": [
    {
     "name": "stdout",
     "output_type": "stream",
     "text": [
      "Ergebnis des Würfelwurfs: \n",
      "5\n"
     ]
    }
   ],
   "source": [
    "# Die naechste Zeile laedt eine Funktion 'unfairer_Wuerfel', die einen unfairen Wuerfel wirft\n",
    "%run unfairer_Wuerfel.ipynb\n",
    "\n",
    "print(\"Ergebnis des Würfelwurfs: \") \n",
    "print(unfairer_Wurf())"
   ]
  },
  {
   "cell_type": "markdown",
   "metadata": {},
   "source": [
    "Der nachfolgende Code ermittelt die Wahrscheinlichkeiten eines *fairen* Würfel mittels *Monte Carlo Simulation*. Dazu wird eine hohe Anzahl von Würfelwürfen mit Hilfe einer $\\textbf{for}$-Schleife simuliert. Anschließend werden die Wahrscheinlichkeiten durch die relativen Häufigkeiten näherungsweise berechnet.\n",
    "\n",
    "Es liegen zwei Implementierungen vor. Die erste Implementierung automatisiert zwar den Würfelwurf, die Berechnung der relativen Häufigkeiten muss jedoch weiterhin manuell erfolgen. Die zweite Implementierung beeinhaltet beide Funktionalitäten. \n",
    "\n",
    "**2.3** Verwenden Sie insbesondere die zweite Implementierung, um die für eine genaue Schätzung benötigte Anzahl an\n",
    "Würfelwürfen zu ermitteln. \n",
    "\n",
    "**2.4** Passen Sie die zweite Implementierung an, um den *unfairen* Würfel zu analysieren."
   ]
  },
  {
   "cell_type": "markdown",
   "metadata": {},
   "source": [
    "### Implementierung 1 "
   ]
  },
  {
   "cell_type": "code",
   "execution_count": 62,
   "metadata": {},
   "outputs": [
    {
     "data": {
      "application/vnd.jupyter.widget-view+json": {
       "model_id": "4a505f7b3cf34004ab86187e8e598f4a",
       "version_major": 2,
       "version_minor": 0
      },
      "text/plain": [
       "interactive(children=(IntSlider(value=2, description='N', max=22, min=2), Output()), _dom_classes=('widget-int…"
      ]
     },
     "metadata": {},
     "output_type": "display_data"
    }
   ],
   "source": [
    "def implementierung_1(N):\n",
    "    print(\"Ergebnisse von\")\n",
    "    print(N)\n",
    "    print(\"Würfelwürfen: \") \n",
    "    print(\"\")\n",
    "\n",
    "    # Wir Würfeln N mal \n",
    "    for i in range(0,N):    # Starte die for-Schleife\n",
    "        Ergebnis = randint(1,6)    # Werfe einen fairen Würfel\n",
    "        print(Ergebnis)    # Anzeigen des Ergebnis\n",
    "    \n",
    "# Interaktiver Slider\n",
    "widgets.interact(implementierung_1, N=widgets.IntSlider(min=2, max=22, step=1, value=2));"
   ]
  },
  {
   "cell_type": "markdown",
   "metadata": {},
   "source": [
    "### Implementierung 2"
   ]
  },
  {
   "cell_type": "code",
   "execution_count": 63,
   "metadata": {},
   "outputs": [
    {
     "data": {
      "application/vnd.jupyter.widget-view+json": {
       "model_id": "b8bcc922767a4400831d2f4168f5a768",
       "version_major": 2,
       "version_minor": 0
      },
      "text/plain": [
       "interactive(children=(IntSlider(value=2, description='Exponent', max=22, min=2), Output()), _dom_classes=('wid…"
      ]
     },
     "metadata": {},
     "output_type": "display_data"
    }
   ],
   "source": [
    "def implementierung_2(Exponent):\n",
    "    N = 2**Exponent\n",
    "    print(\"Starte MC Simulation mit \")\n",
    "    print(N)\n",
    "    print(\"Würfelwürfen\")\n",
    "    print(\"\")\n",
    "    \n",
    "    # Zu Beginn sind alle absoluten Häufigkeiten gleich Null\n",
    "    H1 = 0    # die Variable H1 speichert die absolute Häufigkeit von einer 1 \n",
    "    H2 = 0    # die Variable H2 speichert die absolute Häufigkeit von einer 2 \n",
    "    H3 = 0    # die Variable H3 speichert die absolute Häufigkeit von einer 3 \n",
    "    H4 = 0    # die Variable H4 speichert die absolute Häufigkeit von einer 4 \n",
    "    H5 = 0    # die Variable H5 speichert die absolute Häufigkeit von einer 5 \n",
    "    H6 = 0    # die Variable H6 speichert die absolute Häufigkeit von einer 6\n",
    "\n",
    "    # Wir Würfeln N mal \n",
    "    for i in range(0,N):    # Starte die for-Schleife\n",
    "        Ergebnis = randint(1,6)    # Werfe einen fairen Wuerfel\n",
    "        # Ergebnis = unfairer_Wurf()    # Werfe einen unfairen Wuerfel\n",
    "        if(Ergebnis == 1):   # überprüfe ob eine 1 gewürfelt wurde\n",
    "            H1 += 1          # erhöhe H1 um 1\n",
    "        if(Ergebnis == 2):   # ...\n",
    "            H2 += 1\n",
    "        if(Ergebnis == 3):\n",
    "            H3 += 1\n",
    "        if(Ergebnis == 4):\n",
    "            H4 += 1\n",
    "        if(Ergebnis == 5):\n",
    "            H5 += 1\n",
    "        if(Ergebnis == 6):\n",
    "            H6 += 1    \n",
    "\n",
    "    # Teile durch die Anzahl an Würfen, um die relative Häufigkeit zu erhalten\n",
    "    h1 = H1/N\n",
    "    h2 = H2/N\n",
    "    h3 = H3/N\n",
    "    h4 = H4/N\n",
    "    h5 = H5/N\n",
    "    h6 = H6/N\n",
    "\n",
    "    # Anzeigen der Ergebnisse\n",
    "    print(\"Wahrscheinlichkeit eine 1 zu Würfeln:\")\n",
    "    print(h1)\n",
    "    print(\"Wahrscheinlichkeit eine 2 zu Würfeln:\")\n",
    "    print(h2)\n",
    "    print(\"Wahrscheinlichkeit eine 3 zu Würfeln:\")\n",
    "    print(h3)\n",
    "    print(\"Wahrscheinlichkeit eine 4 zu Würfeln:\")\n",
    "    print(h4)\n",
    "    print(\"Wahrscheinlichkeit eine 5 zu Würfeln:\")\n",
    "    print(h5)\n",
    "    print(\"Wahrscheinlichkeit eine 6 zu Würfeln:\")\n",
    "    print(h6)\n",
    "\n",
    "# Interaktiver Slider\n",
    "widgets.interact(implementierung_2, Exponent=widgets.IntSlider(min=2, max=22, step=1, value=2));"
   ]
  }
 ],
 "metadata": {
  "kernelspec": {
   "display_name": "Python 3",
   "language": "python",
   "name": "python3"
  },
  "language_info": {
   "codemirror_mode": {
    "name": "ipython",
    "version": 3
   },
   "file_extension": ".py",
   "mimetype": "text/x-python",
   "name": "python",
   "nbconvert_exporter": "python",
   "pygments_lexer": "ipython3",
   "version": "3.8.2"
  }
 },
 "nbformat": 4,
 "nbformat_minor": 4
}
