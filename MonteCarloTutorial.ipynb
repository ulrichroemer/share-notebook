{
 "cells": [
  {
   "cell_type": "markdown",
   "metadata": {},
   "source": [
    "Run all cell before working! (Cell-->Run All)"
   ]
  },
  {
   "cell_type": "code",
   "execution_count": 20,
   "metadata": {
    "code_folding": [],
    "hide_input": false,
    "init_cell": true
   },
   "outputs": [],
   "source": [
    "#import packages\n",
    "# NumPy is a package for scientific computing with Python which contains various functions and tools. \n",
    "import numpy as np  \n",
    "import matplotlib.pyplot as plt\n",
    "from ipywidgets import widgets,Layout\n",
    "from IPython.display import display,clear_output\n",
    "from IPython.display import HTML\n",
    "%run ModelList.ipynb\n",
    "%matplotlib inline"
   ]
  },
  {
   "cell_type": "code",
   "execution_count": 21,
   "metadata": {
    "hide_input": false
   },
   "outputs": [
    {
     "data": {
      "text/html": [
       "<script>\n",
       "code_show=true; \n",
       "function code_toggle() {\n",
       " if (code_show){\n",
       " $('div.input').hide();\n",
       " } else {\n",
       " $('div.input').show();\n",
       " }\n",
       " code_show = !code_show\n",
       "} \n",
       "$( document ).ready(code_toggle);\n",
       "</script>\n",
       "The raw code for this IPython notebook is by default hidden for easier reading.\n",
       "To toggle on/off the raw code, click <a href=\"javascript:code_toggle()\">here</a>."
      ],
      "text/plain": [
       "<IPython.core.display.HTML object>"
      ]
     },
     "execution_count": 21,
     "metadata": {},
     "output_type": "execute_result"
    }
   ],
   "source": [
    "HTML('''<script>\n",
    "code_show=true; \n",
    "function code_toggle() {\n",
    " if (code_show){\n",
    " $('div.input').hide();\n",
    " } else {\n",
    " $('div.input').show();\n",
    " }\n",
    " code_show = !code_show\n",
    "} \n",
    "$( document ).ready(code_toggle);\n",
    "</script>\n",
    "The raw code for this IPython notebook is by default hidden for easier reading.\n",
    "To toggle on/off the raw code, click <a href=\"javascript:code_toggle()\">here</a>.''')"
   ]
  },
  {
   "cell_type": "markdown",
   "metadata": {
    "hide_input": true
   },
   "source": [
    "# Monte Carlo Method"
   ]
  },
  {
   "cell_type": "markdown",
   "metadata": {},
   "source": [
    "The Monte Carlo method is a technique to propagate uncertainties through models. When model input parameters (E modulus, spring constant,...) are modeled as random variables to take uncertainties into account, one is interested in analyzing the effect on model outputs (stress, strain, temperature, velocity of the system at a speciﬁc point in time and/or space). Model input random variable are denoted as $\\mathbf{Y}$, the function $g$ represents the model and $Z=g(\\mathbf{Y})$ refers to the model output. Note that the function $g$ is often not available in closed-form and requires the solution of a differential equation. \n",
    "\n",
    "One way to quantify the output uncertainty is to compute moments such as the mean value and the variance\n",
    "\n",
    "\\begin{align*}\n",
    "\\mathbb{E}[g(\\mathbf{Y})] &= \\int_{\\Gamma} g(\\mathbf{y})f_\\mathbf{Y} (\\mathbf{y}) \\,dy, \\\\\n",
    "\\mathbb{V}[g(\\mathbf{Y})] &= \\int_{\\Gamma}(g(\\mathbf{y}) - \\mathbb{E}[g(\\mathbf{Y})] )^2 f_\\mathbf{Y}(\\mathbf{y})\\,dy,\n",
    "\\end{align*}\n",
    "\n",
    "where $\\Gamma$ denotes the support of the random vector $\\mathbf{Y}$ and $f_\\mathbf{Y}$ its density. \n",
    "\n",
    "The main principles of the Monte Carlo method can be explained by considering the mean value only, hence, we will focus on the approximation of $\\mu = \\mathbb{E}[g(\\mathbf{Y})]$ in the following. "
   ]
  },
  {
   "cell_type": "markdown",
   "metadata": {},
   "source": [
    "The Monte Carlo method (MC in the following) is a very simple, direct and robust technique which may be even used for some models with discontinuous response $g$. We introduce $\\{\\mathbf{Y}^{(k)}\\}_{k=1}^K$, where $\\mathbf{Y}^{(k)} \\sim \\mathbf{Y}$ represent independent and identically distributed random variables. In particular, $\\mathbf{Y}^{(k)}$ models the outcome of the $k$-th independent draw of $\\mathbf{Y}$, which is realized by a random number generator. $\\{\\mathbf{Y}^{(k)}\\}_{k=1}^K$ is called the sample and $\\mathbf{Y}^{(k)}$ a sample point. For each sample point one can then call the model function $g$ to compute the output sample $\\{Z^{(k)} = g(\\mathbf{Y}^{(k)})\\}_{k=1}^K$. This procedure can be viewed as an experiment on a computer, which is repeated $K$ times (independently) to obtain some information on the underlying stochastic behavior. The MC estimator is then defined as\n",
    "$$\\mu \\approx \\tilde{\\mu}_K =  \\frac{1}{K}\\sum_{k=1}^{K} Z^{(k)},$$\n",
    "representing the output sample arithmetic mean. \n",
    "\n",
    "It should be noted that although $\\mu$ is fixed, the MC estimator $\\tilde{\\mu}_K$ is random, i.e., the estimated value may change when the experiment is repeated. This is indicated already by the name estimator, which in statistics is a tool to approximate an unknown parameter based on experimental data. Repitition of the experiment will lead to different results, both in a real and in the MC computer experiment. \n",
    "\n",
    "If the function to be approximated is not the mean value, but a quantity given as \n",
    "\n",
    "$$ \\Psi(\\mathbf{Y}) = \\int_{\\Gamma} \\psi(\\mathbf{y}) f_\\mathbf{Y} (\\mathbf{y}) \\,dy,$$\n",
    "\n",
    "the MC method can be used in a similar way; the resulting approximation simply reads \n",
    "\n",
    "$$ \\Psi(\\mathbf{Y}) = \\int_{\\Gamma} \\psi(\\mathbf{y}) f_\\mathbf{Y} (\\mathbf{y}) \\,dy \\approx \\frac{1}{K}\\sum_{k=1}^{K} \\psi(\\mathbf{Y}^{(k)}),$$\n",
    "\n",
    "however, one should be aware that often the factor in front of the summation must be adapted to obtain an unbiased estimate. \n",
    "\n",
    "The root-mean-square error of the MC method is given as \n",
    "\n",
    "$$ RMSE = \\frac{\\sigma_g}{\\sqrt{K}},$$\n",
    "\n",
    "where $\\sigma_g^2 = \\mathbb{V}[g(\\mathbf{Y})]$, which means that the error decreases for an increasing sample size $K$."
   ]
  },
  {
   "cell_type": "markdown",
   "metadata": {},
   "source": [
    "### Estimation of $\\pi$"
   ]
  },
  {
   "cell_type": "markdown",
   "metadata": {
    "hide_input": true
   },
   "source": [
    "An example to illustrate the MC principles is the numerical approximation of $\\pi$. There holds\n",
    "\n",
    "$$\\pi = 4\\int_{[0,1]} \\int_{[0,1]} \\chi_{r(\\mathbf{y})\\leq 1} f_\\mathbf{Y}(\\mathbf{y}) \\mathrm{d}y_1 \\mathrm{d}y_2  \\approx \\frac{4}{K} \\sum_{i=1}^K \\chi_{r(\\mathbf{y}^{(i)})\\leq 1},$$\n",
    "\n",
    "where $\\chi_{r(\\mathbf{y}^{(i)})\\leq 1}$ is equal to $1$ if $\\sqrt{(y_1^{(i)})^2 + (y_2^{(i)})^2} \\leq 1$ and $0$ otherwise. Intuitively, this means that we draw $K$ points in the square $[0,1] \\times [0,1]$ and distinguish between the points inside of the unit circle (in red below) and the points outside of the unit circle (in blue below). The ratio of points inside of the circle vs. the total number of points is then proportional to $\\pi$. The result is more and more accurate if $K$ becomes larger. You can carry out the experiment below with a variable number of sample points and check the associated RMSE."
   ]
  },
  {
   "cell_type": "markdown",
   "metadata": {},
   "source": [
    "Slide the bar to vary the number of sample points."
   ]
  },
  {
   "cell_type": "code",
   "execution_count": 26,
   "metadata": {
    "code_folding": [
     0
    ],
    "hide_input": true
   },
   "outputs": [
    {
     "data": {
      "application/vnd.jupyter.widget-view+json": {
       "model_id": "5249532b3aa940c5a5b70d7a2258a7a8",
       "version_major": 2,
       "version_minor": 0
      },
      "text/plain": [
       "HBox(children=(Label(value='N:'), IntSlider(value=2000, continuous_update=False, max=50000, min=1000, step=100…"
      ]
     },
     "metadata": {},
     "output_type": "display_data"
    },
    {
     "data": {
      "application/vnd.jupyter.widget-view+json": {
       "model_id": "16c4780048b647ac93ec31bfbd496253",
       "version_major": 2,
       "version_minor": 0
      },
      "text/plain": [
       "Output()"
      ]
     },
     "metadata": {},
     "output_type": "display_data"
    }
   ],
   "source": [
    "#Slide the bar to change the number of samples\n",
    "N=widgets.IntSlider(value=2000,min=1000,max=50000,step=1000,continuous_update=False)\n",
    "S=widgets.HBox([widgets.Label('N:'),N])\n",
    "out=widgets.interactive_output(PiEstimate,{'N':N})\n",
    "display(S,out)"
   ]
  },
  {
   "cell_type": "markdown",
   "metadata": {},
   "source": [
    "\n",
    "### Monte Carlo confidence interval:\n",
    "\n",
    "Since the MC approximation is itself random, it is important to provide some level of confidence to the estimated value $\\tilde{\\mu}_K$. A confidence level provides a bound $\\tilde{\\mu}_K \\pm \\Delta$ which would contain the true value $\\mu$ in with $95,98,99,...$ (the confidence level) of the cases, if the experiment would be repeated many times. It can be shown that, for instance, the interval associated to a 95 percent confidence level is obtained as $\\Delta = 1.96\\sigma_{g} /\\sqrt{K}$, where $\\sigma_g$ can also be approximated by the Monte Carlo method to obtain a numerical value. \n",
    "\n",
    "In the example below, confidence intervals are computed for the approximation of $\\pi$. On can clearly see the decreasing confidence bounds for a larger sample size, as expected from theory. "
   ]
  },
  {
   "cell_type": "code",
   "execution_count": 23,
   "metadata": {
    "code_folding": [
     0
    ],
    "hide_input": true,
    "scrolled": false
   },
   "outputs": [
    {
     "data": {
      "application/vnd.jupyter.widget-view+json": {
       "model_id": "2408b77f94224454ada67db66f8ad5a3",
       "version_major": 2,
       "version_minor": 0
      },
      "text/plain": [
       "Label(value='Enter Sample Size')"
      ]
     },
     "metadata": {},
     "output_type": "display_data"
    },
    {
     "data": {
      "application/vnd.jupyter.widget-view+json": {
       "model_id": "dcd3261959a94579a6c310a00485aad9",
       "version_major": 2,
       "version_minor": 0
      },
      "text/plain": [
       "HBox(children=(IntText(value=4000),))"
      ]
     },
     "metadata": {},
     "output_type": "display_data"
    },
    {
     "data": {
      "application/vnd.jupyter.widget-view+json": {
       "model_id": "cc9849870d634c6497ded36de72d90d0",
       "version_major": 2,
       "version_minor": 0
      },
      "text/plain": [
       "Label(value='Click Run to compute mean and standard deviation of the samples and Plot Convergence to see the r…"
      ]
     },
     "metadata": {},
     "output_type": "display_data"
    },
    {
     "data": {
      "application/vnd.jupyter.widget-view+json": {
       "model_id": "5fc1a2b2d37c436c8b7a0b58164ef0f8",
       "version_major": 2,
       "version_minor": 0
      },
      "text/plain": [
       "Button(description='Run', style=ButtonStyle())"
      ]
     },
     "metadata": {},
     "output_type": "display_data"
    },
    {
     "data": {
      "application/vnd.jupyter.widget-view+json": {
       "model_id": "654a3bbfc3944591b049ddf64180ea51",
       "version_major": 2,
       "version_minor": 0
      },
      "text/plain": [
       "Button(description='Plot Convergence', style=ButtonStyle())"
      ]
     },
     "metadata": {},
     "output_type": "display_data"
    },
    {
     "data": {
      "application/vnd.jupyter.widget-view+json": {
       "model_id": "3f18deaf8e324446bd44a9f8a20a755b",
       "version_major": 2,
       "version_minor": 0
      },
      "text/plain": [
       "Output()"
      ]
     },
     "metadata": {},
     "output_type": "display_data"
    }
   ],
   "source": [
    "#Convergence Study\n",
    "out1=widgets.Output() \n",
    "def clicked1(_):\n",
    "    global mu_MC, sig_MC, Nvalues\n",
    "    with out1: \n",
    "     mu_MC, sig_MC, Nvalues = Convergence(N1.value)           \n",
    "def clicked2(_):\n",
    "   with out1:\n",
    "    clear_output()\n",
    "    PlotConvergence(mu_MC,sig_MC, Nvalues)\n",
    "N1=widgets.IntText(value=4000)\n",
    "S=widgets.HBox([N1])   \n",
    "B1=widgets.Button(description='Run')\n",
    "B2=widgets.Button(description='Plot Convergence')\n",
    "B1.on_click(clicked1)\n",
    "B2.on_click(clicked2)\n",
    "display(widgets.Label('Enter Sample Size'),S,widgets.Label('Click Run to compute mean and standard deviation of the samples and Plot Convergence to see the results'),B1,B2,out1)    "
   ]
  },
  {
   "cell_type": "markdown",
   "metadata": {
    "hide_input": false
   },
   "source": [
    "### Physical Examples"
   ]
  },
  {
   "cell_type": "markdown",
   "metadata": {},
   "source": [
    "We now apply the Monte Carlo method to physical examples. \n",
    "\n",
    "The first test case is a harmonic oscillator, represented by the differential equation\n",
    "\n",
    "$$m\\frac{d^2}{dt^2}{x(t)} + \\gamma \\frac{dx}{dt} + kx = fcos(\\omega t),$$\n",
    "$$x(0) = x_o, \\frac{dx}{dt}(0) = x_1$$\n",
    "\n",
    "where,\n",
    "-  m is the mass\n",
    "-  $\\gamma$ is the damping coefficient\n",
    "-  k is the spring constant\n",
    "-  f is the amplitude of the force\n",
    "-  $x_o$ is the initial displacement\n",
    "-  $x_1$ is the initial velocity, are the inputs of the system.\n",
    "-  $\\omega$ is the frequency of the excitation force.\n",
    "\n",
    "All input random variables are collected in a random vector $\\textbf{Y} = \n",
    "\\begin{bmatrix}\n",
    "    \\gamma  \\\\\n",
    "    k\\\\\n",
    "    x_o \\\\\n",
    "    x_1 \\\\\n",
    "    \\omega \\\\\n",
    "\\end{bmatrix}$. \n",
    "\n",
    "It is assumed that each $Y_i$ is uniformly distributed with a $10\\%$ variation from their nominal values $Y_{i,o}$ i.e.  $Y_{i,o}$$\\sim$ (0.9 $Y_{i,o}$,1.1 $Z_{Y,o}$)."
   ]
  },
  {
   "cell_type": "code",
   "execution_count": 24,
   "metadata": {
    "code_folding": [
     0
    ],
    "hide_input": false
   },
   "outputs": [
    {
     "data": {
      "application/vnd.jupyter.widget-view+json": {
       "model_id": "3306282d54174973834f2287e83791a3",
       "version_major": 2,
       "version_minor": 0
      },
      "text/plain": [
       "Tab(children=(HBox(children=(VBox(children=(HBox(children=(FloatText(value=0.1, description='$\\\\gamma$'), Chec…"
      ]
     },
     "metadata": {},
     "output_type": "display_data"
    },
    {
     "data": {
      "application/vnd.jupyter.widget-view+json": {
       "model_id": "a5941ec9ba444d26974a15a6ca3b26f0",
       "version_major": 2,
       "version_minor": 0
      },
      "text/plain": [
       "Output()"
      ]
     },
     "metadata": {},
     "output_type": "display_data"
    }
   ],
   "source": [
    "# Setting the nominal values for the input parameters \n",
    "out2=widgets.Output()\n",
    "#Harmonic Ocillator\n",
    "def clicked1(_):\n",
    "   with out2: \n",
    "    clear_output()\n",
    "    HarOci(gamma_0.value,cb1.value,k_0.value,cb2.value,f_0.value,cb3.value,omega_0.value,cb4.value,x0_0.value,cb5.value,x1_0.value,cb6.value,variation.value,sampleSize.value)\n",
    "def clicked2(_):\n",
    "    with out2:\n",
    "     clear_output()\n",
    "     Cant_Beam(Length.value,cb1.value,Width.value,cb2.value,Load.value,cb3.value,Material.value,cb4.value,variation.value,sampleSize.value)\n",
    "gamma_0 = widgets.FloatText(value=0.1,description='$\\gamma$')   \n",
    "k_0 = widgets.FloatText(value=0.035,description='$k$')     \n",
    "f_0 = widgets.FloatText(value=0.1,description='$f$') \n",
    "omega_0 = widgets.FloatText(value=1,description='$\\omega$') \n",
    "x0_0 = widgets.FloatText(value=0.5,description='$x_{o}$') \n",
    "x1_0 =widgets.FloatText(value=0,description='$x_{1}$')\n",
    "variation=widgets.IntText(value=10,description='Variation(%)')\n",
    "sampleSize=widgets.IntSlider(value=100,min=50,max=200,step=50,description='Sample Size')\n",
    "B1=widgets.Button(description='Run')\n",
    "B1.on_click(clicked1)\n",
    "cb1=widgets.Checkbox(value=False,description='Uncertain',disabled=False)\n",
    "cb2=widgets.Checkbox(value=False,description='Uncertain',disabled=False)\n",
    "cb3=widgets.Checkbox(value=False,description='Uncertain',disabled=False)\n",
    "cb4=widgets.Checkbox(value=False,description='Uncertain',disabled=False)\n",
    "cb5=widgets.Checkbox(value=False,description='Uncertain',disabled=False)\n",
    "cb6=widgets.Checkbox(value=False,description='Uncertain',disabled=False)\n",
    "h1 = widgets.HBox([gamma_0,cb1])\n",
    "h2 = widgets.HBox([k_0,cb2])\n",
    "h3 = widgets.HBox([f_0,cb3])\n",
    "h4 = widgets.HBox([omega_0,cb4])\n",
    "h5 = widgets.HBox([x0_0,cb5])\n",
    "h6 = widgets.HBox([x1_0,cb6])\n",
    "C1=widgets.VBox([h1,h2,h3,h4,h5,h6,B1])\n",
    "C2=widgets.VBox([variation,sampleSize])\n",
    "tab1=widgets.HBox(children=[C1,C2])\n",
    "\n",
    "#Cantilever Beam\n",
    "Length = widgets.FloatText(value=1,description='Beam Length')\n",
    "Width = widgets.FloatText(value=0.01,description='Beam Side')\n",
    "Load = widgets.FloatText(value=100,description='End Load')\n",
    "Material = widgets.FloatText(value=6.9e9,description='E')\n",
    "B2=widgets.Button(description='Run')\n",
    "B2.on_click(clicked2)\n",
    "i1 = widgets.HBox([Length,cb1])\n",
    "i2 = widgets.HBox([Width,cb2])\n",
    "i3 = widgets.HBox([Load,cb3])\n",
    "i4 = widgets.HBox([Material,cb4])\n",
    "C3 = widgets.VBox([i1,i2,i3,i4,B2])\n",
    "tab2=widgets.HBox([C3,C2])\n",
    "\n",
    "tab=widgets.Tab(children=[tab1,tab2])\n",
    "tab.set_title(0,'Harmonic Ocillator')\n",
    "tab.set_title(1,'Cantilever Beam')\n",
    "display(tab,out2)"
   ]
  },
  {
   "cell_type": "markdown",
   "metadata": {},
   "source": [
    "## Shortcomings of Monte carlo method"
   ]
  },
  {
   "cell_type": "markdown",
   "metadata": {},
   "source": [
    "Since this method involves evaluating the model at a large number of sample points, the computational cost can quickly become to expensive. Also, the rate of convergence ${O}(K^{-1/2})$ is rather slow. Hence, when applicable, surrogate modeling techniques should beof MC method is very slow of the order used to reduce the computational effort. An alternative consists in using variance reduction techniques or Quasi-Monte Carlo methods."
   ]
  },
  {
   "cell_type": "code",
   "execution_count": 25,
   "metadata": {
    "code_folding": []
   },
   "outputs": [],
   "source": [
    "# import ipynb.fs.full.MonteCarloHarmonicOscillator "
   ]
  },
  {
   "cell_type": "markdown",
   "metadata": {},
   "source": [
    "# References"
   ]
  },
  {
   "cell_type": "markdown",
   "metadata": {},
   "source": [
    "-  Lecture notes Methods of Uncertainty Analysis and Quantification\n",
    "\n",
    "-  The basics of python language are described here https://www.scipy-lectures.org/intro/language/python_language.html\n",
    "\n",
    "-  For the jupyter notebook installation you can see https://jupyter-notebook-beginner-guide.readthedocs.io/en/latest/install.html\n"
   ]
  },
  {
   "cell_type": "code",
   "execution_count": null,
   "metadata": {},
   "outputs": [],
   "source": []
  }
 ],
 "metadata": {
  "kernelspec": {
   "display_name": "Python 3",
   "language": "python",
   "name": "python3"
  },
  "language_info": {
   "codemirror_mode": {
    "name": "ipython",
    "version": 3
   },
   "file_extension": ".py",
   "mimetype": "text/x-python",
   "name": "python",
   "nbconvert_exporter": "python",
   "pygments_lexer": "ipython3",
   "version": "3.7.3"
  },
  "widgets": {
   "application/vnd.jupyter.widget-state+json": {
    "state": {
     "0022e5b3ad1940009b7286ee84a4e40d": {
      "model_module": "@jupyter-widgets/base",
      "model_module_version": "1.1.0",
      "model_name": "LayoutModel",
      "state": {}
     },
     "007416b2ec054648be83015e999b1ea8": {
      "model_module": "@jupyter-widgets/base",
      "model_module_version": "1.1.0",
      "model_name": "LayoutModel",
      "state": {}
     },
     "00cb607fed2d41f89c6f2210ebce399d": {
      "model_module": "@jupyter-widgets/controls",
      "model_module_version": "1.4.0",
      "model_name": "IntTextModel",
      "state": {
       "layout": "IPY_MODEL_f00205535a1448e0930c4080e7d457d0",
       "step": 1,
       "style": "IPY_MODEL_c68fe716af97460c8347c71edcfbf23a",
       "value": 2000
      }
     },
     "0151afdf3127437eb5e21fc9c3476ba4": {
      "model_module": "@jupyter-widgets/controls",
      "model_module_version": "1.4.0",
      "model_name": "LabelModel",
      "state": {
       "layout": "IPY_MODEL_51caa31575d34a8191d5cc8ec184922d",
       "style": "IPY_MODEL_886402cfcde54c04863bed18b731a045",
       "value": "Click Run to compute mean and standard deviation of the samples and Plot Convergence to see the results"
      }
     },
     "02256570fcec436b81730eb68c6d07db": {
      "model_module": "@jupyter-widgets/output",
      "model_module_version": "1.0.0",
      "model_name": "OutputModel",
      "state": {
       "layout": "IPY_MODEL_8de47aecbce94352a660ac1607601b67",
       "outputs": [
        {
         "data": {
          "image/png": "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\n",
          "text/plain": "<Figure size 576x576 with 1 Axes>"
         },
         "metadata": {
          "needs_background": "light"
         },
         "output_type": "display_data"
        },
        {
         "name": "stdout",
         "output_type": "stream",
         "text": "Monte Carlo error 0.0164073\n"
        }
       ]
      }
     },
     "02dc52612d54408ca734356f3dcc26d7": {
      "model_module": "@jupyter-widgets/output",
      "model_module_version": "1.0.0",
      "model_name": "OutputModel",
      "state": {
       "layout": "IPY_MODEL_b27544c3a9d8419da2aeea62be98d3db"
      }
     },
     "02ec9071e93e4bd080f6e06c77a64b93": {
      "model_module": "@jupyter-widgets/controls",
      "model_module_version": "1.4.0",
      "model_name": "IntTextModel",
      "state": {
       "layout": "IPY_MODEL_732cc0fdc9fe4459a2850d23369d7bf8",
       "step": 1,
       "style": "IPY_MODEL_6b91cb1579f74f41a97351e243e30868",
       "value": 4000
      }
     },
     "02f0314709fe40ba9e2484eae713a753": {
      "model_module": "@jupyter-widgets/controls",
      "model_module_version": "1.4.0",
      "model_name": "IntTextModel",
      "state": {
       "layout": "IPY_MODEL_0a33f7a0798a4c9a8c6bb5e6a48f1dfd",
       "step": 1,
       "style": "IPY_MODEL_dce3541fa2154e9db1c80e5413e2533a",
       "value": 2000
      }
     },
     "030e1abffbbf478792dc1dd725637691": {
      "model_module": "@jupyter-widgets/controls",
      "model_module_version": "1.4.0",
      "model_name": "DescriptionStyleModel",
      "state": {
       "description_width": ""
      }
     },
     "032cb4b095174ed5886b623491ae7d24": {
      "model_module": "@jupyter-widgets/base",
      "model_module_version": "1.1.0",
      "model_name": "LayoutModel",
      "state": {}
     },
     "036112e519664456b50ed9e7c6137b41": {
      "model_module": "@jupyter-widgets/controls",
      "model_module_version": "1.4.0",
      "model_name": "IntSliderModel",
      "state": {
       "continuous_update": false,
       "layout": "IPY_MODEL_40adaf2a52e1455890ad08c0bb6847de",
       "max": 10000,
       "min": 500,
       "step": 500,
       "style": "IPY_MODEL_80697ab39e0e4c6b9c5648a239a523b2",
       "value": 2000
      }
     },
     "03a960f6df694b0c8c235751d5869c56": {
      "model_module": "@jupyter-widgets/controls",
      "model_module_version": "1.4.0",
      "model_name": "HBoxModel",
      "state": {
       "children": [
        "IPY_MODEL_ccb98c0f6e3a425cb55c878189afbb35",
        "IPY_MODEL_216318f2a7e94b56a0ecc8ea99131b3b"
       ],
       "layout": "IPY_MODEL_3d6acd3423d14f1c97d5fc07ed5737d7"
      }
     },
     "04f05d2326544f81b3ba2573461e88ad": {
      "model_module": "@jupyter-widgets/controls",
      "model_module_version": "1.4.0",
      "model_name": "LabelModel",
      "state": {
       "layout": "IPY_MODEL_e5d2f3379bfc48d18a40b4a911394f38",
       "style": "IPY_MODEL_b15792ac4de44e0b894fbdd500ec804a",
       "value": "Enter four Monte Carlo Sample sizes to compare"
      }
     },
     "0522f923f7cb4dae8f8fcc2a8339139e": {
      "model_module": "@jupyter-widgets/base",
      "model_module_version": "1.1.0",
      "model_name": "LayoutModel",
      "state": {}
     },
     "0698bb3aed95467582dc4b32d9eccd2f": {
      "model_module": "@jupyter-widgets/output",
      "model_module_version": "1.0.0",
      "model_name": "OutputModel",
      "state": {
       "layout": "IPY_MODEL_07217176ea46445cb57a1f29243ba826",
       "outputs": [
        {
         "data": {
          "image/png": "iVBORw0KGgoAAAANSUhEUgAAAfUAAAHVCAYAAADo5GInAAAABHNCSVQICAgIfAhkiAAAAAlwSFlzAAALEgAACxIB0t1+/AAAADl0RVh0U29mdHdhcmUAbWF0cGxvdGxpYiB2ZXJzaW9uIDMuMC4zLCBodHRwOi8vbWF0cGxvdGxpYi5vcmcvnQurowAAIABJREFUeJztvX/Mbld13/nd9h07wlEHm9dtTeDGdkShjiqR5JYGkKam4wnkzuiaakzrkWCcN1QWpK5mlMk1tpzpYyONGu79g6q51TCU5rU7kRIIo6qe5kaWDViVMiHh0gI24b342qSNiyc8b4GOeFFpIHv+OOf4nvfc82P/WHvvtfZZH+nofd7nOefstddee6+99tl7H2OthaIoiqIo8rmqtACKoiiKotCgTl1RFEVRKkGduqIoiqJUgjp1RVEURakEdeqKoiiKUgnq1BVFURSlEtSpK4qiKEolqFNXFEVRlEpQp64oiqIolXCstAAh7Ozs2Jtvvrm0GIqiKIqShc9//vMH1tobl84T6dRvvvlmXLhwobQYiqIoipIFY8y/dTlPh98VRVEUpRLUqSuKoihKJahTVxRFUZRKUKeuKIqiKJWgTl1RFEVRKkGduqIoiqJUgjp1RVEURakEdeqKoiiKUgnq1BVFURSlEtSpK4qiKEolqFNXFEVRlEpQp64oiqIolaBOXVEURVEqQZ26oiiKolSCOnVFURRFqQQSp26M+TVjzDeMMc9O/G6MMf/IGHPJGPMlY8xP9n67xxjzXHvcQyGPoiiKoqwRqkj9UQDvmPn9ZwG8rj3uBfC/A4Ax5gYAGwB/DcCbAGyMMdcTyaQoiqIoq4LEqVtr/xWAb86ccieAf2YbPgvglcaYmwC8HcCT1tpvWmu/BeBJzHcOFEVRruDgADh7tvmr0KP6lUOuZ+o/AuCPe/+/2H439f0VGGPuNcZcMMZc2G63yQQtabxacfxQfRXWAaMC2NsD7r+/+avQQ6VfRiZTLbmcuhn5zs58f+WX1n7UWnvCWnvixhtvJBWuD3Xj4GPENTVMc/mmqtg16SuUojoolPiY/ezuAmfONH8Veqj0y7VzUFNn41imdF4E8Nre/68B8PX2+9sH3z+dSaZROqOlahw6IwaA06fzpl2SuXz76GSOmvQVSlEdzCV+cNAU9O4usLNDmuyY/ezsxNkSRxKq0Bsq/VLZK1Ubkup+RbHWkhwAbgbw7MRv/y2A30ETmf80gD9ov78BwNcAXN8eXwNww1JaP/VTP2WlsN1ae+aMtfv7zd/ttrREeejyPZbfud+USjhzxlqg+UvJdmu3m1+1Zzbf8bKfkjYXmnYqFaYmh66p05DQJgG4YF18sctJizcBfgPASwD+FE30/V4A7wPwvvZ3A+AfA3gewDMATvSu/XkAl9pj1yU9SU69Y6yCDg1JgmGF4pI3qfmXKndSUikl0NOVdJChaUu1K6mdEe5kdeq5D4lOfayCDo2/5srgkjep+Zcqt0gCPZ3ESL00oXLnvi4XpeVTpy4AjdT9z6G8jopk6ZfOmMKCUmbgMrqYOj1OlJZPnfqKWHvbX7qyJcMlYz6Fv91au9k0xxp6kkOY5nVJrFL27TK6mDo9TpSWT516AKULLZRqnZojqcutmF24JOxT+N25KZ/5cK5ETCvKklicVMpJlrWhTj0ApnV+Ea1oabnCLjgpnFukvtk0ytpsaO5Hia+uMpXxVFKczEwpjzr1ALQSKWNcYRdzvT8JRpRSRs5O3QcGPXwGIiiMUKceSb/di2kDJbTxS3DIAwcZXmZOGAkt8ZofjLqSOB81L/HkwtjAVOz99Jm6YKfeb/di5iu5tp+5DcYnPQ5+aihD6Qo2SS7BpPc0OcjgC6HMXNuFmhibQkJxP539LtSp93t5LrvBTRW4a6XMbTA+6VE3LCH3G15TuoJ5kaJlLqkAivyIKsAWQplLtAupOghcOx45IvWceVenTkBXoU6eXB6Gjy1czpE6lWzdfbrHrjENVekK5kUKB1YysxT5YVtYMxSQmTLJVP0oif0zKnLmXZ06Adtt49B9huFrhKoN73S52aRpG9mWj0QHNkdt+VkJa4vUl6CQWyN1YU7d2vgJc6kLPeXoQcx9pobLu1GPFEhtXJIhUSGihmAUybANAiZQp86E2Gftofdf+i01Yia21Yy0VsvacZkl5qNyctZn6mfjqe6ZGnXqAaQw1KVZ8bGRa45InVouJRMSC0EjdRHk7Gf5zmJ3MReJ/UR16gGkLujhUH7/eX3NFG2TXRPXB46K4kzOicG+UbVLOy6xWqpTDyB1Qa91SLpor9g18bVMDV6L0SkkdObisqzXh5CNB0v3z0vj6tSPQXmZnR3g9Ol099/dPfo3dXpLHBwAe3uNPDs709/FMsx3VlwTTyVk6sz7FtjeHnD//c3nksanZCG2Pnfm8vTTwPnzzXelzMbVdEu3q8Vx8fzcDkkT5cbg0pPUOUkV4FtgXIxPyUJsfU4VqXNcScQdOEbqpjlXFidOnLAXLlwoLUYwZ882Pc4zZ+J7lDE98VyRenEODoBz55rP991XUcZQaYERE6sjwToWLLoywBjzeWvticUTXTw/t6N0pJ5yksjUb0uz6DWynsF3+qxCB4fwKraSrHUyDCE1qix3nqAT5dKRcsRz6t6p17tXjcRFqVSUNhAOvU7qXjiHPAkjVGWlzXeO3G2yOvWE7O83y9H2993O9zFo30idI5Jk9cJ3HQ4HJZR2QFz0MIfvtGrqB8wrINQMSpvvHLlHT9WpE0BVaBLaNUo4V8Qo+hlbKlSq3YViWZvxhVB62SNDuAQXFOlJlHkMdeoE1DjknUP24DS4K7Yv31IDv6bdhSQy3AlqzQugR/B9DJgCKnV3Mqd6kVRHavNQp05AjXWYdbDBWrgBLsZRowHVQmlbY24bHCJ1qiLqZKZ45fMcqU1KnfoKEe9nQoXjmimuctUK9zkPPiM9K2OsOKiLKHWRa6SuTp0ciUNjJHBtIClmSNZCjvxxtYMOnzkZU1RqJ9yLjgOuTl23ia2InNuxstpttOg+tDP4yMVKoQnIkT+udtDRly90L9NK7YR70UlCd5RbYO07Mk3lX7ReOArPUSZKuOePu3wdUuR0pLLsJMV1R7mrcggjma5jvLdXWpIyTOW/CzRYV8SDg2ZP3oODo99zLFQRCo2gdP6mbKGDo02MUVqPxEhRuyTUqS+wu9vs0T42LLTUTsSS+v4udPk/dSqhLKkyOtVizBWqNEJ0x8GwcrPkPTjYRMFyKZW0j9rXaLZBuDx453ZwmSiXenIHp8kjSWVxuXnIBCGpk4rm5KbYspSTYeVCgi0ULJdcSccUw2onArdAZ7+nR/oSCTayuNx8rEZzUhAlc63X8Lc1dXZqp2C55Eo6xjFLXCNPiTr1TOQytNW3w2MK4Fjz+qRYtlSLIcTkoxYdrBApRcdRTnXqmcjlV0LTKbYDZo6dcKidH7WyuHc6ShKjm1JjxRxb+j5M5GMiRnWoU89EKgOmak9c2z/y0W2XhFM2zt29XV+ost2679XuKveSAtfc+kmI1IflnNJeKbZUSyBfiKq1L5sGdeqC6CpO/42OVBUjJviMenybI1JfSt/nhSo+nQAquX0Lec2dgBKM9aw3m+agLoMxW2BgHyHtUF8MjibLUSYX1KlnhmJWZ98H+dyP0kjnKqS4HngpJbpSOhKT2rqVJFUlGOvZ5yifhTRiReDYZpCPSmZCnXpmKGZ19utzSNoUr+6ey4cEw/dGUqaoh/M5trjcSW0vucskcXocq5fLqCRH1KlnpqTxjo00h8rDsRImRUJtdoXBcK0SSe4yKWQD3EyPmzxjqFNnRmqjET9UXgputVnCBDKlDBzKN0KG/qVcRgQ5qNSVrE4dwDsAXARwCcADI79/GMAX2uOrAL7d++0Hvd8ed0lPolNfcrLUxsX9cbIyQe7emBZ+GCX0xqGnHiFD/9I59eXMJmVaqU0im1MHcDWA5wHcCuAaAF8EcNvM+X8PwK/1/v+Ob5ocnLpvAS6dHzXTPJLotHNPd5XqiFzknjonVZ45OIpSUMxuzak3DnZPFKknSiKZTC6kNomcTv3NAJ7o/f8ggAdnzv9/APw3vf9FOvXQAnRts1MbCOks9/4FORo71y7/GKlaDJf7xugmlV45OIpSUMxu5ag3zrJlZE4NKVRUU6R+F4CP9f5/D4BzE+f+KICXAFzd++77AC4A+CyAd86kc2973oXjx4+n0ZoHoQXo2o6UnGRLHqmnfLbg2zCnco4u95X0vHwpPUmOI/foR+40hqx59KXHnBokqiinU3/XiFP/1YlzPzD8DcCr27+3AvgjAD+2lCZ1pE7Vo4sZXc1NVjl8axCF0ikbckkFS8VSmfmUaWnd5J7QUjrt0vqOhEr83JF6algOvwP4NwDeMnOvRwHctZQmtVOn6tFJ7P1lwTd6pxgW3WzoCmONBUsZqafQH2Vvu5Nvs8nvYFdgW74OdAUqCSKnUz8G4AUAt/Qmyv34yHmvbyNx0/vuegDXtp93ADw3N8muOyRF6qV6hOx7oqTj/yP3pWyg2SuTORT6c5n4EZpOio6gb9oV21bKgTpXJD35miL3kraT7VK15wE81H73QQCneuc8DOBXBte9BcAzbUfgGQDvdUmPw0Q5F7Zbv+3HKWHf201VU7jUwCEc5JL8GGFo0GNyxho9h7zXNmZseYgdYxpc2tKsTj33IcWpd8ZAsX2rL/v7Tbr7+3nTXTWpHilQ4SIDBznHkNwhsdZdtrnOC4dOC2cdz6CROvNDilMvaQxJ2+YuY6Gb1aeAQ81L9UiBCumOUTKuFXLuMUNs2VA0CinnHyizqFNfOSRt89RN+kMQXKK60pOxQs6XyBrymILQyTmU+qaM1EvMP1g56tSVeKYc5Voida5D0SXhPhpRAxLsrnBZ50iemzm7OvVjUJQpdneP/u3Y2QFOn24+d39L05eJiqn8r5k5neztAfff33zmYhcSUbtbJIep+aRxcNCcv7vbNEVFcfH83A6N1BVSOI48SIRbaEMBx8llHPRceDSBW6SeQx3Q4fd64VCnq4LjHIEakbhci2IJC3WLz2Xh92bTHAH33e4f2DMnP2O3+wd0MhUkh/mqUy9I6gKW8MhNFLVH6lwcZje5arO58jeuRk2x2UTpSD2VbiPue+bkZ5pLT36GVqYEcKk+6tQLkrp94mJkWeCcWW4zk6fgsDLA2nmnzjmKL51+LKnkj7jvMFLnrGIu/U116gXhbKAs4PawKhRK2VLmM3Q51Rwh8oZWDM420Gcqf5w7LEwoXcShRZSz+NSpE5Oz8MjT4tZw+NTgMdlL5ofzGmIKXMtGdIVIxJTu5nRa2pu5kEH/pYs4tBhyFp86dWJyFh55Wv0blq491sbLULIhrP3ZSun0h3CTZ47UkbrrudQ6k9DxiCRUZRqpC3bqsXupp6i7QYnXUEG5ROopiB3FqI3S9spJx666oNYZJx2sGHXqxMTWk9Jt08sMK6hW2AYuD844zjeouRO1xJKOUz2OWUqL4jxFFOrUI0jxGDdbPfNNiE1vw5OcQ4xcdZTLqIb55+40cs516Osm1E6W0uCubyUL6tQjyNGGJ6unvsJLbTBiCsm31+aiI6l6dGGYN66dnA5q23A9P9QGluQtpW9BNi1I1GDUqUeQw0CS1dM1WLe1cflMEVFxd3RjSJgdFEIJ24iBa6QuKECQWP18UafOHDL7p7oRl4Y6hxwpIiou+vOhZEvIVV+55OKa/z7MH+XlnM4wlmZu1KkHIKGeXQFVReruE7PHNQWx+UlViNtt1F7Xs/dd4yS0NYRWc9SY/8z2VEKFJYtNnXoAIusZZaTO4YUmsflxLUQuUYhIoyNAZA+akLXnn4ASKtRIXZhTX309q0EBrnkYc6axk+VCZKpB50q9pBz5Urv3Qp26UhbuD7nGrksdjW822pAptLg8FuI4cTDjCFWq/nhu1KkrZclVaSnTSR2VdG8pW9tQe82UmK3Vp7P/ufkwOZb4jZ3nMkKV4XXHMdnn9HRMnbpylNyz5EtG6py619aON2DcZFTC6Lf6KZ3n1O9dpH7HHdNpp7C14T3HRqNc9JHBa1JG6vpMfSVO3aegixkFVYPDqes6BTcZx+ThJqMSBlWkvmQPS7/nbliG8oyNRrnIJKLxvIzOfl+JU/cp6GJGQdXgMKhY1tr5xpSLjJ0sY888U8rIKf9rgELfoZF6KeZGDlLJSdR4Sn3Grk49I2w6m1M3d33FXImKGgrVsGdqSsjGWR+1EDN6xbE+SYBIb1Krhzr1NTJlrd3685Mnw67nSK5IPfZeJRpwdRrpiRm9klTPKiTHwEoK1KmvkSlHFxupL/3GDcrnj9oA0yHJhpaQOoY7Rk15yUSJZkGdegRV2Cm11UlybksF6JOXKoyBCZJsaE3ElEvOMmVUFzVSF+bUKey0+ONp6oQYVaho1qabTr4Ma4Kd5OCoJ86ypUZKpE7YgZBY3OrUI6Ao8Cn702ClQrgXaidfqr39pbWQY/JyL8OacbUfws6pxOJ2derHoFzBzg5w+nTz+eAA2NsDdneb713Z3T36d+l7RTDcC7WT69Qp4Pbb6eXc2wPuv7/53FUczozJy70Ma2bOfoYN8OnTwNmz0fZWdXG7eH5uR86JchJ7dAoTSkewudIvnU9fpMnLhRR6m9rHoWOsAV5p+cExUr+qdKeCO7u7wJkzFfToDg6aHu7BQWlJ6sBFn10EsreXT64S6XcRlM9QVm765SVBXo6ksKe9PeCRR4Drrhsvj7EGOHP5iWs6XTw/t0OXtAWgQw60uOizdESRO31O+wMMWbv9++pz7PxUkTrzqHvOdHKKD50opxxBQOVJQqrNY9agz5KbqlA74drLi3IZZ8j5FTOn2pxqUqeuKNbG17o1N26+eeccqVPAUaYOyg2XQs6PhbNuZ9BIXZ16eoRWjmSkitTXgOS8L03ACqG/NJCbTkqVFVW6a+48O6JOfa1weQCk8GGN5d7VA8qdA7fb8bX+NeuXelg/NJ1CcBJLnfpa4fIAKAecahxncpQ7t7LwjdRddbS2jWuoh/VTkFCGfvZLZ1WdunIlpa2SGi6NKfch/hzlzqUsQonRUW31qo+EvCW0vX72S5t4VqcO4B0ALgK4BOCBkd9/DsAWwBfa4+/0frsHwHPtcY9LetU7dQkViQNc9BRT26eGdLvfOOTPBUmy1sbadZ8p/7lW+U2RzakDuBrA8wBuBXANgC8CuG1wzs8BODdy7Q0AXmj/Xt9+vn4pzeqdeukuoeJHTM2em3yldkALVQs8vE9pp1pylcLK4bikjWLv9zcBuGStfQEAjDG/CeBOAH/ocO3bATxprf1me+2TaKL+3yCQiycum8nv7gKHh83R7YCl8KX/sgBf+ptQD8s5doPq0BcX1ArVHvXD+5Te+97XTkrKG2KTjO2Y5R7yLp5/7gBwF4CP9f5/DwZROZpI/SUAXwLwSQCvbb//JQC/3DvvfwXwSxPp3AvgAoALx48fT9cdSo1r106jtDLUFMWM2VAN+QvNQ62Rui+u8qbIV0i7pm2htTbv8Pu7Rpz6rw7OeRWAa9vP7wPw6fbz6RGn/r8spSl6+L1khZJCybwPGxDJ5VDrTG3O68VrIoWthNQnyXWQEFenTjH8/iKA1/b+fw2Ar/dPsNb+h96//wTAh3rX3j649mkCmeQTM6QrnXPnmpc8HB4CDz+cN+3heFrpodUYxmyI5XihJ7u7wNNPA+fPN+XjUy6Mh3LZkcJWltq1sfJZc1sYAMVb2j4H4HXGmFuMMdcAuBvA4/0TjDE39f49BeAr7ecnAPyMMeZ6Y8z1AH6m/a5eSr+5S5ln+Aaoal7T1yLlDWVzr8ba2QEee+xoubi+SkvrnzslbEXLJx6XcH7pAHASwFfRzIJ/qP3ugwBOtZ//AYAvo5kZ/xkAb+hd+/NolsJdArDrkh6X4fegUSEOQ0lzMvjKlyI/HHTEkRRbn3LFd+jXdUi+FtuqJR9DCuaLe/WCbj6THjaPJ30rwpzgoY1pcSWsAN+tTyUT0rmcWu9fIxT1jsKBVtS54F69XJ06xTP11UL2yCn2OV83ZHV4CFx33fJ95gT3zVQNz2h9KPlMtlvq2H0ugWv+ffTUnXvqFPD445ev8XmO2g3Jd2lKxVVvFPWOYr4I1ZwTBnMdOFQvElw8P7eDS6RORmyvu+stbzZ8u5lzSOrtdzrebEpLcpRcOkyxJLM/dC7RfkMpvTohZaROOXqoWGs1UpdFbK+7i2oODi5H6gx6vs5InmHOhVw6dLVVH5vuzjl1Crj9duFhkgdjZZZz5ItiVvnUPVztsT9KAxQpe0lNpRMunp/bUV2kngJJPV8JkXon4/4+T1n395tId39//HcJOl4bNZeJa94YtFMMRHACOlFu5eRqMNaymQT3mr+0aQ53+WtEop3noK8XBpP1pBSTOnUlD2vZ9pF7zV9y4kvyl85f6fRTINHOp6AsH2q91KTnGdSpR1Bj+5KMtUTq3KB00hyWg9XYMNdk55TlQ62XmvQ8gzr1CMS1L7UYdap81KKfPpRGWmovdephWIWOYXlwLR+uciXA1anr7PcRxC29rmX2eKp8+NxXylRYSiOde/1rSoblItl2a2NYNlz3X6+l7aPExfNzO0Q/U9dtVadJNZTvM3Nd3DCNYLQulMGnznDXoxQ5CYAOvzNFnQYtIZuczJ27okaiSubKeK5s11TunY42G338IQhXp67D77kRN7YP3kPSoZucnD07nh+uw4wS4GAnc/YwNVR7cADcc0/zKtfhb9yg0HGnm8PDy/oA0g9jc7CPNeDi+bkdoiP1Obj2lmsbXagtP6nhvJGIT52Z2qAn10RBivqdahZ6jran1IRMF7i2vT2gw+8C4Wr0Agzei9rykxpXR1JCr0uy9WWaOjeX3BQOWbLtclg6OYWAjr46dSkMe8u+Rs9gRyYlEu76p5Qv9xrlfmM9dm5O3XMv5xB8o/3SOphKv7RcDqhT54JPo+Ny/tL1ISxFMGOzxgVUgmgkRXBSyJ1X3/q3dmLaH066nMoHJxk9UafOBZ/hwRBSRur9xwHDPAiuHEeY01+uPErpIPksDVy6B5cZ1xxk4ISvzXMrz47Sj1oSoE6dC4KNyG63zbKX06ebvzVG6qFLoNbIXCcv5n6ldF+yfLnaFle5fKklHz3UqUuGk0HWEpFPwUnX3KGI1MfuRz1Kwnm2Poe0Q9B6Uhx16txxadD6m0OUQiuzUoIYu+M8W59D2iFI64SMMdS5sDJQp86duQly3efNhk9FmqsAKSuHsIq3OjiWD0eZrKUf6cgJV536MGxzhXVU1KlzZ1hJxgyMU0WaqwApn40Kq3iLcCpTX8Zk51A+pTqcvlDPSVD80Eid71GFUx/C3cBCG87QRl9yVDNHzOzi0nDteIZ2OHMwNgJXm00rWVCnrvjh0ziPnTt1fWijX7oxToVvw06hByrHy8GBj8E5Uq/VjpXsqFNfA64Nlst5Po3P2Lk+13dL5YbL5HxllkzOyVzqWMpRux0r2VCnvgZcG2uX83yeN/lE6nPycHU0OYZJczb2Uy8yqRV1pLzgWB5LMjnInDtb6tRzIWFZTIiMKaM7l0i9JLVNaIqd11C6jHwfDUkrNwltSAxUbQmlrEsyOcicewBMnXokY/NbRm0pV8nmrvgp0gu9Z6m81zKhKbTzx2XYPuTRELc3Hc5RUs850qaqv5SyaqTO68jh1Pv2M2tLuUqWSwMbQqej0HX33XVdZC/F0UqS1dorbYyL/D6PgrjI7EPtkToVzGVNLZ469UgWI3WNHufpy9sNh4bukNd36pI6N5JktZZ9oznKmI4l5sNaHnK7DlFykJUZqau7OvXUlGiwUz4vpK6kw+fSMcOhzs9CmCFJVqmM6VhaZ6qjk9u380s5t2ZsiHJMHqk6TgiXSP0YlDB2d4/+zcHeHnD+PHDyJH26e3vA/fc3n0+fjr9fJ9+pU8Dttzf/7+zE33dnh0Y+ADg4aPJNJdsQSllzk1o3VHQ6PjgAzp5t5C1RNyno5D089KuLS3W3K8vDQ+CRR+bvO6a7MXmk6jghbKq7i+fndrCI1EsQ0hVMOUM+F6miAg7RBle9c9CND67yctV3H18Zl873GQEYu1cNk3Qp0ihsO9Dh95XgWqGlNM5jpKpMlPcNvRd1+VDlSYLz6+Mqb8n6UEqnPulyaC9yyBCSRu+aEkWpTn0tLBmntMZZKqENUaq5DDmW/UikZJ44OMwlOJR5jjk0kZF6iaJUp84ZDhFibZTWA/WQKZUcMelIcEKSKG2j3ORwgakNaqReg1OnLMXchsqpErvIEiIv08o/SS55Y9LhZDdrIYfOJdWVlPoQZt/q1KmRPKzJqRK7yBIir7AKmm2iDmXkTkHp9LkztP0U+tIyaODULjqgTp2aHM95UsFJ3lSR+hqgaIRKN2RSRg64TGorXV5jMnHGp32RspFXizr1lIxVNEmGr6SHa4RV2k4pnvHn2Nfdx5nWPkTMoWPRZ04nqUYCGZDVqQN4B4CLAC4BeGDk918E8IcAvgTgUwB+tPfbDwB8oT0ed0mvuFMfMyqhhqIkQu2Bnu3Wb0fFqcaferSo9rJO3bHwLY85fVc8EpjNqQO4GsDzAG4FcA2ALwK4bXDO2wC8ov38fgAf7/32Hd80izv1MYQaipIITvbgKgsnmaegcLbUTliC3pYomQff6LoGfQeQ06m/GcATvf8fBPDgzPk/AeB3e//X4dQVWnJX3FxLzFITM4rEJeKkirZiInXJSFs9UnF0TUlOp34XgI/1/n8PgHMz558D8Mu9/78P4AKAzwJ458x197bnXTh+/HgyxWWjhJFKqhgpG5mcj09c7ktZLjHzPbg8sw99LirJvq1NJ2/I3AMOnc+Q66SVeQQ5nfq7Rpz6r06c++7WeV/b++7V7d9bAfwRgB9bSrOKSL1Ez5hLJOZCysoa6xCoz6Usl7H0cjZ8FHkJjdxS2HduOwylL6fv3ANKXPUVmvfhdZLatEjYDb8DuAPAVwD8+Zl7PQrgrqU0q3DqJYYGpd6bmlhZpT2TzeVofc5LQYq0c48YhTKUs1Q5uOpLI3Vvcjr1YwBeAHBLb6Lcjw/O+Yl2Mt3rBt9f30WOpQkdAAAgAElEQVTtAHYAPDecZDd2VOHUp5Da85QqdwgpGpKUQ9+5hsRrRIrTSC1niU5dzL2klJsHuZe0nQTw1dZxP9R+90EAp9rPTwH4k+HSNQBvAfBM2xF4BsB7XdKr2qlLNUYJkRxnKJzmZtPcY7OhkuoyHEd5qGVS25ymxHP6mDpRYSc0q1PPfVTt1H2Q2Ahxqmyc9Echy+nTjW5Pn6aTa4rUk/tSXpfrfktwsr8lQp7Tx+pTI/UjqFOXiK8hcnKQrnCqbBL1N0fKSH0I5ezz0Ilx0iP11M+fqfGVg4vclaBOXSK+TkYrTRy16S9nfnLNPs9xbypSOT0Jea8B5u2BOnVpbLdNhLXZsDUqFjCveKuG+2Q/KqZkSeV8U+pVafB5vFCorVanLg3tjbshSU/akPpTqnx9ympKRs7lLanelKB7dHXHHe4jJ5n16erUj0Hhwe7u0b81c3AA7O01ed3Z8bs2Rk8x6Yawtwfcf3/z+fTp9OmlJJfuStUDn7KaknFnJ005U+heQvuSu36O8da3Lqe9uwscHl7+zA0Xz8/tYBWpc+6d+5IqL8P7looadHZzOJ3uNps6J0txlnMtc21KjiYI0Bl0+D0TNQ1rpcrL8L6lZi1zXGvNKf25e3S/dcOUuZY1+cqZk1xyrGFVjLV5VjgIRp16Lmqa4JYrUqe+79DRlGhsSzekFOm73IPDsqbSuuYmx5CaHCFXHRdAnXpO1PAaSq3zHQ4J5yqPfjqlG9JaZ0hzjt64yCGV0P0JVoo69RRIWG7jA7XcXJ5Zcx0WVfzRDnO9aNl6oU49BZ0R+ux/3IfbUL1Ppaq9Vy1Z9prRcplmSTelO71LcJGDmywTqFNPgc8GBWMUWt84CcXaXK6sZXKRtSIapCA4TIDkzJLNTv0uzdZzlK8AnahTT0WMgaWI1Gscau7S2t8PT3Mty4CsFdEgBeGarxrz7zsy5jP3gJOtu8iSo3w56WQCdeprocYGrf+YIzRvAiopGbXmdc2Rum+9ltoOpFhxsYRQe1GnvhZiRw44GjdFpK4okim9dLDkCGDqtMc6Elzbwh7q1FMjwAiOMCav1N69osRQ+6RPCnK2DUNdp05baFuoTj01AozgCL690+Fva2/klHpwqbtCozlnQmfOu1zry1DXJfQsoGzVqadGgBEcIXY2+FxDyF0X3OVT8hIaqS91Bvb3m3kg+/u08qYgJiihDmhy1M8K2gB16kocPpE691GLTj7fl5Eo/CjZOC+l3U3sPHkyT3ox1+Wci8PBoca2UQzyoE59bXBu7ErTyef7MpLclNKjJNvh1oHsy08dqYfmlZuOOMgTYuP9axjkQZ362qA0ulqdC/fOR6mGo2SD5Zt2yug1hJS6o85rrfU6Vfr9si2dB6tOXQaUhkJ5L0nOhUFlI2ONjW6utFPZtCT7o9CBpPx2hOY7NronRp26BBgM6YxSauJKSLpcdajwQqIzooZCBxLrW86yT6gfdepcyLk0RBJUxl9ahzFLgxQ5rLEcqTreUtFIXZ36KCl6bjVUrFqGfJfKV2JkUws1PJIqyRrz3IdZ/tWpcyFFJJfT2GroQAzJOanQZ2lgSmosxyUonyGvccvimmyGIuouPOqqTr00roXMfXLYUD4OFT12WLBkHjp95l4zPzeTt3SZpkqf0zPkGFl8r01ZnqVtJRSKcpy7R4ZAS516aVwLmXslGcqXM8qdYkwGZkNlk3R5zr1mvq/roa5K6843feo6kyMCi+kc++on5Sz3UrYSWw4U5aiR+sqdemghS3PyS9/PnRPaQFBO4FnjcLj0SJ3asXQdrM2G5n5jbLfN/Teb8Y7V0rW5I/Up+UrZSu7OROk6MYI6damUjppCcZGb41C+VH1zImc5Dp1jyPVDWXM4dWvnH4G4yJmT0ukPyS0Pw3ZBnXpppEWOsYRE6hzgKJMkttvLe57naABjG9ux63PZQKohd7XhBko9MNSpOvXSMOzpKQo5nZ2fPJkvUk/9bJVDg57ymTtXYvVeix4mcHXqx6CkYXf36F9FPgcHwN5eU6Y7O6Wl4UHfzmN14qLfnR3g9OnwNFyu39sD7r+/+RyTVgw++aylrYnVe249cG0PXDw/t0NEpO4Dh8hgCSkRzhIxMlYeCRSHi35rsfUcVD7kba1lsxIAOvwuCA7LxJYImQjHkRgZuTY6tSBJvxJsPQdrePbPZCWAOnWu7O9be8cd1p4+nWZJEcVEoNAlY7krbUh6/WukNjI1IbUMOMpdImqmePbPUZfWXpaLyW6C6tS50s0UTrU5xNj3vlGFlGg2xUxoa/k2MqFwzg91xMs5r6mZ06VPe7F0r1CYDGM7w0wudepcGYvUQ0g57BVzfs6KkGomNLPK7M0wX5zzQ+2EOec1NXO6nNILh44t144YM7nUqfuQY5iF2kA4GVy/YYgdEudA6OMHLgyXmUmSPRauj1dKy+IbqSvsUKfuQ78RTNXLrzmCiG0YSurGVXZJ5bfd5t0QpqRjCIlOS8BJFkUkWZ06gHcAuAjgEoAHRn6/FsDH299/H8DNvd8ebL+/CODtLumtMlKX0KMOlbFU3vrOb2nzFGmRjqS5DT74PFrgVDY1j9RZW7YOc9JDQrI5dQBXA3gewK0ArgHwRQC3Dc75BQAfaT/fDeDj7efb2vOvBXBLe5+rl9IU8Ux9jc8KJcjYp5P3DW8Il1tanlOQs8M61PeKGvUjpLY7X72Wqgcrqn85nfqbATzR+/9BAA8OznkCwJvbz8cAHAAww3P7580dIpy6q7GlWDpCReoJdrkZykcxQsM1zznk2m7jXq7SwWnSpxSodD+8Z+iE11oidcb2ktOp3wXgY73/3wPg3OCcZwG8pvf/8wB2AJwD8O7e9/8UwF1LaYpw6tye1YYYa2294NryM0eOvHZpxDrklA0ppR64NfgUeZty5NzymgvGbYSrU6fY+92MfGcdz3G5trmBMfcCuBcAjh8/7iNfGVz3bs61X3HIvsrc95T23XuZe34oyZHX3V3g8NA9nSkbjN3Pfc4OKPWQc0/4gwPg3Dngu98FXvEK4L770uStn6fhPv6l9r2PxaddGJ5bQxvh4vnnDujwexqohxlr7Hkz7lUrI6SyQc6jXaH0R0FSbVS19BsVudseH3sQ1IYg4/D7MQAvoJno1k2U+/HBOX8XRyfKfaL9/OM4OlHuBdQyUc7aOGNeMjafWcA5kPDMX6EnVxmUdky56Z6Znz595XNzKZPYhulvNuVtJebcwmRz6k1aOAngq2ielT/UfvdBAKfazz8E4LfQLF37AwC39q59qL3uIoCfdUlPjFMPqUzDyVtTk7hCZgGnMODunpsNbcNRKj+KH7kcRmnHxAkpk9iG6VO3Eakora8Jsjr13IcYpz4123rOWIaTVaY2EeEy8S1VL9xFVpdzmFbQauAQqa8NCboYk9H1u1Tpu8K0A6lOnSNzxjK2vKo7f2ljFFdSRuo+HReX+7ksM/PtJOWGU+O7v9/Y0f5+aUmUNeDadqWqnzH39WmDMqJOnSNzjfyYEaZ2CinuH1tJqSt5ScdKlReKPPR3zqO6Z2lqyAMnKPU5N8qYKk3q+zKL2NWpS6NEA5XCaKki9Roaaqp5ARTlNIzUOZa9L8waXfHU1KGmgJn86tSpYFawpNSctxC4dqxyPDahgNIp6ETJK6HK79R9XO+/Nr0zQZ06FRoNrIcSZc29gSy1PIhzvStVZiErXlzuEytHKCHyUz8i4Fz3BqhTp2Ku4IUZhRhK6VXL80pKOVfOZcFFJ6FycHlEFjJKRal7zh3HEdSpx7Ddur0sQZhRsMJ30qBSBs7OtRRcdMJFjj7UIztUoxNjCFsRok49hs6QdA10OuYct+o1PapjJQWSJtv5ylq4zqhTj2F/39o77mi2aNRGLw2lntXmgrvM0kZDUk8SU2iQpF9fWQvXGVenflXMy2Cq5fHHgaeeAm680e3tX6U5OADOnm3+lrg+hO4tUC767d4ktbeXXi4quMu8uwucOSPnbVRU+uRaLjnrcMr67lOvS+Mrq5Q64+L5uR1ZnqnnXkIUkyaX2aypkNT778gls0TdhCA5Us+xF0F3vcvuk90e7JvN/HnCnjnXDnT4nRlLlTamUnOZzSqJWvLMvUOm5NmLYLt128HNWnenPtyFUCmKOnVupIzUJcEln7U4Qy76VKbJNcrg+nt/T/O5azRSb2DSdqtTrwHXpXWSGHOmXIdEuSJZdg5I1V+Kx2y1dG5TknKU1QNXp36s7BN9YRwcNBNsdnfzTATZ2wMeeaT5fN11zaSO3DJQ000y6U826SYvAU0ec9BNkilFvxwBvzItoa8O6fYHHNXf7i5w7lzz+b77eOdprO7EXh97zzWwpCNuOnTx/NyOYpF67l7tWKTeyUD9/vKSSI2cYujbkqT1sjVEdn39ue5JEXp/RQYCygwaqScgd49sZwd4+OFxGQ4Py0Vr1JSOmkswFzUtkVNfw8icW1QSQl9/u7tNXeo+hzDUUamRlBpGUaZInbeSo1/UuHh+bsdqnqnPIaBnqVRASGS+Ntsc28q0xFyYGkZRpkidtzmbZWLP0Ei9ctYY3daGhMgqJDL3iXok6GCJoY52dpo5MPffD3zuc8Bjj+XJG/dRlJiyTp23ufZUWhTv4vm5HRqpK6SU6onXGln56NN1zbQ0tttmq2lpeeO01zoXhEXquk3skBJbpnKFiy5Sb4E5tnUoxbadDz/cHFP3kLLtpC8u2292+v3ud2nS5GKrHTs7wFvfWloKf1Juo5va3lPYgMSRJBfPz+1IGqlL7U2mgIsufLbApHoGTLUmmIP+QvCNTkJfjkG1ioOLrXb0n6v3N3vhDpOoNAifdsL3ngzsCrr5TCCSjZqaVLoIcRiuW2By2SOccrJUCZv0bcx8nTR1njjU27GlclNLFjnIWwLXfIfox6ed8Lnnkhy6oxxzp07BWivsGFRRcC6dciy7EtFCaKTef0bOTY+p6ZdTX3/UI0EcbdQV13yH6kdCBzgQdeoxxO71y2jIpjjSohSOZcdZX0OGzp2THlPjU04xZcrBRkPlTxmpl0IjdQFOfanSLP0uySBTI00X0uTlimQ9cpedg3y5OxZLIx8u1wlHnXoMIZH61DVSh41XWnGUCSSXcegkvhpGGbjMi4llaY6Cy3UhMLJ7deoekJTblPHkaiB80nHJcM6Ko/BHchn7ys6oIY+mln0ASkXqjOze1anrjnIg2jBoasejXLs8dXtYHx42ayvn1lS6ZNhHbu47WZXAZX1riTWwwzRdZfCxL2742qfu1siPYZm4lk9sWbraDqf17C6en9vBMlIvie/kJPEZFoBLD79EBDlMM3RERsqEJ59HZTH35EYno6Q18tKYWsKYCOjwuxCGDURIg9EZ1BqXEXElxfpWioZjzN5c19OHNGKlhy/H0o+d6Fo6Ty5IkFEi/c5Sf018ho6eOnUpxEROHRIiByWeVOU8Z3OxE0BL22ZIpJ5idUuMHnKnVxLucne20Tl0yt3rFlCnLoVhpKSzzpXcTDm+zebyS0lqjfhSDM+PERM5h14rsX3gPrGv4GMNdeqSCI0MdIhNSUVnW5mjESdCZ0KPkasO5Y7UrZXZPuR26oI6Pq5OXWe/c2BphuXYbPWDg2Ym8mZz9DpOszBrgFKfksqmm+0OAPfdl07eEJ109eHwsHlf+fnzzfchs5xzrdyImYUdem2uFQuUdn3ffc276KnLY0pGae9Kd8HF83M7qovUlxjrTZZeF8+F1D1tisjBd3XCmoiZQ9LpM8VIgqAIbpYcKywktDlTMi7ll5EdQIffBTJnQK6z5BkZYRZSNygUTl1XJ0wTs0ogpa1LcFR9qHTUnwjmeo2ENofiEUbhfKpTl8hcQ5KjkclttBSTlFLLTHF/CY0eZ0o42BxlRpkGlY62W/rXl0pkbEJc4Y6eOvWUpKrwPpF6CnIb7Vh60iKkNVC6U1I6/RjmZKe0dcrJg5L1PQbVIwWN1Ct26qkcj+/zHWojkxiph6Sh+KEdrXDmdJfKNkuP6nGrcyEOmlserDr1tJSqjMPftbFdphYdlWxkGDZw0eTKE2UEHZJmKko/KvTBZ6IxY7I4dQA3AHgSwHPt3+tHznkjgN8D8GUAXwLwt3u/PQrgawC+0B5vdEk3l1PP3paVjtR95clJqCyc8hADw+HAKChlpxpeTY1ARzJJt03q/v6Vv0mwSwkyDsjl1M8AeKD9/ACAD42c85cAvK79/GoALwF4pb3s1O/yTTeXU6+pDgbBSQFDWQRWyiiWog1p+qC0rZB7ldCXtDKag1PbsBJcnXrs5jN3Ari9/fwYgKcBfGCwDv6rvc9fN8Z8A8CNAL4dmXZySPalkLThyBBOr1QdylLjphFzjG1A0teJNH1Q2FZXt06d8r9Xider1vRKV05tQwokt9sunn/qAPDtwf/fWjj/TQC+AuAqezlSv4hmWP7DAK6dufZeABcAXDh+/HiivlACtEe7TEgEUzrqKZ3+EG7y5IBb3eJSBlzkoKJEfrjZliUcfgfwFIBnR447fZw6gJtaB/7Tg+8MgGvRRPp/30Xo4hPlfKitgrngm2eGFWgWn7W8HMqfgwwp8M1Xaj1wsWMuclDhmp/S8zQSQ+bUZy9unPRNtue0J877cwD+NYB3zdzrdgD/0iVdUU49BoaG5YRvo5IqUk913y5/LrtucWhgOcjAgVA9uNoRl/rKRQ4qXPNDZecR+kup+lxO/SyOTpQ7M3LONQA+BeB/Hvmt6xAYAP8QwK+4pLsapy6xMd5uj75KNhUuugnRn8s1PjWXQwPLQQYOhOpBYj1cI1R2HlHeKU0ll1N/Veuwn2v/3tB+fwLAx9rP7wbwp7i8bO3lpWsAPg3gmXY4/9cB/LBLuqtx6twaY58olsqqp9J0+T71s3pu5aOkQW1CBlS6X3OkXuoo4tSlDcGlgDqK9U0zplORolw0gkuD5Dq0FpvgWEaV616deiCTtupqMDUbVum1vTGdihTlwrFhm0OKvGNlRSF7jvxL0XEsXRlxevNg5bpXpx7IZNufMlJf0yhAruH04bkpdSelXKR0OMf0SSG7zwRHZZ6ujLpXE3O3qQpQpx5IkfZ5TaMAU3nw/X4M16g+5SMCrnQTGE+fTj+JMQVUkbq+VpQWKR3aClCnLgnXaFRyBepk77+feOx31+/HcH3+HuKEpZdLP0pdi1MbKxcJZZWStec/A6lUrE5dKqmivtKVOUc0m/Ixhu+EvVTEPo6Y6lRxYI0jKJTETCRNlR4FFB3+jKQyO3XqUol5bjxHrKXFVqzYuQalK7DvhL1U9NOuzWlR56e0zVBAXccpdZLL/igezWVEI3VBTj2osFI2LCHPm0MjtalJRikrFlcHJjFSl0Bt+aEgdE5JKkrYX6lInZk9qlNPQJBfSRl9hDwzDJVnapJRSsOv1YHVlBclLdxshVPnOjXM8qpOPQEsIvUxQ/MZGo6Rh1sDIxVmjYWiOFOiDSjV7oykW7IJdHXqse9TXxXer0M+OADOnaMVYuw9xv13aS+95zjmnc41vQ+6JLW/i5oz/fdkA3LfmV2KEm1Av33LmfZIXkuJ4oM69ZTs7QGPPNJ8vu46GisYq1R9J6GOlz9aRuXot8pAuha633nQDkMcDDrBXXGeOlVclEXUqadkdxc4PLz8ORVUTqK2hkhqfjjJzUkWCsYcRIq6KSGkW4JL2TPoBIsqTpcxem5H1UvaSiJxDesckp5dc1kyN4STLJLgYP+xrK3sZ8os1UpjH6AT5WhxKigpFZliiUiqWfaULMnIqbz6+uIkV6wsFHnhog9J9kQBh/zkWl1jLVmblarpU6dOyNRqrivg4MhcoJAz5Sz7XHAqLwn6mmNKfop11lzKaUkOLnLWRK59MKwlq4MaqQtw6lP7rlyBa2mWbsBrip5iqCEPXJhqfH10THGPlKwtUudAzkidOa5O3TTnyuLEiRP2woUL2dIjny9y9mwz6+LMGQGzLhTFAYpKwmViFmeGOqLSWUrda7mSYIz5vLX2xNJ5V+UQRjrd5Mtoezw4aBz6qVONQ+e8LkJRfKCoJGQVTRBdm3Bw4HZ+Nw17b2/8/9C0Y+6T+97KLLqkLSec1kVo75k/WkayCCkv3zZhuCQvZg23z6ZVnO7NEFZV1WWMntshdkkbp2c43fPLzYaPTMpRpEy84mTXfXLLFVJeJXWnz6vJyFFVodvEMoTBJgov0/WaDw/5jB5QwKrLHImUCCd2BCpVmeUeGQspr5JtQsq0ObV1GWBVVV08P7eDQ6S+3TZB7mYjvDNaW49a6lK7HCsnUuU99r6pwhyuZe1KLvml62klQJe0paVrhySMjq4KCZvijOEq19x5rnlfXJs5gg7V5ieXrXKtE8oRXJ26Dr8jbPQv17buiidjw379AnYZJysxhO86fjd33tJw8+4u8PTTwPnzzbkuw6OdLg4PL7+caO66EN2tbKjWmVxjuqzGjpVoXDw/t4M6UteOauX4FjDFLmihpB5e972/74RKTpWJ2whAivJRVgN0+N2duXqkdawCfAsxZBc0qlUEnJyitf67qHGqMNx06SJPaZk5lZ9yBHXqRJSuYwpzukZws6ExlJQdkBRwqyB9fZTWzRAJkXrJUSoKOMpEhDp1IljaCOfoaK2UKoPSTjVmP/QUOiutD+lQ7NVfkowy5a7y6tQDEOMbh4abs3JxUBIHGbjIUjr9JeZsM4XdctdHTezvNysp9vfTpuNTphnLP3efRp16ABw7nqOUjNQ5KImDDBxl4YhOWKmXlS+500hdgFOPLaTR62truCjzE3ovTjrlJAt3cutqu61khygmTAUT+/u8VmxUijr1AoxOhGbay5wlV3QlUTdKOCHlHWNvXXqUNrYWBzOWz6nyi6nH2gY44+rUdfMZQroNaX73d4Gnnmq+O919eXjYbMxRYj9y3w1B5jYxodxPm2rTi5r2e6+ZkPKOsbcUO0SNyZPT/nKlNZbPqfKLqce68Q09Lp6f28E1Urf2csfzyE6cU73RXL1+396wtOegNfT2pek8F1zyPjfUTGV/LnmlSEuHvEUCHX7Px+LS2KkKkssZhVRQSZWay7P5sftNpTH8PvcsccWPuTKgsiOXcqZIayqdXLPZlSDUqWckuM3l7DjX4EjG8kjxDLd/P9fnkBqph5FSN4u99YTppWQqnZMnLw8zKuxQp56R4m1uCgGKZyoDPpOBQu/nGqkrYaTsfNbcsR2zv9ojdeF1Tp36mqix8SlVAdeWrnRyReoc7kNJjW3GEsLzrE6dCJ/gqxjsBCJAeAX0Zim/rmVcoy2kJvXEMY62vEY7EZ5ndepEjNXH7t0dm002MfiTY9KZRKicsatjoHYgJcshV9ouFZr6sYxUasqLI1yy7OrUo9apG2NuAPBxADcD+CMAf8ta+62R834A4Jn2339nrT3Vfn8LgN8EcAOAfw3gPdba/xwjEzW6jNIRyvXrQLMGl+I+pTl3DnjkkWa99MMPT5+3lF9XQ6Qw2P5aaOpy9ZHhnnuA8+fzpz1GjF5rsWWgnD0URFyWXTz/1AHgDIAH2s8PAPjQxHnfmfj+EwDubj9/BMD7XdIt/Ux9bsnqauHSneWGxGGdflRaqlw7GY5s+NCio0LlkKArYhm5ZBk5ht8BXARwU/v5JgAXJ867wqkDMAAOABxr/38zgCdc0i3t1Ds4PirzJrfFcqkhpZcPcYaDzHMyVFHxmMChrKno8tJ1pCPsg6Nacjn1bw/+/9bEed8HcAHAZwG8s/1uB8Cl3jmvBfDsTFr3tve4cPz48WSK84FjwXuTu4GkSi9W+RIdwzDPVRhgAJT5XqsOO3LUg5Q67i/D6/Jy5OUbYXBsHsicOoCnADw7ctzp4dRf3f69Fc2z9x8DcOOIU3/GReiUkfrq6rikSL1/bWytk1jQwzxzbHmksXYd5qgHKXXc3zCHMC8cmwdWw++Dax4FcBfX4XeWdZyjhZWg/5x1jRMaOEXqtSyx4y5fDeSK1AuQ03xyOfWzg4lyZ0bOuR7Ate3nHQDPAbit/f+3BhPlfsEl3RyROhufsd1ae8cdVtxkqxRst5d75jUs2ZKMS+93f9/aN7yBYS95gGulV1sJJ6XuAu9NIVLOIDCXU38VgE+1jvpTAG5ovz8B4GPt57egWc72xfbve3vX3wrgDwBcah38tS7p5pgolzVid5kUVNKpc2rMqGVhOTQjAJdy6Dpgb3hDftvxsZP+CNDc2xQJJmBFyyqVlPUs8N4UT/A2m+aoJlIvdeRw6lnr2Zx15bacMWp2fLEFzaVB5iJHn5JDoz42uxSpE07AipY1lNL2UShSn0tW2lxbdeqSKF3hluTgIl8oKeWPqdmUctXc8QpB0gz5nJPVxtb9V0zKapG7WVSnrvhTq2PgWrMp5dKOlzJHivkouQmwkVxmlSMdV6cetU2s4kd/982dndLSjFDrnrgp8xWzBSilXNK3IhW3F6cwdnaAxx673ABJhLGNsBLNxfNzO6RG6rUGws6sJRpbSz6tpcvrmnQmldJlFJA+5VOHlM/nXYAOv6chpvCiC750pYplLb2aFPnkWvYSy3RMl6VbbAkILGvKpw6ls69OPRHJ22uX5W2CKtUR1tI4psgn17KXWKZjupzT75LuXXQgUU9DXPPALK++4nCdL6xOPRHJ2+ul5W2MKosyQqoy0rKngzpSd+lwce2UpSAkr4zsm2tRqVMXhHOkvhYk64Bri1ASSeUZImvqSD1Wf7n1H5Ieo3rD1VzVqQfAtTCrgyLySZU29/tLhFGDvUguWX3sJFamHEsnpXU8BKJOPYCS9VmETVMJSfGMMlXaNcDNmLjJM8eSrLnqAGWalPqfkrtwvZJkYqGoUw8gl2H4ztNhA5WQuRQttvcUiQhjEoq0OkAN01lkazB5deoJSdFxFlHHRQjZYw01fYwU5SSt7FPR14PQ2eA1sgYVq1NPiEhfUZvVu0QMteW5JCKNPsFDAsAAABhASURBVDGuOkmluzWvtJAgIzGuTl23iQ1A5G6qrPYxJGAqP8Pva8grB0Qa/QiUezW76sTlvBC5UtXpc+eARx4BDg+Bhx+muy8ltbVnhKhTD4DlNttLjUItjXLHVH5qyycXWBp9AJTOwFUnLueFyOVq6+xfOhFA4nouWmUu4Ty3o/Twe0qCR5W6IT6Kdz5zHNriKBN3Uq25lgzX/HFa8cFVRxnh+LQJOvwuk+BAouuxHh7GRyIch7Y4ysSdEJ3VrmeuIw4p5fKNarnqKCOSB/zUqTMj2Ji6inhwAFx3XZw1xlh0qnGrMZlEj5FlIKQcJbdmyjjqpL1ZUhnrpsclnOd21Dz8Lp6pcasUQ3qUjxys1WHHmllT2VKsAFmTvgIoMTwPx+H3q0p3KtbIwQFw9mzztzp2d4EzZ66M9Lph3b09+rQAmnunkFEZh6oSuN6Hsmy5V+B+XkPzzawu5DaXpWummjkWuHh+bof0SJ3NJAyf3njsCyk2m+ZI0fOniipKRSdrXG9MVQlc75Njq1QupIrUC9pTbnNJkXYs0M1n+MKmrfWx1hjL5lIruJJKP5z1LrkjxqYCZ6agPVGay+nT1t5xh7X7++7XpIxJXFGnrhwltucdG6nn6PVLbWzXGKlzZ826y7m/ewE9nzzZeL6TJ92v4dA/VqeeAVH1noNV9kkhT4p7iipkhYzNxr48CXMtdLbe5T1HW1GgXdrfbxx6P1JfquYctvl3deq6pC0CUUt6uS1VSiFPinuWKmTWa2YUAOFlxLVsO1vfbPLNAivQLr3+9cBv//bR75aqueuqQBY+wcXzczs0UleyUaqQuY2sSIT6kdGQ0DLiWrYUOxAKbRQlTPGADr/7IdQW6VFF0KLrhNPg43Sp9jEIkWHpOunlPOygcO2wDJCodnXqnsTa4thzGpGEKkJiLcmBkEZOHC569XlGrCMyYQiN1CWqXZ26J7G2GDKjkiWhiuBWS7g0LjVFZVPknC0dcm+qoXQfB1ZiZlWt9pUAiapSpx5ATEGLjtQpLJzyoRTFolBunQxr42Ti3ApN5YtjGUwR4vjn8lci78M0S9kMZ1sVjDr1AJbqYZW2ut1eHmbg0Ph2heAqT4koMZQYmTg7SEllMEZoVE0RqVMyTLOUzXC2VcGoUw9gqR5Waatdpk6e5NH4+kbqVRbKCFIc5BIc85HLhnLlvUtnf591pM7RFDijTj0BJY1wLG3X77xvLAnp8nfUko8lOHbCXHRPUT6phse5ROiecBJTQvVTp14ZYxXA9TvFkxI1fC0FJ6H1HIOifFI5X8rOQsbyKW0K/fQlTHdRp56RHIWaLFJ3SWhtlHCwFDMtay87bkNlXO5JKdtaOpf2aFYlTHdRp56RqupBVZkJRGqkXnvZ1Z4/DtTeMezBsU81h6tTN825sjhx4oS9cOFCaTFehutWzkH4ZqaqzE+QI48haQyv4VoWMXL1rwV45i83XMtZSYox5vPW2hOLJ7p4fm4Ht0h91awheuKaR65yDYmRM/Z5cW1D9ta66XMlEfdKsmmtdY/U9S1tShzc3v6WAq555CrXkBg5h9f6vgar5GuzUqW9pM+DA+Cee4Dz58PTFjIaMFTxktgpssVOVS6en9uxxiVtiiOcJzQp8fiWRcmtHkutF6fYe0LIKJDvgoIUs9x1opxgpy7EztdNikJKXfDaaUgHh0qbYjmc77mSHltEsCR2ilnuufpuWZw6gBsAPAngufbv9SPnvA3AF3rHfwLwzva3RwF8rffbG13SrSVSF1pv6AhRQMpaG5pmLEutRWi6qzcwy0MHKTau8b13is4NB91mZCm7qfuPuZz6GQAPtJ8fAPChhfNvAPBNAK+wl536Xb7p1jJRjkMQUZQQBdSotNBxvdKtTC1IcE6xY78p8qj2dYTUZuTq1GMnyt0J4Pb282MAngbwgZnz7wLwO9ba70amWwUU85zYTdLwIUQBUiaH+bCzMz6ZaSmvSxOxatRVCkpOpnNlzkYOD5vj4GC6EZi6Pga1ryOkUHEQLp5/6gDw7cH/31o4/9MA/rve/48CuAjgSwA+DODamWvvBXABwIXjx4+n6QoFUrKjX7KjHpWQhOiIA3N6Uh3SwFGPPjJpxLwKQDX8DuApAM+OHHf6OHUANwHYAvgvBt8ZANeiifT/vovQ3IbfUz0SdaHkI7WohLQhckP1JJdce4/m7JRw7AA5IFTsI5A59dmLmyj7JnvZQV+cOfd/AvDRmd9vB/AvXdLN4dRjJ5tay6s9dskPieG73qTkUiMq+nlN1WqUWhYlHQ6teIr1U6Xh1Kh5IFTsI+Ry6mdxdKLcmZlzPwvgbYPvug6BAfAPAfyKS7o5nHruVSgcyGr4EmvZ3KLY1PkJuX8pA8zR2VlKl4N9SWsAXBCaJ6FiHyGXU38VgE+hWdL2KQA3tN+fAPCx3nk3A/j3AK4aXP9pAM+0w/m/DuCHXdLlFqnXQtZIvVTDH0PfUWy31m42zZEjDyH3L+XYcnZ2ptKVYlNTSJffEynZLSlnFqde6qhlnXpVdMrZbPwb8dJRVUhHpLTMLqw5UpeOBPsiREp2S8qpTj0BUgyvCJ1yNhv/hrV0lCtpaHsOjjIp80yVWeo5GsxspFR2fdPVSL0Spy5trlKM4QVfy7SxsNYuO23OsvsQ2+tMoYdadJuK3JGCS3oVldlSdiUFaurUCZFU8NbGySsir6Hd66leWWgjxq3xi5UnReFzMihu5WUtjUw+jztc0uNUZpFopC7kKBWpc2oL5qCK1NnmO7TRmbqO+n7SSDkUxcmIaimvIdQTEzmVGTP0mXolTn2tkBgwpyHd4Yx1ivvV0PhxdnaUOqYurxzl75KGiJ54HWikrk79CiTVORJZuTmMEvJwL3TO8nGznz45ZMuUf84mUBouunF16rEvdFEc6V68cngIPPJI8x2Lzf9nIHlBAYeXPvTfepNSnqm363B/YQibN1GMwMF+pqCUbcp2MuWfu4mOketlVuJ04+L5uR0SI/WYFV8l4dJLjSJXtDeVThVKVJJSYERC+qh9LpVx0Q00Uo+DuhfY73BLekWquF7qGLmive7+p04BZ89eLmzOkfAa4fi+4gIjEsO6Lc1Ec6lMXPV18fzcDm57v3PpyaUgJG8168OJofGsXiHMWMu+BQusJJvVAMdI/arSnQqu7O4CZ8649QK7Hu/eXnq5fDg4aALGg4Pwe3S9VJ+Ahqs+sjE0ntUrZACFYcbQlU83ojKUw7e8QvNTWA8hdVsRgIvn53ZweKYu4XlUqYnDWfWRK7Ei2/QxS4OKWMOkyivVHIi173OgZAG6pC0tEhxmqnY+9r6kcpWeBMeF1M+LOK0Xpxo+p9qfYOl/6vSVLHArHnXqEfju9xByfSgcfEusDN2L3Lo9YKJ0JSFSz4GPfCEFyMHwOpbySiXrVDpL9+ekK8vfdLnCrBjVqccQW5gpjYFDBY3t0PSdOreKMwsH5VNQOlJPja+srs67O29pO12qEQCi60TVMUZwM3l16hGwGl5mzjCvLg2IhPkIo7i2jmIzSIDE/Lo+W/f1jvv71p482fxdYrttzk3wbD525HFNcNaDOvVEcC70Eiyt3hKvrxAH3VdKaJgkVXEUz/Zz593VaH3l6pz0yZPL53Z6O3kyX4Q/kryUaD6ViYzpgUtVVKeeiK7Qpe0Ml4pcjzeLEBo9UUTqUhVH8Wy/dN5D0h/L91KkzmhEJ1XyOZ0vhTxjv5c2xw516onoCr17LkxV0KWDE+npJCEmeoolpeK4FAqXSN1VrjnmWv6p+/Unl1RKKoeYs69c2hw71Kknhrqgc/cGufQ+h4zptVilikmYS0swBtfCl8xceU/pewVOnVs14CaPD+rUhVFrpO7LWPs32iZyzUAHZ8fJXXe1kWlEQou1btSpF0QrVzjOkTpnp2mt38znmihh/LWOqHjCvUpwQHJxuzp13fs9AbrVdzhj+1GP7lHtszl/Sqb27378ceD8+ebvmhgaf479zbs077nHP53u2nPn4uQsuI97l/SpUzyqBGdW0Ta7eH5uh0bqdSFaX65rnNfCMN85wsfQVQrdtRQzXzOHyX01a4TuTo5qmSoN6PvUyyHu/buFEf3O9qmXOksxAsp3i4/dK9dLr//qX20O33S6crp4Efjc55pwN4TM70Pv15kCr2IXS8pq2Zn/4SHwyCPNd0WaABfPz+3gHqkrfqw1qGUBZZiXMmQMmV3ug7BwV+sMLRT6TL2HCXSiXH7WVNGo85pVd5ILirPiU+o1ZB24D5JtwoOVZNM7nzF9ui6tpVcCxKJOPSFTBpO6p8YJ30qwVMmyBkolo7LYhfglN8QpyVq8EQGpBzUk4JLPvp5izCuXTtWpJ2RpbtTp05ede634VAKXeUxUbbbTfUo6COeF+BPETAqTjjp2J+b2tMm0ZL44Lvmhcsa5dKdOPSFLhchhoyhOlTRncMk+EomN1EPOLwmlrOwLlwch7U8Nqq25GlmrTr0oLsaS2qD6lbSU8eZ61jSWZrK0pLUEpaH0Fqp7J0LUVINquXRMSi9pK+6gQw7uTt2F1Aa43TY99e4oYexcKhkpXDKVshWWMnlOqYaa5jqmaiLUqRfA9zlzagNcmriXSgbXCJ1LJZzjChljhabKdMrOBZeOi+KNhDo1hnSTo5p0N4c69QJwM0zXGefUs/Vd9SBhZJa8TClu2B+GSdFTk+oZFFZt0JyZjp0r2eRy6N3VqeuOcoRw29lpafekTs7DQ9od3Vz1EKKvqQ3QUu1Kt7vb6OfwsEk7dtM1EiPZ22u2rDpz5kqBKBQhZTc85Qo4tUGdmQLAdddNmxTlpoal4KT34lF3yMExUo+dHBf6W8h5VNeVYGk5YYo8sIh+XMf3JBWmUjWukTqL+tXCufpAh9/z4mKYc+fM/ea6RGXsHpyNNMcsXbGj0cNEObV8yiic6xpnOOmNczVTp54Zn0h9bALZ3PWuTn3sHq5GWqJi5ahAnCvpLEPBObR8HGRgTA5b0yI4CrU+OOtXnTpjfCt/jKG5XkvVIFGuABAbZTuwKBdHwXOswyR6flRCfTlXtORoO0LInZ7YTnsA6tQDyGWQJdvrqbSp2lPKSlZzhRWZt9SGG6qUkeuk6Ne3PvoWQW495E6PY983FVmcOoB3AfgygD8DcGLmvHcAuAjgEoAHet/fAuD3ATwH4OMArnFJN5VTl9IQxECdx5SjxDVXWNZ5Sy3c8P5zz6VC7jf+FUum6mOJkbOS1ynL5HLqfxnA6wE8PeXUAVwN4HkAtwK4BsAXAdzW/vYJAHe3nz8C4P0u6UqP1EtCPeS9Bp2tjtS92+H9V9CbTh2RUxNTJKVlr5Wsw+8LTv3NAJ7o/f9gexgABwCOjZ03d0h/ps6ZXO2rVnzGlIrUKzYGaf2WuSJZKi5peZWCq1PPsfnMjwD4497/LwL4awBeBeDb1trv977/kambGGPuBXAvABw/fjyNpEq2TRRSbRajEJB685nh/Vew2Q2rzUkcmCuSpborLa+1sejUjTFPAfiLIz89ZK39Fw5pmJHv7Mz3o1hrPwrgowBw4sSJyfOUOHK1r1rxlTVRU79lqe7WlFeJLDp1a+0dkWm8COC1vf9fA+DraIbeX2mMOdZG6933ygrQiq8oMtG6y5urMqTxOQCvM8bcYoy5BsDdAB5vnxF8BsBd7Xn3AHCJ/BVFURRFGSHKqRtj/qYx5kU0k9x+2xjzRPv9q40x5wGgjcLvA/AEgK8A+IS19svtLT4A4BeNMZfQPGP/pzHyKIqiKMqaMU3ALIsTJ07YCxculBZDURRFUbJgjPm8tfbE0nk5ht8VRVEURcmAOnVFURRFqQR16oqiKIpSCerUFUVRFKUS1KkriqIoSiWoU1cURVGUSlCnriiKoiiVoE5dURRFUSpBnbqiKIqiVII6dUVRFEWpBHXqiqIoilIJ6tQVRVEUpRLUqSuKoihKJahTVxRFUZRKEPnqVWPMFsC/Jb7tDoAD4nuWoJZ8AJoXjtSSD6CevNSSD0DzMsePWmtvXDpJpFNPgTHmgsu7arlTSz4AzQtHaskHUE9easkHoHmhQIffFUVRFKUS1KkriqIoSiWoU7/MR0sLQEQt+QA0LxypJR9APXmpJR+A5iUafaauKIqiKJWgkbqiKIqiVII6dUVRFEWphNU4dWPMu4wxXzbG/JkxZnKZgTHmHcaYi8aYS8aYB3rf32KM+X1jzHPGmI8bY67JI/mojDcYY55sZXnSGHP9yDlvM8Z8oXf8J2PMO9vfHjXGfK332xvz5+JlORfz0p73g568j/e+Z1EujmXyRmPM77V2+CVjzN/u/Va8TKZsv/f7ta2OL7U6v7n324Pt9xeNMW/PKfcQh3z8ojHmD9sy+JQx5kd7v43aWSkc8vJzxphtT+a/0/vtntYenzPG3JNX8itxyMuHe/n4qjHm273f2JSLMebXjDHfMMY8O/G7Mcb8ozafXzLG/GTvt/RlYq1dxQHgLwN4PYCnAZyYOOdqAM8DuBXANQC+COC29rdPALi7/fwRAO8vmJczAB5oPz8A4EML598A4JsAXtH+/yiAu0qXiU9eAHxn4nsW5eKSDwB/CcDr2s+vBvASgFdyKJM52++d8wsAPtJ+vhvAx9vPt7XnXwvglvY+VzPOx9t6deH9XT7m7IxxXn4OwLmRa28A8EL79/r28/Wc8zI4/+8B+DWm5fJfAfhJAM9O/H4SwO8AMAB+GsDv5yyT1UTq1tqvWGsvLpz2JgCXrLUvWGv/M4DfBHCnMcYA+BsAPtme9xiAd6aTdpE7WxlcZbkLwO9Ya7+bVKowfPPyMszKZTEf1tqvWmufaz9/HcA3ACzuEJWJUdsfnNPP4ycB/NdtGdwJ4Dettd+z1n4NwKX2fiVYzIe19jO9uvBZAK/JLKMrLmUyxdsBPGmt/aa19lsAngTwjkRyuuCbl/8BwG9kkcwTa+2/QhMkTXEngH9mGz4L4JXGmJuQqUxW49Qd+REAf9z7/8X2u1cB+La19vuD70vxF6y1LwFA+/fPL5x/N66sIP9bOzT0YWPMtSmEdMQ1Lz9kjLlgjPls9xgBvMrFq0yMMW9CE7E83/u6ZJlM2f7oOa3O/yOaMnC5Nhe+srwXTVTVMWZnpXDNy3/f2s0njTGv9bw2F87ytI9DbgHw6d7XnMpliam8ZimTY9Q3LIkx5ikAf3Hkp4estf/C5RYj39mZ75MxlxfP+9wE4K8AeKL39YMA/l80TuWjAD4A4INhkjrJQJGX49barxtjbgXwaWPMMwD+v5HzkpULcZn8nwDusdb+Wft11jIZE2vku6Eu2dSPGZxlMca8G8AJAH+99/UVdmatfX7s+gy45OX/BvAb1trvGWPeh2Yk5W84XpsTH3nuBvBJa+0Pet9xKpclitaTqpy6tfaOyFu8COC1vf9fA+DraDblf6Ux5lgboXTfJ2MuL8aYPzHG3GStfal1EN+YudXfAvDPrbV/2rv3S+3H7xlj9gD8EonQE1DkpR2uhrX2BWPM0wB+AsD/hYzlQpEPY8yfA/DbAH65HZrr7p21TEaYsv2xc140xhwD8F+iGYZ0uTYXTrIYY+5A0xn769ba73XfT9hZKeexmBdr7X/o/ftPAHyod+3tg2ufJpfQHR8buRvA3+1/waxclpjKa5Yy0eH3o3wOwOtMM6P6GjTG9bhtZjl8Bs2zaQC4B4BL5J+Kx1sZXGS54tlU63S6Z9LvBDA6izMTi3kxxlzfDUcbY3YAvBXAHzIrF5d8XAPgn6N53vZbg99Kl8mo7Q/O6efxLgCfbsvgcQB3m2Z2/C0AXgfgDzLJPWQxH8aYnwDwfwA4Za39Ru/7UTvLJvmVuOTlpt6/pwB8pf38BICfafN0PYCfwdHRuty42BeMMa9HM4ns93rfcSuXJR4H8D+2s+B/GsB/bDvtecokxexAjgeAv4mmp/Q9AH8C4In2+1cDON877ySAr6LpBT7U+/5WNA3VJQC/BeDagnl5FYBPAXiu/XtD+/0JAB/rnXczgH8P4KrB9Z8G8Awax/HrAH6Yc14AvKWV94vt3/dyKxfHfLwbwJ8C+ELveCOXMhmzfTSPAE61n3+o1fGlVue39q59qL3uIoCfLWVPjvl4qm0DujJ4fMnOGOflHwD4civzZwC8oXftz7dldQnALve8tP8/DOBXBtexKhc0QdJLbV1+Ec28jPcBeF/7uwHwj9t8PoPeaqscZaLbxCqKoihKJejwu6IoiqJUgjp1RVEURakEdeqKoiiKUgnq1BVFURSlEtSpK4qiKEolqFNXFEVRlEpQp64oiqIolfD/A/QpOuUnC6o3AAAAAElFTkSuQmCC\n",
          "text/plain": "<Figure size 576x576 with 1 Axes>"
         },
         "metadata": {
          "needs_background": "light"
         },
         "output_type": "display_data"
        },
        {
         "name": "stdout",
         "output_type": "stream",
         "text": "Monte Carlo error 0.0164073\n"
        }
       ]
      }
     },
     "06f50a4f8d7a4eed9546d858fd064416": {
      "model_module": "@jupyter-widgets/controls",
      "model_module_version": "1.4.0",
      "model_name": "IntTextModel",
      "state": {
       "layout": "IPY_MODEL_84d3b72a69ef4c6ebc8947198111f886",
       "step": 1,
       "style": "IPY_MODEL_55b12507dc2441bd921429c4a4ad06ea",
       "value": 2000
      }
     },
     "06fac7a24eaa4066903fbce130f7adff": {
      "model_module": "@jupyter-widgets/base",
      "model_module_version": "1.1.0",
      "model_name": "LayoutModel",
      "state": {}
     },
     "07217176ea46445cb57a1f29243ba826": {
      "model_module": "@jupyter-widgets/base",
      "model_module_version": "1.1.0",
      "model_name": "LayoutModel",
      "state": {}
     },
     "075ebb67d6204b6f98e9b47d943cdcd2": {
      "model_module": "@jupyter-widgets/output",
      "model_module_version": "1.0.0",
      "model_name": "OutputModel",
      "state": {
       "layout": "IPY_MODEL_f90044fd290445d2b1474a8512f11751",
       "outputs": [
        {
         "data": {
          "image/png": "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\n",
          "text/plain": "<Figure size 576x576 with 1 Axes>"
         },
         "metadata": {
          "needs_background": "light"
         },
         "output_type": "display_data"
        },
        {
         "name": "stdout",
         "output_type": "stream",
         "text": "Monte Carlo error 0.0164073\n"
        }
       ]
      }
     },
     "0867bbbf3eaa4c9088fc67af62e39472": {
      "model_module": "@jupyter-widgets/controls",
      "model_module_version": "1.4.0",
      "model_name": "ButtonStyleModel",
      "state": {}
     },
     "091d11545ab640f8a177915992bb309e": {
      "model_module": "@jupyter-widgets/controls",
      "model_module_version": "1.4.0",
      "model_name": "HBoxModel",
      "state": {
       "children": [
        "IPY_MODEL_1ac896ced7894499b4aeb603ade5f3c2",
        "IPY_MODEL_00cb607fed2d41f89c6f2210ebce399d",
        "IPY_MODEL_3633266d5111445fb97bca57c48a14b3",
        "IPY_MODEL_78795865d2874314a7f2f33c66f36c5e"
       ],
       "layout": "IPY_MODEL_d1a83b14f43a48578f7426bbf4d543a6"
      }
     },
     "0a33f7a0798a4c9a8c6bb5e6a48f1dfd": {
      "model_module": "@jupyter-widgets/base",
      "model_module_version": "1.1.0",
      "model_name": "LayoutModel",
      "state": {}
     },
     "0bcaaf9a743b4043b5856f8d008d49f7": {
      "model_module": "@jupyter-widgets/base",
      "model_module_version": "1.1.0",
      "model_name": "LayoutModel",
      "state": {}
     },
     "0d64bfc1408a471a8c0197787299fd63": {
      "model_module": "@jupyter-widgets/controls",
      "model_module_version": "1.4.0",
      "model_name": "DescriptionStyleModel",
      "state": {
       "description_width": ""
      }
     },
     "0ed8e825e12a4f33beb40a6c8b3a32c0": {
      "model_module": "@jupyter-widgets/controls",
      "model_module_version": "1.4.0",
      "model_name": "DescriptionStyleModel",
      "state": {
       "description_width": ""
      }
     },
     "0f3cc7a6c8cb45f882d87429baea76c8": {
      "model_module": "@jupyter-widgets/controls",
      "model_module_version": "1.4.0",
      "model_name": "LabelModel",
      "state": {
       "layout": "IPY_MODEL_cfbdf17651c34e25b2b4a2b6c772250b",
       "style": "IPY_MODEL_2aee55d66569448c85b0371f6aaafae6",
       "value": "Click Run to compute mean and standard deviation of the samples and Plot Convergence to see the results"
      }
     },
     "1043bb86ff0a43cfa73974261edca65d": {
      "model_module": "@jupyter-widgets/controls",
      "model_module_version": "1.4.0",
      "model_name": "IntSliderModel",
      "state": {
       "continuous_update": false,
       "layout": "IPY_MODEL_e76a99a33bd744a7ad94e01bd8f0495b",
       "max": 10000,
       "min": 500,
       "step": 500,
       "style": "IPY_MODEL_fa4c85070174453a892dc655003e9688",
       "value": 2000
      }
     },
     "10e4088e7a3a434b9dc47a0804d2ddfd": {
      "model_module": "@jupyter-widgets/controls",
      "model_module_version": "1.4.0",
      "model_name": "SliderStyleModel",
      "state": {
       "description_width": ""
      }
     },
     "1103052cc70840a1a4d220228d7eef71": {
      "model_module": "@jupyter-widgets/base",
      "model_module_version": "1.1.0",
      "model_name": "LayoutModel",
      "state": {}
     },
     "11dba1eddcd04e6f8cb996785a7fdf03": {
      "model_module": "@jupyter-widgets/controls",
      "model_module_version": "1.4.0",
      "model_name": "ButtonStyleModel",
      "state": {}
     },
     "11f4d01f59ce430eaa1c1bafe6e709ee": {
      "model_module": "@jupyter-widgets/controls",
      "model_module_version": "1.4.0",
      "model_name": "ButtonModel",
      "state": {
       "description": "Plot Convergence",
       "layout": "IPY_MODEL_6dd33ba0c0a5405dbe46d9a49251bf40",
       "style": "IPY_MODEL_95f997386b8243fb98a06c7df3207aee"
      }
     },
     "1245c28272b54a98a6211d4492a8fd5f": {
      "model_module": "@jupyter-widgets/controls",
      "model_module_version": "1.4.0",
      "model_name": "DescriptionStyleModel",
      "state": {
       "description_width": ""
      }
     },
     "126cb216b89d40f29afd996d3b896053": {
      "model_module": "@jupyter-widgets/controls",
      "model_module_version": "1.4.0",
      "model_name": "ButtonModel",
      "state": {
       "description": "Run",
       "layout": "IPY_MODEL_facdcb6091824e478b4fe99714aaebcd",
       "style": "IPY_MODEL_2c7b6ddc4b1e4b07b237625a8346f95d"
      }
     },
     "1356201f119e486999cc099c8a27ef3a": {
      "model_module": "@jupyter-widgets/base",
      "model_module_version": "1.1.0",
      "model_name": "LayoutModel",
      "state": {}
     },
     "13963b0701ea4b7195b33b005afac064": {
      "model_module": "@jupyter-widgets/controls",
      "model_module_version": "1.4.0",
      "model_name": "ButtonModel",
      "state": {
       "description": "Plot Convergence",
       "layout": "IPY_MODEL_46595a36d6ce4bd2b048b1f00998d63d",
       "style": "IPY_MODEL_c74b82eb7af741168d8f8a23b4e80a59"
      }
     },
     "14901829a4644be19f0856c6654b7e87": {
      "model_module": "@jupyter-widgets/base",
      "model_module_version": "1.1.0",
      "model_name": "LayoutModel",
      "state": {}
     },
     "15804d8146a84577aeb79a1c7aadd6ea": {
      "model_module": "@jupyter-widgets/controls",
      "model_module_version": "1.4.0",
      "model_name": "IntTextModel",
      "state": {
       "layout": "IPY_MODEL_0522f923f7cb4dae8f8fcc2a8339139e",
       "step": 1,
       "style": "IPY_MODEL_7068921cdfa44909b644f4c0718200e2",
       "value": 3000
      }
     },
     "1692c6cb9c24400c9068510547ea2727": {
      "model_module": "@jupyter-widgets/controls",
      "model_module_version": "1.4.0",
      "model_name": "HBoxModel",
      "state": {
       "children": [
        "IPY_MODEL_be8fe2a2acae4ef3ad934cea9f6d36c4",
        "IPY_MODEL_f6be01b3592b4ca79f22b88084b1bb9d",
        "IPY_MODEL_39a184ee4f134c089aa418a110964bbf",
        "IPY_MODEL_f0eceac93d0b44ac95c1c5797b5642c9"
       ],
       "layout": "IPY_MODEL_d0c073582e214b919db8da6812e54f73"
      }
     },
     "18d80afa26fa43b5b955512e7cf7a0f9": {
      "model_module": "@jupyter-widgets/controls",
      "model_module_version": "1.4.0",
      "model_name": "ButtonModel",
      "state": {
       "description": "Run",
       "layout": "IPY_MODEL_64f5df9d1ce743fab3f56755e3fdf252",
       "style": "IPY_MODEL_de9d80e6c512470f86d5b8462b932031"
      }
     },
     "19e7e3b102314ffc9c45fc23fe2fbdef": {
      "model_module": "@jupyter-widgets/base",
      "model_module_version": "1.1.0",
      "model_name": "LayoutModel",
      "state": {}
     },
     "1ac896ced7894499b4aeb603ade5f3c2": {
      "model_module": "@jupyter-widgets/controls",
      "model_module_version": "1.4.0",
      "model_name": "IntTextModel",
      "state": {
       "layout": "IPY_MODEL_8c8fdc0446bb44f488d8ffe87f6842f4",
       "step": 1,
       "style": "IPY_MODEL_e5a92851bc6f4839a7c246813af47a09",
       "value": 1000
      }
     },
     "1bd3fee90c7a47de99120a6db8b4d160": {
      "model_module": "@jupyter-widgets/controls",
      "model_module_version": "1.4.0",
      "model_name": "SliderStyleModel",
      "state": {
       "description_width": ""
      }
     },
     "1dac8bea171245d68f779b2a428bb837": {
      "model_module": "@jupyter-widgets/controls",
      "model_module_version": "1.4.0",
      "model_name": "HBoxModel",
      "state": {
       "children": [
        "IPY_MODEL_98ea3b0ae3db44838ad20a490265d041",
        "IPY_MODEL_036112e519664456b50ed9e7c6137b41"
       ],
       "layout": "IPY_MODEL_a3c883d456f84a608bd2d8af2808f55b"
      }
     },
     "1dbfbd9652934b47b21932d09eba4262": {
      "model_module": "@jupyter-widgets/base",
      "model_module_version": "1.1.0",
      "model_name": "LayoutModel",
      "state": {}
     },
     "1dc31246bec64cf7a13c05cca26365bf": {
      "model_module": "@jupyter-widgets/controls",
      "model_module_version": "1.4.0",
      "model_name": "DescriptionStyleModel",
      "state": {
       "description_width": ""
      }
     },
     "1dd7eb572d7b4debac917c7a400fbaab": {
      "model_module": "@jupyter-widgets/controls",
      "model_module_version": "1.4.0",
      "model_name": "IntTextModel",
      "state": {
       "layout": "IPY_MODEL_1ddf1bd9733545c49087d191d1e8fbe3",
       "step": 1,
       "style": "IPY_MODEL_d7971ad988894223b241c11311b5d690",
       "value": 1000
      }
     },
     "1ddf1bd9733545c49087d191d1e8fbe3": {
      "model_module": "@jupyter-widgets/base",
      "model_module_version": "1.1.0",
      "model_name": "LayoutModel",
      "state": {}
     },
     "216318f2a7e94b56a0ecc8ea99131b3b": {
      "model_module": "@jupyter-widgets/controls",
      "model_module_version": "1.4.0",
      "model_name": "IntSliderModel",
      "state": {
       "continuous_update": false,
       "layout": "IPY_MODEL_8b8483202095482fbb7688716e30624e",
       "max": 10000,
       "min": 500,
       "step": 500,
       "style": "IPY_MODEL_1bd3fee90c7a47de99120a6db8b4d160",
       "value": 7500
      }
     },
     "21b8e95b18e34925857e1c70546e00dd": {
      "model_module": "@jupyter-widgets/controls",
      "model_module_version": "1.4.0",
      "model_name": "DescriptionStyleModel",
      "state": {
       "description_width": ""
      }
     },
     "22497af530644d299b396541faeb0ae3": {
      "model_module": "@jupyter-widgets/base",
      "model_module_version": "1.1.0",
      "model_name": "LayoutModel",
      "state": {}
     },
     "25490ec6e64d434cb325ba2d5651ef77": {
      "model_module": "@jupyter-widgets/controls",
      "model_module_version": "1.4.0",
      "model_name": "DescriptionStyleModel",
      "state": {
       "description_width": ""
      }
     },
     "278449a8b4a148389f13250955970006": {
      "model_module": "@jupyter-widgets/base",
      "model_module_version": "1.1.0",
      "model_name": "LayoutModel",
      "state": {}
     },
     "28322813fbe74d8486d59a1613eb89cf": {
      "model_module": "@jupyter-widgets/controls",
      "model_module_version": "1.4.0",
      "model_name": "IntSliderModel",
      "state": {
       "continuous_update": false,
       "layout": "IPY_MODEL_06fac7a24eaa4066903fbce130f7adff",
       "max": 10000,
       "min": 500,
       "step": 500,
       "style": "IPY_MODEL_ae5f8f6b1a2f4109a5ea550669f84097",
       "value": 2000
      }
     },
     "2872559f1b1f484ba9224d4adb2ae360": {
      "model_module": "@jupyter-widgets/base",
      "model_module_version": "1.1.0",
      "model_name": "LayoutModel",
      "state": {}
     },
     "290512955cbf4762b43eae80b27b3f89": {
      "model_module": "@jupyter-widgets/base",
      "model_module_version": "1.1.0",
      "model_name": "LayoutModel",
      "state": {}
     },
     "2a9e3bb4fa0444199ccf9bec4e432f5a": {
      "model_module": "@jupyter-widgets/controls",
      "model_module_version": "1.4.0",
      "model_name": "LabelModel",
      "state": {
       "layout": "IPY_MODEL_af7832a2a2e7460abff32cb42ced81e5",
       "style": "IPY_MODEL_acd592f47e3e4661b11820387020c9ed",
       "value": "Number of Sample points:"
      }
     },
     "2aede16bfdbb4638ba99583bf139ea26": {
      "model_module": "@jupyter-widgets/base",
      "model_module_version": "1.1.0",
      "model_name": "LayoutModel",
      "state": {}
     },
     "2aee55d66569448c85b0371f6aaafae6": {
      "model_module": "@jupyter-widgets/controls",
      "model_module_version": "1.4.0",
      "model_name": "DescriptionStyleModel",
      "state": {
       "description_width": ""
      }
     },
     "2c46d9b5e1974105a7131976f9ea0eb7": {
      "model_module": "@jupyter-widgets/controls",
      "model_module_version": "1.4.0",
      "model_name": "LabelModel",
      "state": {
       "layout": "IPY_MODEL_aeb2578673414cf8b2ae9c839a81d064",
       "style": "IPY_MODEL_b12144c216b5400eb6a20c7626c8c793",
       "value": "Enter four Monte Carlo Sample sizes to compare"
      }
     },
     "2c510cd74bcb42db965b4af38caf48ac": {
      "model_module": "@jupyter-widgets/controls",
      "model_module_version": "1.4.0",
      "model_name": "IntSliderModel",
      "state": {
       "continuous_update": false,
       "layout": "IPY_MODEL_bc0be0970d774a4ea28ac42456af2168",
       "max": 10000,
       "min": 500,
       "step": 500,
       "style": "IPY_MODEL_423e7c8862b34caf931a3c0b33e70b6f",
       "value": 2000
      }
     },
     "2c7b6ddc4b1e4b07b237625a8346f95d": {
      "model_module": "@jupyter-widgets/controls",
      "model_module_version": "1.4.0",
      "model_name": "ButtonStyleModel",
      "state": {}
     },
     "2d2fce1975a64f94893ad835fb2bea63": {
      "model_module": "@jupyter-widgets/base",
      "model_module_version": "1.1.0",
      "model_name": "LayoutModel",
      "state": {}
     },
     "2d99d95d0aab4565ba69138dcc7cff13": {
      "model_module": "@jupyter-widgets/base",
      "model_module_version": "1.1.0",
      "model_name": "LayoutModel",
      "state": {}
     },
     "2e021c0844454799be6ddb0d67d0ff6d": {
      "model_module": "@jupyter-widgets/controls",
      "model_module_version": "1.4.0",
      "model_name": "HBoxModel",
      "state": {
       "children": [
        "IPY_MODEL_ba91b6bc2b7d4ca1ad56b9c96145aa33",
        "IPY_MODEL_94597a7fe16f47c1b5287a694887a0ea"
       ],
       "layout": "IPY_MODEL_627ffd4014f243f88e9f913ff21b006b"
      }
     },
     "2ea2482f1e18463aafed8e2fc7e35b99": {
      "model_module": "@jupyter-widgets/base",
      "model_module_version": "1.1.0",
      "model_name": "LayoutModel",
      "state": {}
     },
     "30429f4a300743c182cdea4f95061afe": {
      "model_module": "@jupyter-widgets/controls",
      "model_module_version": "1.4.0",
      "model_name": "IntTextModel",
      "state": {
       "layout": "IPY_MODEL_a8fa8f4eb4ac4510a54ed6e8c9ab3d50",
       "step": 1,
       "style": "IPY_MODEL_97abd178599541f3b0316c2ceae2e6ed",
       "value": 2000
      }
     },
     "31bfd74b7af24a68b39f936b2a3471d9": {
      "model_module": "@jupyter-widgets/controls",
      "model_module_version": "1.4.0",
      "model_name": "IntTextModel",
      "state": {
       "layout": "IPY_MODEL_68b71ea4af2d4192ba97cd2a4700b2a2",
       "step": 1,
       "style": "IPY_MODEL_336f9871d24d436887e2503a54cddb42",
       "value": 3000
      }
     },
     "32a25c0a2f004b889732fc1665d11ba4": {
      "model_module": "@jupyter-widgets/base",
      "model_module_version": "1.1.0",
      "model_name": "LayoutModel",
      "state": {}
     },
     "32f9b4c66a5442f6b10b3468a00e711a": {
      "model_module": "@jupyter-widgets/controls",
      "model_module_version": "1.4.0",
      "model_name": "IntTextModel",
      "state": {
       "layout": "IPY_MODEL_ea1bce5e600340ea969155dafcacd6c5",
       "step": 1,
       "style": "IPY_MODEL_730526bfe1444137a38bc030c621d831",
       "value": 1000
      }
     },
     "3360ed17fadf4c9a8a969533f92196b8": {
      "model_module": "@jupyter-widgets/controls",
      "model_module_version": "1.4.0",
      "model_name": "DescriptionStyleModel",
      "state": {
       "description_width": ""
      }
     },
     "336f9871d24d436887e2503a54cddb42": {
      "model_module": "@jupyter-widgets/controls",
      "model_module_version": "1.4.0",
      "model_name": "DescriptionStyleModel",
      "state": {
       "description_width": ""
      }
     },
     "33754d24de7e4adbbd233a8d334b71c0": {
      "model_module": "@jupyter-widgets/controls",
      "model_module_version": "1.4.0",
      "model_name": "DescriptionStyleModel",
      "state": {
       "description_width": ""
      }
     },
     "35478d9ee6e2471694168b8d40866eeb": {
      "model_module": "@jupyter-widgets/base",
      "model_module_version": "1.1.0",
      "model_name": "LayoutModel",
      "state": {}
     },
     "35a7e36b1e454fd18b89ab13ea4477f8": {
      "model_module": "@jupyter-widgets/controls",
      "model_module_version": "1.4.0",
      "model_name": "DescriptionStyleModel",
      "state": {
       "description_width": ""
      }
     },
     "35bc715a05104d77a25d5d479b2168ff": {
      "model_module": "@jupyter-widgets/base",
      "model_module_version": "1.1.0",
      "model_name": "LayoutModel",
      "state": {}
     },
     "3633266d5111445fb97bca57c48a14b3": {
      "model_module": "@jupyter-widgets/controls",
      "model_module_version": "1.4.0",
      "model_name": "IntTextModel",
      "state": {
       "layout": "IPY_MODEL_032cb4b095174ed5886b623491ae7d24",
       "step": 1,
       "style": "IPY_MODEL_9e8f8c60e5d34788912ddcfcc6a2f7b6",
       "value": 3000
      }
     },
     "369f741af0ce41708d2897010cf9fbfd": {
      "model_module": "@jupyter-widgets/base",
      "model_module_version": "1.1.0",
      "model_name": "LayoutModel",
      "state": {}
     },
     "36fd08bcff1844568b99dcb385c3adc3": {
      "model_module": "@jupyter-widgets/controls",
      "model_module_version": "1.4.0",
      "model_name": "IntTextModel",
      "state": {
       "layout": "IPY_MODEL_35bc715a05104d77a25d5d479b2168ff",
       "step": 1,
       "style": "IPY_MODEL_7bb9785cb72f4fefa8ead387b74ccdc7",
       "value": 1000
      }
     },
     "39a184ee4f134c089aa418a110964bbf": {
      "model_module": "@jupyter-widgets/controls",
      "model_module_version": "1.4.0",
      "model_name": "IntTextModel",
      "state": {
       "layout": "IPY_MODEL_0bcaaf9a743b4043b5856f8d008d49f7",
       "step": 1,
       "style": "IPY_MODEL_c8e32dc274c24a81964a42a979b2c348",
       "value": 3000
      }
     },
     "3aeebc55072e4ac5a6468fd2f5b61542": {
      "model_module": "@jupyter-widgets/controls",
      "model_module_version": "1.4.0",
      "model_name": "ButtonStyleModel",
      "state": {}
     },
     "3b149e7b53a8442cb9f081d578a33364": {
      "model_module": "@jupyter-widgets/controls",
      "model_module_version": "1.4.0",
      "model_name": "HBoxModel",
      "state": {
       "children": [
        "IPY_MODEL_36fd08bcff1844568b99dcb385c3adc3",
        "IPY_MODEL_02f0314709fe40ba9e2484eae713a753",
        "IPY_MODEL_aed9691b533a48fb9db3ba4017339506",
        "IPY_MODEL_02ec9071e93e4bd080f6e06c77a64b93"
       ],
       "layout": "IPY_MODEL_278449a8b4a148389f13250955970006"
      }
     },
     "3c118b14f4194b8eb82875cfec78b352": {
      "model_module": "@jupyter-widgets/base",
      "model_module_version": "1.1.0",
      "model_name": "LayoutModel",
      "state": {}
     },
     "3d6acd3423d14f1c97d5fc07ed5737d7": {
      "model_module": "@jupyter-widgets/base",
      "model_module_version": "1.1.0",
      "model_name": "LayoutModel",
      "state": {}
     },
     "3e53582d204044b28778d25aff59a285": {
      "model_module": "@jupyter-widgets/base",
      "model_module_version": "1.1.0",
      "model_name": "LayoutModel",
      "state": {}
     },
     "3ee9e1d416ca4d43ac75d1eacb231806": {
      "model_module": "@jupyter-widgets/base",
      "model_module_version": "1.1.0",
      "model_name": "LayoutModel",
      "state": {}
     },
     "4001a4ab121945a7b3b90766eca47d4c": {
      "model_module": "@jupyter-widgets/controls",
      "model_module_version": "1.4.0",
      "model_name": "DescriptionStyleModel",
      "state": {
       "description_width": ""
      }
     },
     "409de49cf6874d2dbe76036f1770c024": {
      "model_module": "@jupyter-widgets/controls",
      "model_module_version": "1.4.0",
      "model_name": "DescriptionStyleModel",
      "state": {
       "description_width": ""
      }
     },
     "40adaf2a52e1455890ad08c0bb6847de": {
      "model_module": "@jupyter-widgets/base",
      "model_module_version": "1.1.0",
      "model_name": "LayoutModel",
      "state": {}
     },
     "4185afb9897b4c97bbda576413050e65": {
      "model_module": "@jupyter-widgets/base",
      "model_module_version": "1.1.0",
      "model_name": "LayoutModel",
      "state": {}
     },
     "41d8b6af03024a2badf15c62c15338bb": {
      "model_module": "@jupyter-widgets/controls",
      "model_module_version": "1.4.0",
      "model_name": "ButtonStyleModel",
      "state": {}
     },
     "423e7c8862b34caf931a3c0b33e70b6f": {
      "model_module": "@jupyter-widgets/controls",
      "model_module_version": "1.4.0",
      "model_name": "SliderStyleModel",
      "state": {
       "description_width": ""
      }
     },
     "42cfe7367ce241ef83cb1bd7911629fd": {
      "model_module": "@jupyter-widgets/base",
      "model_module_version": "1.1.0",
      "model_name": "LayoutModel",
      "state": {}
     },
     "4325f65fc22a4b0caf08fea3819f3d49": {
      "model_module": "@jupyter-widgets/base",
      "model_module_version": "1.1.0",
      "model_name": "LayoutModel",
      "state": {}
     },
     "43f53421fcea4908b059827e1766aad6": {
      "model_module": "@jupyter-widgets/output",
      "model_module_version": "1.0.0",
      "model_name": "OutputModel",
      "state": {
       "layout": "IPY_MODEL_e051971e9d05406d825add3d56b9f4ce"
      }
     },
     "4476536f8cdf48a0b52271b1f5a8c33e": {
      "model_module": "@jupyter-widgets/base",
      "model_module_version": "1.1.0",
      "model_name": "LayoutModel",
      "state": {}
     },
     "46595a36d6ce4bd2b048b1f00998d63d": {
      "model_module": "@jupyter-widgets/base",
      "model_module_version": "1.1.0",
      "model_name": "LayoutModel",
      "state": {}
     },
     "486ad7e9c4dd4f32851c00127b9b5290": {
      "model_module": "@jupyter-widgets/controls",
      "model_module_version": "1.4.0",
      "model_name": "IntTextModel",
      "state": {
       "layout": "IPY_MODEL_c3a9a1bbd712426da411f5bf6e0d86bd",
       "step": 1,
       "style": "IPY_MODEL_4001a4ab121945a7b3b90766eca47d4c",
       "value": 4000
      }
     },
     "48b2e6b3b4024b78b35f1aeb40d08885": {
      "model_module": "@jupyter-widgets/controls",
      "model_module_version": "1.4.0",
      "model_name": "LabelModel",
      "state": {
       "layout": "IPY_MODEL_35478d9ee6e2471694168b8d40866eeb",
       "style": "IPY_MODEL_703857838ccd4e7cb607011d36f58c98",
       "value": "Click Run to compute mean and standard deviation of the samples and Plot Convergence to see the results"
      }
     },
     "48e874ea639a4f6389860c18dc943262": {
      "model_module": "@jupyter-widgets/base",
      "model_module_version": "1.1.0",
      "model_name": "LayoutModel",
      "state": {}
     },
     "4b834472e9bb4427a1aed2d5fde7e768": {
      "model_module": "@jupyter-widgets/controls",
      "model_module_version": "1.4.0",
      "model_name": "IntTextModel",
      "state": {
       "layout": "IPY_MODEL_4e38b302c68d4d74bd7d7da6bb860557",
       "step": 1,
       "style": "IPY_MODEL_a6b13d8824db45c9af00c32a9bb00826",
       "value": 4000
      }
     },
     "4bbb4d4a1bf84f1f9757b8a536e39083": {
      "model_module": "@jupyter-widgets/controls",
      "model_module_version": "1.4.0",
      "model_name": "LabelModel",
      "state": {
       "layout": "IPY_MODEL_58acb72e164f4f2d8d61633351e2f99f",
       "style": "IPY_MODEL_a3f5d8b42bfd4cdc9f478e530ed5bbc5",
       "value": "Enter four Monte Carlo Sample sizes to compare"
      }
     },
     "4dce5473f6574a92bb392adfbc7a47d7": {
      "model_module": "@jupyter-widgets/base",
      "model_module_version": "1.1.0",
      "model_name": "LayoutModel",
      "state": {}
     },
     "4e38b302c68d4d74bd7d7da6bb860557": {
      "model_module": "@jupyter-widgets/base",
      "model_module_version": "1.1.0",
      "model_name": "LayoutModel",
      "state": {}
     },
     "4eab59211c7748538bd2b6e110f33b72": {
      "model_module": "@jupyter-widgets/controls",
      "model_module_version": "1.4.0",
      "model_name": "HBoxModel",
      "state": {
       "children": [
        "IPY_MODEL_ec35e4d438a34f2f8a375db8036c00a1",
        "IPY_MODEL_69d388945d394c149a434058709ad628"
       ],
       "layout": "IPY_MODEL_bf3ce615f99f437e8d312405df5a6095"
      }
     },
     "4f04c3b6ddb346c289f79b8256b27ba4": {
      "model_module": "@jupyter-widgets/controls",
      "model_module_version": "1.4.0",
      "model_name": "HBoxModel",
      "state": {
       "children": [
        "IPY_MODEL_1dd7eb572d7b4debac917c7a400fbaab",
        "IPY_MODEL_06f50a4f8d7a4eed9546d858fd064416",
        "IPY_MODEL_6481d537725e4cf5962ba7d3da8d5b4c",
        "IPY_MODEL_c0c34ee304da46a399f2339cf70a761f"
       ],
       "layout": "IPY_MODEL_7d7e4ac95c2f4c9489389e158a8723d8"
      }
     },
     "4fa47075e8c4425aa96f7098e8579456": {
      "model_module": "@jupyter-widgets/controls",
      "model_module_version": "1.4.0",
      "model_name": "DescriptionStyleModel",
      "state": {
       "description_width": ""
      }
     },
     "4fc60f3635f64e728cb00dcbee455bdf": {
      "model_module": "@jupyter-widgets/controls",
      "model_module_version": "1.4.0",
      "model_name": "LabelModel",
      "state": {
       "layout": "IPY_MODEL_f047e3767fbc4a9791fbe9ddad5cd78a",
       "style": "IPY_MODEL_6b594c484d0446a9a2b343660c64c04f",
       "value": "Click Run to compute mean and standard deviation of the samples and Plot Convergence to see the results"
      }
     },
     "5004f0e3b22949d2947579ddce1fdf70": {
      "model_module": "@jupyter-widgets/controls",
      "model_module_version": "1.4.0",
      "model_name": "IntTextModel",
      "state": {
       "layout": "IPY_MODEL_7fa6420dba77480bb18e45cf43b950b5",
       "step": 1,
       "style": "IPY_MODEL_576cf39e565c47efb3e36c902be6080c",
       "value": 3000
      }
     },
     "50a25a77347444cf84ada0458c1fa87a": {
      "model_module": "@jupyter-widgets/base",
      "model_module_version": "1.1.0",
      "model_name": "LayoutModel",
      "state": {}
     },
     "51992e98b1144c5bb56b411a0ed1d9d2": {
      "model_module": "@jupyter-widgets/base",
      "model_module_version": "1.1.0",
      "model_name": "LayoutModel",
      "state": {}
     },
     "51caa31575d34a8191d5cc8ec184922d": {
      "model_module": "@jupyter-widgets/base",
      "model_module_version": "1.1.0",
      "model_name": "LayoutModel",
      "state": {}
     },
     "5218e9ca5d8141dca9cdd291841eacac": {
      "model_module": "@jupyter-widgets/controls",
      "model_module_version": "1.4.0",
      "model_name": "LabelModel",
      "state": {
       "layout": "IPY_MODEL_4476536f8cdf48a0b52271b1f5a8c33e",
       "style": "IPY_MODEL_8b7d01de02454fc691c88f1b3517db7d",
       "value": "Number of Sample points:"
      }
     },
     "5289c8067b1a4dc7886add5b3f8d48bf": {
      "model_module": "@jupyter-widgets/controls",
      "model_module_version": "1.4.0",
      "model_name": "IntSliderModel",
      "state": {
       "continuous_update": false,
       "layout": "IPY_MODEL_adbd2e9b1bde4c5c8a139a33e7a644a8",
       "max": 10000,
       "min": 500,
       "step": 500,
       "style": "IPY_MODEL_10e4088e7a3a434b9dc47a0804d2ddfd",
       "value": 2000
      }
     },
     "5421b0b22751433794d8031965a1ffa9": {
      "model_module": "@jupyter-widgets/controls",
      "model_module_version": "1.4.0",
      "model_name": "ButtonStyleModel",
      "state": {}
     },
     "55b12507dc2441bd921429c4a4ad06ea": {
      "model_module": "@jupyter-widgets/controls",
      "model_module_version": "1.4.0",
      "model_name": "DescriptionStyleModel",
      "state": {
       "description_width": ""
      }
     },
     "55e39d383de845ce8963f0b9887535d8": {
      "model_module": "@jupyter-widgets/base",
      "model_module_version": "1.1.0",
      "model_name": "LayoutModel",
      "state": {}
     },
     "56f6c524c628454e9c11e581f442ac1a": {
      "model_module": "@jupyter-widgets/controls",
      "model_module_version": "1.4.0",
      "model_name": "ButtonModel",
      "state": {
       "description": "Run",
       "layout": "IPY_MODEL_6646c32ad05b4542a6af4d9765c01aac",
       "style": "IPY_MODEL_6f6d5ecc5c0d44b184e238973ba7511f"
      }
     },
     "576cf39e565c47efb3e36c902be6080c": {
      "model_module": "@jupyter-widgets/controls",
      "model_module_version": "1.4.0",
      "model_name": "DescriptionStyleModel",
      "state": {
       "description_width": ""
      }
     },
     "582ad907993d4ca497aa7d9d146804fa": {
      "model_module": "@jupyter-widgets/controls",
      "model_module_version": "1.4.0",
      "model_name": "LabelModel",
      "state": {
       "layout": "IPY_MODEL_9007c6c2d71141c1b7f4fa77670bf985",
       "style": "IPY_MODEL_5d3854aa7103404590a542952d343b20",
       "value": "Enter four Monte Carlo Sample sizes to compare"
      }
     },
     "5896e2ea919b44a686a14dc650d9414a": {
      "model_module": "@jupyter-widgets/controls",
      "model_module_version": "1.4.0",
      "model_name": "ButtonModel",
      "state": {
       "description": "Run",
       "layout": "IPY_MODEL_32a25c0a2f004b889732fc1665d11ba4",
       "style": "IPY_MODEL_3aeebc55072e4ac5a6468fd2f5b61542"
      }
     },
     "58acb72e164f4f2d8d61633351e2f99f": {
      "model_module": "@jupyter-widgets/base",
      "model_module_version": "1.1.0",
      "model_name": "LayoutModel",
      "state": {}
     },
     "58fcc8377bed49478caccfecacd2e021": {
      "model_module": "@jupyter-widgets/controls",
      "model_module_version": "1.4.0",
      "model_name": "IntTextModel",
      "state": {
       "layout": "IPY_MODEL_91b8bb2563d8440d8d5675f3fd1bccf2",
       "step": 1,
       "style": "IPY_MODEL_a8d89491488e4a6681c6831cfa18fcce",
       "value": 4000
      }
     },
     "5b247bf1c3a9439d8d62d26944d44b9b": {
      "model_module": "@jupyter-widgets/output",
      "model_module_version": "1.0.0",
      "model_name": "OutputModel",
      "state": {
       "layout": "IPY_MODEL_5d9fd71bda0c43139ea46eb76e8035cb"
      }
     },
     "5cae893e91e74651b1175ec16d7031b8": {
      "model_module": "@jupyter-widgets/controls",
      "model_module_version": "1.4.0",
      "model_name": "HBoxModel",
      "state": {
       "children": [
        "IPY_MODEL_60762b9574084874bc87db44f473bd8e",
        "IPY_MODEL_5289c8067b1a4dc7886add5b3f8d48bf"
       ],
       "layout": "IPY_MODEL_8c54df20a544410c833546886b43791a"
      }
     },
     "5d3854aa7103404590a542952d343b20": {
      "model_module": "@jupyter-widgets/controls",
      "model_module_version": "1.4.0",
      "model_name": "DescriptionStyleModel",
      "state": {
       "description_width": ""
      }
     },
     "5d9fd71bda0c43139ea46eb76e8035cb": {
      "model_module": "@jupyter-widgets/base",
      "model_module_version": "1.1.0",
      "model_name": "LayoutModel",
      "state": {}
     },
     "5e63b399bbf044d09abf3cc11ed688db": {
      "model_module": "@jupyter-widgets/base",
      "model_module_version": "1.1.0",
      "model_name": "LayoutModel",
      "state": {}
     },
     "5e871733e64a49169308c95956593fbc": {
      "model_module": "@jupyter-widgets/controls",
      "model_module_version": "1.4.0",
      "model_name": "HBoxModel",
      "state": {
       "children": [
        "IPY_MODEL_cb58480efa3941d99070f77bad1e618c",
        "IPY_MODEL_88f374f8a7b946bdb88a81fa6171146d",
        "IPY_MODEL_15804d8146a84577aeb79a1c7aadd6ea",
        "IPY_MODEL_a2ec75f1512c47bd89cb2c30cb2f5577"
       ],
       "layout": "IPY_MODEL_89d4a2e64fd4450da08395c9a34c2380"
      }
     },
     "5ecb3f3d78b54f01a99fae86051397a0": {
      "model_module": "@jupyter-widgets/controls",
      "model_module_version": "1.4.0",
      "model_name": "ButtonModel",
      "state": {
       "description": "Run",
       "layout": "IPY_MODEL_3e53582d204044b28778d25aff59a285",
       "style": "IPY_MODEL_5421b0b22751433794d8031965a1ffa9"
      }
     },
     "5f63476552364b9eb3f5d5286057e33e": {
      "model_module": "@jupyter-widgets/controls",
      "model_module_version": "1.4.0",
      "model_name": "DescriptionStyleModel",
      "state": {
       "description_width": ""
      }
     },
     "60762b9574084874bc87db44f473bd8e": {
      "model_module": "@jupyter-widgets/controls",
      "model_module_version": "1.4.0",
      "model_name": "LabelModel",
      "state": {
       "layout": "IPY_MODEL_f755f9d69d9a40fb9b4fab4858f22d16",
       "style": "IPY_MODEL_3360ed17fadf4c9a8a969533f92196b8",
       "value": "Number of Sample points:"
      }
     },
     "619f0e42952a4e579098229e004b9fbf": {
      "model_module": "@jupyter-widgets/base",
      "model_module_version": "1.1.0",
      "model_name": "LayoutModel",
      "state": {}
     },
     "626081214a0243378b7321906580677e": {
      "model_module": "@jupyter-widgets/controls",
      "model_module_version": "1.4.0",
      "model_name": "ButtonModel",
      "state": {
       "description": "Run",
       "layout": "IPY_MODEL_9f25cfb8a0014551b20364b88e88a57b",
       "style": "IPY_MODEL_bcaf75e4cf894ce78c67926656af882c"
      }
     },
     "627ffd4014f243f88e9f913ff21b006b": {
      "model_module": "@jupyter-widgets/base",
      "model_module_version": "1.1.0",
      "model_name": "LayoutModel",
      "state": {}
     },
     "6481d537725e4cf5962ba7d3da8d5b4c": {
      "model_module": "@jupyter-widgets/controls",
      "model_module_version": "1.4.0",
      "model_name": "IntTextModel",
      "state": {
       "layout": "IPY_MODEL_369f741af0ce41708d2897010cf9fbfd",
       "step": 1,
       "style": "IPY_MODEL_7ce1cce901fc4a75a1e980a868e36a29",
       "value": 3000
      }
     },
     "64dded51a507477db92bcd10c9d10a19": {
      "model_module": "@jupyter-widgets/base",
      "model_module_version": "1.1.0",
      "model_name": "LayoutModel",
      "state": {}
     },
     "64f5df9d1ce743fab3f56755e3fdf252": {
      "model_module": "@jupyter-widgets/base",
      "model_module_version": "1.1.0",
      "model_name": "LayoutModel",
      "state": {}
     },
     "6612ac1b51f346dc82b29a69a61d1f73": {
      "model_module": "@jupyter-widgets/controls",
      "model_module_version": "1.4.0",
      "model_name": "ButtonModel",
      "state": {
       "description": "Plot Convergence",
       "layout": "IPY_MODEL_1103052cc70840a1a4d220228d7eef71",
       "style": "IPY_MODEL_b9e2059602fb4b52b38e1e4293678386"
      }
     },
     "6646c32ad05b4542a6af4d9765c01aac": {
      "model_module": "@jupyter-widgets/base",
      "model_module_version": "1.1.0",
      "model_name": "LayoutModel",
      "state": {}
     },
     "6706b45db45d40528bafc8414dbf0e3a": {
      "model_module": "@jupyter-widgets/controls",
      "model_module_version": "1.4.0",
      "model_name": "HBoxModel",
      "state": {
       "children": [
        "IPY_MODEL_c4b9ad85809c43b4a135cc58b891cbeb",
        "IPY_MODEL_1043bb86ff0a43cfa73974261edca65d"
       ],
       "layout": "IPY_MODEL_a5129854913b4ce3ae6031bfe4d737a6"
      }
     },
     "67f120d3bddb4949970891bdfbcf510a": {
      "model_module": "@jupyter-widgets/controls",
      "model_module_version": "1.4.0",
      "model_name": "HBoxModel",
      "state": {
       "children": [
        "IPY_MODEL_74019979fa6745178ae7850f3a15a36f",
        "IPY_MODEL_8211dfeceb07475a894e32534862c8bc",
        "IPY_MODEL_5004f0e3b22949d2947579ddce1fdf70",
        "IPY_MODEL_486ad7e9c4dd4f32851c00127b9b5290"
       ],
       "layout": "IPY_MODEL_949eae66849d4de1a93004b75b674896"
      }
     },
     "68b71ea4af2d4192ba97cd2a4700b2a2": {
      "model_module": "@jupyter-widgets/base",
      "model_module_version": "1.1.0",
      "model_name": "LayoutModel",
      "state": {}
     },
     "69d388945d394c149a434058709ad628": {
      "model_module": "@jupyter-widgets/controls",
      "model_module_version": "1.4.0",
      "model_name": "IntSliderModel",
      "state": {
       "continuous_update": false,
       "layout": "IPY_MODEL_c9d29e8d5c1742bc8636eac10ff2e32f",
       "max": 10000,
       "min": 500,
       "step": 500,
       "style": "IPY_MODEL_a2a167e63a004a07b462a3736142f23e",
       "value": 2000
      }
     },
     "6b594c484d0446a9a2b343660c64c04f": {
      "model_module": "@jupyter-widgets/controls",
      "model_module_version": "1.4.0",
      "model_name": "DescriptionStyleModel",
      "state": {
       "description_width": ""
      }
     },
     "6b91cb1579f74f41a97351e243e30868": {
      "model_module": "@jupyter-widgets/controls",
      "model_module_version": "1.4.0",
      "model_name": "DescriptionStyleModel",
      "state": {
       "description_width": ""
      }
     },
     "6d951539370e46d2b4787cd802b4aa65": {
      "model_module": "@jupyter-widgets/controls",
      "model_module_version": "1.4.0",
      "model_name": "LabelModel",
      "state": {
       "layout": "IPY_MODEL_998e3bfc325344748a846bd460c96cad",
       "style": "IPY_MODEL_7ff4bd33f9db4258a9a5302de7f16268",
       "value": "Click Run to compute mean and standard deviation of the samples and Plot Convergence to see the results"
      }
     },
     "6dd33ba0c0a5405dbe46d9a49251bf40": {
      "model_module": "@jupyter-widgets/base",
      "model_module_version": "1.1.0",
      "model_name": "LayoutModel",
      "state": {}
     },
     "6f4aedeedf6b484d95b7e4118f24fc79": {
      "model_module": "@jupyter-widgets/base",
      "model_module_version": "1.1.0",
      "model_name": "LayoutModel",
      "state": {}
     },
     "6f6d5ecc5c0d44b184e238973ba7511f": {
      "model_module": "@jupyter-widgets/controls",
      "model_module_version": "1.4.0",
      "model_name": "ButtonStyleModel",
      "state": {}
     },
     "703857838ccd4e7cb607011d36f58c98": {
      "model_module": "@jupyter-widgets/controls",
      "model_module_version": "1.4.0",
      "model_name": "DescriptionStyleModel",
      "state": {
       "description_width": ""
      }
     },
     "7068921cdfa44909b644f4c0718200e2": {
      "model_module": "@jupyter-widgets/controls",
      "model_module_version": "1.4.0",
      "model_name": "DescriptionStyleModel",
      "state": {
       "description_width": ""
      }
     },
     "72e2e929e20244a6a080edb0472329c4": {
      "model_module": "@jupyter-widgets/base",
      "model_module_version": "1.1.0",
      "model_name": "LayoutModel",
      "state": {}
     },
     "730526bfe1444137a38bc030c621d831": {
      "model_module": "@jupyter-widgets/controls",
      "model_module_version": "1.4.0",
      "model_name": "DescriptionStyleModel",
      "state": {
       "description_width": ""
      }
     },
     "732cc0fdc9fe4459a2850d23369d7bf8": {
      "model_module": "@jupyter-widgets/base",
      "model_module_version": "1.1.0",
      "model_name": "LayoutModel",
      "state": {}
     },
     "735ccd17a51e4b6db95c6d355a1fce1f": {
      "model_module": "@jupyter-widgets/controls",
      "model_module_version": "1.4.0",
      "model_name": "LabelModel",
      "state": {
       "layout": "IPY_MODEL_51992e98b1144c5bb56b411a0ed1d9d2",
       "style": "IPY_MODEL_21b8e95b18e34925857e1c70546e00dd",
       "value": "Enter four Monte Carlo Sample sizes to compare"
      }
     },
     "74019979fa6745178ae7850f3a15a36f": {
      "model_module": "@jupyter-widgets/controls",
      "model_module_version": "1.4.0",
      "model_name": "IntTextModel",
      "state": {
       "layout": "IPY_MODEL_14901829a4644be19f0856c6654b7e87",
       "step": 1,
       "style": "IPY_MODEL_eceaa3edba1f497186b2556609e43a3c",
       "value": 1000
      }
     },
     "748d54bcb08840c7b59297a0cfdc1e14": {
      "model_module": "@jupyter-widgets/base",
      "model_module_version": "1.1.0",
      "model_name": "LayoutModel",
      "state": {}
     },
     "74c67e94ec824bdc8ce769b5747f88aa": {
      "model_module": "@jupyter-widgets/base",
      "model_module_version": "1.1.0",
      "model_name": "LayoutModel",
      "state": {}
     },
     "7559b6f8b6be48478feca7874db4fa75": {
      "model_module": "@jupyter-widgets/base",
      "model_module_version": "1.1.0",
      "model_name": "LayoutModel",
      "state": {}
     },
     "76fd3d5b2d574d90ad2e72c198eada4f": {
      "model_module": "@jupyter-widgets/output",
      "model_module_version": "1.0.0",
      "model_name": "OutputModel",
      "state": {
       "layout": "IPY_MODEL_19e7e3b102314ffc9c45fc23fe2fbdef",
       "outputs": [
        {
         "data": {
          "image/png": "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\n",
          "text/plain": "<Figure size 576x576 with 1 Axes>"
         },
         "metadata": {
          "needs_background": "light"
         },
         "output_type": "display_data"
        },
        {
         "name": "stdout",
         "output_type": "stream",
         "text": "Monte Carlo error 0.0120073\n"
        }
       ]
      }
     },
     "773b668172fb438f834c5c2976db8091": {
      "model_module": "@jupyter-widgets/controls",
      "model_module_version": "1.4.0",
      "model_name": "DescriptionStyleModel",
      "state": {
       "description_width": ""
      }
     },
     "783327b5743c47cdbb6c2cc7d790fc75": {
      "model_module": "@jupyter-widgets/controls",
      "model_module_version": "1.4.0",
      "model_name": "IntSliderModel",
      "state": {
       "continuous_update": false,
       "layout": "IPY_MODEL_c13035ea71bb42eeb8b6227c684941e5",
       "max": 10000,
       "min": 500,
       "step": 500,
       "style": "IPY_MODEL_e926f59ab75f4636be1ea2bd8d7ea388",
       "value": 2000
      }
     },
     "78795865d2874314a7f2f33c66f36c5e": {
      "model_module": "@jupyter-widgets/controls",
      "model_module_version": "1.4.0",
      "model_name": "IntTextModel",
      "state": {
       "layout": "IPY_MODEL_290512955cbf4762b43eae80b27b3f89",
       "step": 1,
       "style": "IPY_MODEL_1dc31246bec64cf7a13c05cca26365bf",
       "value": 4000
      }
     },
     "78b85e749ac44b0ab05c53816028bfbf": {
      "model_module": "@jupyter-widgets/base",
      "model_module_version": "1.1.0",
      "model_name": "LayoutModel",
      "state": {}
     },
     "790b66c4799a494e9bac5c94575a9c9a": {
      "model_module": "@jupyter-widgets/controls",
      "model_module_version": "1.4.0",
      "model_name": "ButtonStyleModel",
      "state": {}
     },
     "7bb9785cb72f4fefa8ead387b74ccdc7": {
      "model_module": "@jupyter-widgets/controls",
      "model_module_version": "1.4.0",
      "model_name": "DescriptionStyleModel",
      "state": {
       "description_width": ""
      }
     },
     "7c7a91bc543f40218dbed34a283b01be": {
      "model_module": "@jupyter-widgets/controls",
      "model_module_version": "1.4.0",
      "model_name": "LabelModel",
      "state": {
       "layout": "IPY_MODEL_98df0f79d4694ac5a0928d01f0bc5ea7",
       "style": "IPY_MODEL_d63e0d125f654278bc741b48445b30dd",
       "value": "Click Run to compute mean and standard deviation of the samples and Plot Convergence to see the results"
      }
     },
     "7ce1cce901fc4a75a1e980a868e36a29": {
      "model_module": "@jupyter-widgets/controls",
      "model_module_version": "1.4.0",
      "model_name": "DescriptionStyleModel",
      "state": {
       "description_width": ""
      }
     },
     "7d7e4ac95c2f4c9489389e158a8723d8": {
      "model_module": "@jupyter-widgets/base",
      "model_module_version": "1.1.0",
      "model_name": "LayoutModel",
      "state": {}
     },
     "7e78d9b9157847ac89481d8d0e2fef25": {
      "model_module": "@jupyter-widgets/controls",
      "model_module_version": "1.4.0",
      "model_name": "DescriptionStyleModel",
      "state": {
       "description_width": ""
      }
     },
     "7fa6420dba77480bb18e45cf43b950b5": {
      "model_module": "@jupyter-widgets/base",
      "model_module_version": "1.1.0",
      "model_name": "LayoutModel",
      "state": {}
     },
     "7ff4bd33f9db4258a9a5302de7f16268": {
      "model_module": "@jupyter-widgets/controls",
      "model_module_version": "1.4.0",
      "model_name": "DescriptionStyleModel",
      "state": {
       "description_width": ""
      }
     },
     "80697ab39e0e4c6b9c5648a239a523b2": {
      "model_module": "@jupyter-widgets/controls",
      "model_module_version": "1.4.0",
      "model_name": "SliderStyleModel",
      "state": {
       "description_width": ""
      }
     },
     "809dc29d67b94cd19b06dc76cc4903a9": {
      "model_module": "@jupyter-widgets/base",
      "model_module_version": "1.1.0",
      "model_name": "LayoutModel",
      "state": {}
     },
     "81896be26dd440809ce064bd3951f31c": {
      "model_module": "@jupyter-widgets/controls",
      "model_module_version": "1.4.0",
      "model_name": "ButtonModel",
      "state": {
       "description": "Plot Convergence",
       "layout": "IPY_MODEL_a20b62fc72f14a94925a1eba0bb7b40a",
       "style": "IPY_MODEL_c94e5d4ab5da4c72926a0084ecc5b1c8"
      }
     },
     "8211dfeceb07475a894e32534862c8bc": {
      "model_module": "@jupyter-widgets/controls",
      "model_module_version": "1.4.0",
      "model_name": "IntTextModel",
      "state": {
       "layout": "IPY_MODEL_2d99d95d0aab4565ba69138dcc7cff13",
       "step": 1,
       "style": "IPY_MODEL_acebaadeadf94da98f1454327ade1871",
       "value": 2000
      }
     },
     "83746fbed8604bc2b49260edd01a1b47": {
      "model_module": "@jupyter-widgets/base",
      "model_module_version": "1.1.0",
      "model_name": "LayoutModel",
      "state": {}
     },
     "84d3b72a69ef4c6ebc8947198111f886": {
      "model_module": "@jupyter-widgets/base",
      "model_module_version": "1.1.0",
      "model_name": "LayoutModel",
      "state": {}
     },
     "85799df781464c14a6579f2eee175fcf": {
      "model_module": "@jupyter-widgets/base",
      "model_module_version": "1.1.0",
      "model_name": "LayoutModel",
      "state": {}
     },
     "86b454757e074000be30671648ebb43c": {
      "model_module": "@jupyter-widgets/controls",
      "model_module_version": "1.4.0",
      "model_name": "ButtonStyleModel",
      "state": {}
     },
     "886402cfcde54c04863bed18b731a045": {
      "model_module": "@jupyter-widgets/controls",
      "model_module_version": "1.4.0",
      "model_name": "DescriptionStyleModel",
      "state": {
       "description_width": ""
      }
     },
     "886e38be61954bc5be72e6d5dd23fc65": {
      "model_module": "@jupyter-widgets/controls",
      "model_module_version": "1.4.0",
      "model_name": "DescriptionStyleModel",
      "state": {
       "description_width": ""
      }
     },
     "88d1ec7ae4874bbb8635b1fddc8d6daf": {
      "model_module": "@jupyter-widgets/controls",
      "model_module_version": "1.4.0",
      "model_name": "ButtonModel",
      "state": {
       "description": "Run",
       "layout": "IPY_MODEL_2aede16bfdbb4638ba99583bf139ea26",
       "style": "IPY_MODEL_790b66c4799a494e9bac5c94575a9c9a"
      }
     },
     "88f374f8a7b946bdb88a81fa6171146d": {
      "model_module": "@jupyter-widgets/controls",
      "model_module_version": "1.4.0",
      "model_name": "IntTextModel",
      "state": {
       "layout": "IPY_MODEL_fae7790e29a64ce883519e3aa80b4dab",
       "step": 1,
       "style": "IPY_MODEL_ca56eeca66124e60b7361e6a8dd48793",
       "value": 2000
      }
     },
     "89d4a2e64fd4450da08395c9a34c2380": {
      "model_module": "@jupyter-widgets/base",
      "model_module_version": "1.1.0",
      "model_name": "LayoutModel",
      "state": {}
     },
     "8b7d01de02454fc691c88f1b3517db7d": {
      "model_module": "@jupyter-widgets/controls",
      "model_module_version": "1.4.0",
      "model_name": "DescriptionStyleModel",
      "state": {
       "description_width": ""
      }
     },
     "8b8483202095482fbb7688716e30624e": {
      "model_module": "@jupyter-widgets/base",
      "model_module_version": "1.1.0",
      "model_name": "LayoutModel",
      "state": {}
     },
     "8bae468897ca49f580a9db6738616fe9": {
      "model_module": "@jupyter-widgets/output",
      "model_module_version": "1.0.0",
      "model_name": "OutputModel",
      "state": {
       "layout": "IPY_MODEL_748d54bcb08840c7b59297a0cfdc1e14"
      }
     },
     "8c54df20a544410c833546886b43791a": {
      "model_module": "@jupyter-widgets/base",
      "model_module_version": "1.1.0",
      "model_name": "LayoutModel",
      "state": {}
     },
     "8c8fdc0446bb44f488d8ffe87f6842f4": {
      "model_module": "@jupyter-widgets/base",
      "model_module_version": "1.1.0",
      "model_name": "LayoutModel",
      "state": {}
     },
     "8de47aecbce94352a660ac1607601b67": {
      "model_module": "@jupyter-widgets/base",
      "model_module_version": "1.1.0",
      "model_name": "LayoutModel",
      "state": {}
     },
     "8f7e6ccfe0614b769462d900f21ef61d": {
      "model_module": "@jupyter-widgets/controls",
      "model_module_version": "1.4.0",
      "model_name": "LabelModel",
      "state": {
       "layout": "IPY_MODEL_74c67e94ec824bdc8ce769b5747f88aa",
       "style": "IPY_MODEL_9e7889b06d4b4d169019c032ca4ce95a",
       "value": "Click Run to compute mean and standard deviation of the samples and Plot Convergence to see the results"
      }
     },
     "9007c6c2d71141c1b7f4fa77670bf985": {
      "model_module": "@jupyter-widgets/base",
      "model_module_version": "1.1.0",
      "model_name": "LayoutModel",
      "state": {}
     },
     "91b8bb2563d8440d8d5675f3fd1bccf2": {
      "model_module": "@jupyter-widgets/base",
      "model_module_version": "1.1.0",
      "model_name": "LayoutModel",
      "state": {}
     },
     "94597a7fe16f47c1b5287a694887a0ea": {
      "model_module": "@jupyter-widgets/controls",
      "model_module_version": "1.4.0",
      "model_name": "IntSliderModel",
      "state": {
       "continuous_update": false,
       "layout": "IPY_MODEL_a80808ee7e77499cbc3cdf5dd8b659d3",
       "max": 10000,
       "min": 500,
       "step": 500,
       "style": "IPY_MODEL_cb931c27adf948cea084fa881e2ebaab",
       "value": 2000
      }
     },
     "949eae66849d4de1a93004b75b674896": {
      "model_module": "@jupyter-widgets/base",
      "model_module_version": "1.1.0",
      "model_name": "LayoutModel",
      "state": {}
     },
     "95f997386b8243fb98a06c7df3207aee": {
      "model_module": "@jupyter-widgets/controls",
      "model_module_version": "1.4.0",
      "model_name": "ButtonStyleModel",
      "state": {}
     },
     "96ea45e9bc5d4a498f4248dab2136284": {
      "model_module": "@jupyter-widgets/base",
      "model_module_version": "1.1.0",
      "model_name": "LayoutModel",
      "state": {}
     },
     "97abd178599541f3b0316c2ceae2e6ed": {
      "model_module": "@jupyter-widgets/controls",
      "model_module_version": "1.4.0",
      "model_name": "DescriptionStyleModel",
      "state": {
       "description_width": ""
      }
     },
     "98df0f79d4694ac5a0928d01f0bc5ea7": {
      "model_module": "@jupyter-widgets/base",
      "model_module_version": "1.1.0",
      "model_name": "LayoutModel",
      "state": {}
     },
     "98ea3b0ae3db44838ad20a490265d041": {
      "model_module": "@jupyter-widgets/controls",
      "model_module_version": "1.4.0",
      "model_name": "LabelModel",
      "state": {
       "layout": "IPY_MODEL_0022e5b3ad1940009b7286ee84a4e40d",
       "style": "IPY_MODEL_d52f962a611c4babb9508bb3b5dc11d0",
       "value": "Number of Sample points:"
      }
     },
     "998e3bfc325344748a846bd460c96cad": {
      "model_module": "@jupyter-widgets/base",
      "model_module_version": "1.1.0",
      "model_name": "LayoutModel",
      "state": {}
     },
     "9a01a7683564445f87ce5bd9efe34021": {
      "model_module": "@jupyter-widgets/base",
      "model_module_version": "1.1.0",
      "model_name": "LayoutModel",
      "state": {}
     },
     "9e7889b06d4b4d169019c032ca4ce95a": {
      "model_module": "@jupyter-widgets/controls",
      "model_module_version": "1.4.0",
      "model_name": "DescriptionStyleModel",
      "state": {
       "description_width": ""
      }
     },
     "9e8f8c60e5d34788912ddcfcc6a2f7b6": {
      "model_module": "@jupyter-widgets/controls",
      "model_module_version": "1.4.0",
      "model_name": "DescriptionStyleModel",
      "state": {
       "description_width": ""
      }
     },
     "9f25cfb8a0014551b20364b88e88a57b": {
      "model_module": "@jupyter-widgets/base",
      "model_module_version": "1.1.0",
      "model_name": "LayoutModel",
      "state": {}
     },
     "a02d6e52b32d4dbb88ade6d93e7d022c": {
      "model_module": "@jupyter-widgets/base",
      "model_module_version": "1.1.0",
      "model_name": "LayoutModel",
      "state": {}
     },
     "a161bd8cdc6d440f9f01da578c2b1665": {
      "model_module": "@jupyter-widgets/controls",
      "model_module_version": "1.4.0",
      "model_name": "HBoxModel",
      "state": {
       "children": [
        "IPY_MODEL_b1e02a9f36d24094bd3704d5cfb5a5aa",
        "IPY_MODEL_28322813fbe74d8486d59a1613eb89cf"
       ],
       "layout": "IPY_MODEL_6f4aedeedf6b484d95b7e4118f24fc79"
      }
     },
     "a20b62fc72f14a94925a1eba0bb7b40a": {
      "model_module": "@jupyter-widgets/base",
      "model_module_version": "1.1.0",
      "model_name": "LayoutModel",
      "state": {}
     },
     "a21daf52cfb647f8b8b730bfb60071a8": {
      "model_module": "@jupyter-widgets/base",
      "model_module_version": "1.1.0",
      "model_name": "LayoutModel",
      "state": {}
     },
     "a2a167e63a004a07b462a3736142f23e": {
      "model_module": "@jupyter-widgets/controls",
      "model_module_version": "1.4.0",
      "model_name": "SliderStyleModel",
      "state": {
       "description_width": ""
      }
     },
     "a2ec75f1512c47bd89cb2c30cb2f5577": {
      "model_module": "@jupyter-widgets/controls",
      "model_module_version": "1.4.0",
      "model_name": "IntTextModel",
      "state": {
       "layout": "IPY_MODEL_4dce5473f6574a92bb392adfbc7a47d7",
       "step": 1,
       "style": "IPY_MODEL_fddf544f223a448ba24e0e0f5dde5ddf",
       "value": 4000
      }
     },
     "a3c883d456f84a608bd2d8af2808f55b": {
      "model_module": "@jupyter-widgets/base",
      "model_module_version": "1.1.0",
      "model_name": "LayoutModel",
      "state": {}
     },
     "a3f5d8b42bfd4cdc9f478e530ed5bbc5": {
      "model_module": "@jupyter-widgets/controls",
      "model_module_version": "1.4.0",
      "model_name": "DescriptionStyleModel",
      "state": {
       "description_width": ""
      }
     },
     "a5129854913b4ce3ae6031bfe4d737a6": {
      "model_module": "@jupyter-widgets/base",
      "model_module_version": "1.1.0",
      "model_name": "LayoutModel",
      "state": {}
     },
     "a6b13d8824db45c9af00c32a9bb00826": {
      "model_module": "@jupyter-widgets/controls",
      "model_module_version": "1.4.0",
      "model_name": "DescriptionStyleModel",
      "state": {
       "description_width": ""
      }
     },
     "a75c446b4d554d58b7872346283998f3": {
      "model_module": "@jupyter-widgets/controls",
      "model_module_version": "1.4.0",
      "model_name": "LabelModel",
      "state": {
       "layout": "IPY_MODEL_1dbfbd9652934b47b21932d09eba4262",
       "style": "IPY_MODEL_bb91ce6460b94d34ad3ae6c519f17a87",
       "value": "Number of Sample points:"
      }
     },
     "a78000471b5949c99d7479a8bfcb533e": {
      "model_module": "@jupyter-widgets/output",
      "model_module_version": "1.0.0",
      "model_name": "OutputModel",
      "state": {
       "layout": "IPY_MODEL_007416b2ec054648be83015e999b1ea8"
      }
     },
     "a80808ee7e77499cbc3cdf5dd8b659d3": {
      "model_module": "@jupyter-widgets/base",
      "model_module_version": "1.1.0",
      "model_name": "LayoutModel",
      "state": {}
     },
     "a8d89491488e4a6681c6831cfa18fcce": {
      "model_module": "@jupyter-widgets/controls",
      "model_module_version": "1.4.0",
      "model_name": "DescriptionStyleModel",
      "state": {
       "description_width": ""
      }
     },
     "a8fa8f4eb4ac4510a54ed6e8c9ab3d50": {
      "model_module": "@jupyter-widgets/base",
      "model_module_version": "1.1.0",
      "model_name": "LayoutModel",
      "state": {}
     },
     "aa14e81cf8424c70b435b8efd0e5a897": {
      "model_module": "@jupyter-widgets/base",
      "model_module_version": "1.1.0",
      "model_name": "LayoutModel",
      "state": {}
     },
     "ac3f104a857d471f90e1f01e8ec3a253": {
      "model_module": "@jupyter-widgets/controls",
      "model_module_version": "1.4.0",
      "model_name": "IntTextModel",
      "state": {
       "layout": "IPY_MODEL_809dc29d67b94cd19b06dc76cc4903a9",
       "step": 1,
       "style": "IPY_MODEL_4fa47075e8c4425aa96f7098e8579456",
       "value": 3000
      }
     },
     "accc6220b2e548109d0a5539b66bd0e0": {
      "model_module": "@jupyter-widgets/controls",
      "model_module_version": "1.4.0",
      "model_name": "ButtonModel",
      "state": {
       "description": "Plot Convergence",
       "layout": "IPY_MODEL_1356201f119e486999cc099c8a27ef3a",
       "style": "IPY_MODEL_86b454757e074000be30671648ebb43c"
      }
     },
     "acd592f47e3e4661b11820387020c9ed": {
      "model_module": "@jupyter-widgets/controls",
      "model_module_version": "1.4.0",
      "model_name": "DescriptionStyleModel",
      "state": {
       "description_width": ""
      }
     },
     "acebaadeadf94da98f1454327ade1871": {
      "model_module": "@jupyter-widgets/controls",
      "model_module_version": "1.4.0",
      "model_name": "DescriptionStyleModel",
      "state": {
       "description_width": ""
      }
     },
     "adbd2e9b1bde4c5c8a139a33e7a644a8": {
      "model_module": "@jupyter-widgets/base",
      "model_module_version": "1.1.0",
      "model_name": "LayoutModel",
      "state": {}
     },
     "ae596f91dfea4408aaa0f51fd3a7da57": {
      "model_module": "@jupyter-widgets/output",
      "model_module_version": "1.0.0",
      "model_name": "OutputModel",
      "state": {
       "layout": "IPY_MODEL_83746fbed8604bc2b49260edd01a1b47",
       "outputs": [
        {
         "data": {
          "image/png": "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\n",
          "text/plain": "<Figure size 576x576 with 1 Axes>"
         },
         "metadata": {
          "needs_background": "light"
         },
         "output_type": "display_data"
        },
        {
         "name": "stdout",
         "output_type": "stream",
         "text": "Monte Carlo error 0.0164073\n"
        }
       ]
      }
     },
     "ae5f8f6b1a2f4109a5ea550669f84097": {
      "model_module": "@jupyter-widgets/controls",
      "model_module_version": "1.4.0",
      "model_name": "SliderStyleModel",
      "state": {
       "description_width": ""
      }
     },
     "aeb2578673414cf8b2ae9c839a81d064": {
      "model_module": "@jupyter-widgets/base",
      "model_module_version": "1.1.0",
      "model_name": "LayoutModel",
      "state": {}
     },
     "aed9691b533a48fb9db3ba4017339506": {
      "model_module": "@jupyter-widgets/controls",
      "model_module_version": "1.4.0",
      "model_name": "IntTextModel",
      "state": {
       "layout": "IPY_MODEL_2ea2482f1e18463aafed8e2fc7e35b99",
       "step": 1,
       "style": "IPY_MODEL_7e78d9b9157847ac89481d8d0e2fef25",
       "value": 3000
      }
     },
     "af7832a2a2e7460abff32cb42ced81e5": {
      "model_module": "@jupyter-widgets/base",
      "model_module_version": "1.1.0",
      "model_name": "LayoutModel",
      "state": {}
     },
     "b11bd12df9a343829e551d1c44567751": {
      "model_module": "@jupyter-widgets/controls",
      "model_module_version": "1.4.0",
      "model_name": "HBoxModel",
      "state": {
       "children": [
        "IPY_MODEL_a75c446b4d554d58b7872346283998f3",
        "IPY_MODEL_783327b5743c47cdbb6c2cc7d790fc75"
       ],
       "layout": "IPY_MODEL_42cfe7367ce241ef83cb1bd7911629fd"
      }
     },
     "b12144c216b5400eb6a20c7626c8c793": {
      "model_module": "@jupyter-widgets/controls",
      "model_module_version": "1.4.0",
      "model_name": "DescriptionStyleModel",
      "state": {
       "description_width": ""
      }
     },
     "b15792ac4de44e0b894fbdd500ec804a": {
      "model_module": "@jupyter-widgets/controls",
      "model_module_version": "1.4.0",
      "model_name": "DescriptionStyleModel",
      "state": {
       "description_width": ""
      }
     },
     "b1e02a9f36d24094bd3704d5cfb5a5aa": {
      "model_module": "@jupyter-widgets/controls",
      "model_module_version": "1.4.0",
      "model_name": "LabelModel",
      "state": {
       "layout": "IPY_MODEL_64dded51a507477db92bcd10c9d10a19",
       "style": "IPY_MODEL_030e1abffbbf478792dc1dd725637691",
       "value": "Number of Sample points:"
      }
     },
     "b27544c3a9d8419da2aeea62be98d3db": {
      "model_module": "@jupyter-widgets/base",
      "model_module_version": "1.1.0",
      "model_name": "LayoutModel",
      "state": {}
     },
     "b6efb9440bc24556836de142383d82f3": {
      "model_module": "@jupyter-widgets/output",
      "model_module_version": "1.0.0",
      "model_name": "OutputModel",
      "state": {
       "layout": "IPY_MODEL_d82aa38897eb433795d2b08fd124e805"
      }
     },
     "b75d486455374ae9ab46948f4686ac86": {
      "model_module": "@jupyter-widgets/controls",
      "model_module_version": "1.4.0",
      "model_name": "ButtonStyleModel",
      "state": {}
     },
     "b951a138abc34ceba1e760b96d12a244": {
      "model_module": "@jupyter-widgets/controls",
      "model_module_version": "1.4.0",
      "model_name": "HBoxModel",
      "state": {
       "children": [
        "IPY_MODEL_2a9e3bb4fa0444199ccf9bec4e432f5a",
        "IPY_MODEL_d261e8ae2e5048f0ba52ddaee92d4116"
       ],
       "layout": "IPY_MODEL_4325f65fc22a4b0caf08fea3819f3d49"
      }
     },
     "b9e2059602fb4b52b38e1e4293678386": {
      "model_module": "@jupyter-widgets/controls",
      "model_module_version": "1.4.0",
      "model_name": "ButtonStyleModel",
      "state": {}
     },
     "ba91b6bc2b7d4ca1ad56b9c96145aa33": {
      "model_module": "@jupyter-widgets/controls",
      "model_module_version": "1.4.0",
      "model_name": "LabelModel",
      "state": {
       "layout": "IPY_MODEL_7559b6f8b6be48478feca7874db4fa75",
       "style": "IPY_MODEL_773b668172fb438f834c5c2976db8091",
       "value": "Number of Sample points:"
      }
     },
     "bb91ce6460b94d34ad3ae6c519f17a87": {
      "model_module": "@jupyter-widgets/controls",
      "model_module_version": "1.4.0",
      "model_name": "DescriptionStyleModel",
      "state": {
       "description_width": ""
      }
     },
     "bc0be0970d774a4ea28ac42456af2168": {
      "model_module": "@jupyter-widgets/base",
      "model_module_version": "1.1.0",
      "model_name": "LayoutModel",
      "state": {}
     },
     "bcaf75e4cf894ce78c67926656af882c": {
      "model_module": "@jupyter-widgets/controls",
      "model_module_version": "1.4.0",
      "model_name": "ButtonStyleModel",
      "state": {}
     },
     "be8fe2a2acae4ef3ad934cea9f6d36c4": {
      "model_module": "@jupyter-widgets/controls",
      "model_module_version": "1.4.0",
      "model_name": "IntTextModel",
      "state": {
       "layout": "IPY_MODEL_9a01a7683564445f87ce5bd9efe34021",
       "step": 1,
       "style": "IPY_MODEL_0d64bfc1408a471a8c0197787299fd63",
       "value": 1000
      }
     },
     "bf3ce615f99f437e8d312405df5a6095": {
      "model_module": "@jupyter-widgets/base",
      "model_module_version": "1.1.0",
      "model_name": "LayoutModel",
      "state": {}
     },
     "c0c34ee304da46a399f2339cf70a761f": {
      "model_module": "@jupyter-widgets/controls",
      "model_module_version": "1.4.0",
      "model_name": "IntTextModel",
      "state": {
       "layout": "IPY_MODEL_85799df781464c14a6579f2eee175fcf",
       "step": 1,
       "style": "IPY_MODEL_25490ec6e64d434cb325ba2d5651ef77",
       "value": 4000
      }
     },
     "c13035ea71bb42eeb8b6227c684941e5": {
      "model_module": "@jupyter-widgets/base",
      "model_module_version": "1.1.0",
      "model_name": "LayoutModel",
      "state": {}
     },
     "c3a9a1bbd712426da411f5bf6e0d86bd": {
      "model_module": "@jupyter-widgets/base",
      "model_module_version": "1.1.0",
      "model_name": "LayoutModel",
      "state": {}
     },
     "c3e7c8e520fd49ecb4c15a56a8a7f070": {
      "model_module": "@jupyter-widgets/output",
      "model_module_version": "1.0.0",
      "model_name": "OutputModel",
      "state": {
       "layout": "IPY_MODEL_2872559f1b1f484ba9224d4adb2ae360",
       "outputs": [
        {
         "data": {
          "image/png": "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\n",
          "text/plain": "<Figure size 576x576 with 1 Axes>"
         },
         "metadata": {
          "needs_background": "light"
         },
         "output_type": "display_data"
        },
        {
         "name": "stdout",
         "output_type": "stream",
         "text": "Monte Carlo error 0.0164073\n"
        }
       ]
      }
     },
     "c4b9ad85809c43b4a135cc58b891cbeb": {
      "model_module": "@jupyter-widgets/controls",
      "model_module_version": "1.4.0",
      "model_name": "LabelModel",
      "state": {
       "layout": "IPY_MODEL_2d2fce1975a64f94893ad835fb2bea63",
       "style": "IPY_MODEL_409de49cf6874d2dbe76036f1770c024",
       "value": "Number of Sample points:"
      }
     },
     "c68fe716af97460c8347c71edcfbf23a": {
      "model_module": "@jupyter-widgets/controls",
      "model_module_version": "1.4.0",
      "model_name": "DescriptionStyleModel",
      "state": {
       "description_width": ""
      }
     },
     "c6be434e58ee47d08fe7acae28767e0a": {
      "model_module": "@jupyter-widgets/controls",
      "model_module_version": "1.4.0",
      "model_name": "DescriptionStyleModel",
      "state": {
       "description_width": ""
      }
     },
     "c74b82eb7af741168d8f8a23b4e80a59": {
      "model_module": "@jupyter-widgets/controls",
      "model_module_version": "1.4.0",
      "model_name": "ButtonStyleModel",
      "state": {}
     },
     "c8e32dc274c24a81964a42a979b2c348": {
      "model_module": "@jupyter-widgets/controls",
      "model_module_version": "1.4.0",
      "model_name": "DescriptionStyleModel",
      "state": {
       "description_width": ""
      }
     },
     "c94e5d4ab5da4c72926a0084ecc5b1c8": {
      "model_module": "@jupyter-widgets/controls",
      "model_module_version": "1.4.0",
      "model_name": "ButtonStyleModel",
      "state": {}
     },
     "c9d29e8d5c1742bc8636eac10ff2e32f": {
      "model_module": "@jupyter-widgets/base",
      "model_module_version": "1.1.0",
      "model_name": "LayoutModel",
      "state": {}
     },
     "ca56eeca66124e60b7361e6a8dd48793": {
      "model_module": "@jupyter-widgets/controls",
      "model_module_version": "1.4.0",
      "model_name": "DescriptionStyleModel",
      "state": {
       "description_width": ""
      }
     },
     "cb081344ece74583adfaeeab162dbce0": {
      "model_module": "@jupyter-widgets/controls",
      "model_module_version": "1.4.0",
      "model_name": "HBoxModel",
      "state": {
       "children": [
        "IPY_MODEL_32f9b4c66a5442f6b10b3468a00e711a",
        "IPY_MODEL_30429f4a300743c182cdea4f95061afe",
        "IPY_MODEL_31bfd74b7af24a68b39f936b2a3471d9",
        "IPY_MODEL_58fcc8377bed49478caccfecacd2e021"
       ],
       "layout": "IPY_MODEL_fa073a84b3914696a20537875e42afe4"
      }
     },
     "cb58480efa3941d99070f77bad1e618c": {
      "model_module": "@jupyter-widgets/controls",
      "model_module_version": "1.4.0",
      "model_name": "IntTextModel",
      "state": {
       "layout": "IPY_MODEL_55e39d383de845ce8963f0b9887535d8",
       "step": 1,
       "style": "IPY_MODEL_0ed8e825e12a4f33beb40a6c8b3a32c0",
       "value": 1000
      }
     },
     "cb931c27adf948cea084fa881e2ebaab": {
      "model_module": "@jupyter-widgets/controls",
      "model_module_version": "1.4.0",
      "model_name": "SliderStyleModel",
      "state": {
       "description_width": ""
      }
     },
     "cc91583b78034334989d343ffb2adf19": {
      "model_module": "@jupyter-widgets/controls",
      "model_module_version": "1.4.0",
      "model_name": "ButtonModel",
      "state": {
       "description": "Run",
       "layout": "IPY_MODEL_a21daf52cfb647f8b8b730bfb60071a8",
       "style": "IPY_MODEL_11dba1eddcd04e6f8cb996785a7fdf03"
      }
     },
     "ccb98c0f6e3a425cb55c878189afbb35": {
      "model_module": "@jupyter-widgets/controls",
      "model_module_version": "1.4.0",
      "model_name": "LabelModel",
      "state": {
       "layout": "IPY_MODEL_96ea45e9bc5d4a498f4248dab2136284",
       "style": "IPY_MODEL_df7ca7f0111b4fe89aab2ba55a383d63",
       "value": "Number of Sample points:"
      }
     },
     "cd79a1c1b7f9420a93e2cb3864d7c17c": {
      "model_module": "@jupyter-widgets/output",
      "model_module_version": "1.0.0",
      "model_name": "OutputModel",
      "state": {
       "layout": "IPY_MODEL_22497af530644d299b396541faeb0ae3"
      }
     },
     "cfbdf17651c34e25b2b4a2b6c772250b": {
      "model_module": "@jupyter-widgets/base",
      "model_module_version": "1.1.0",
      "model_name": "LayoutModel",
      "state": {}
     },
     "d0c073582e214b919db8da6812e54f73": {
      "model_module": "@jupyter-widgets/base",
      "model_module_version": "1.1.0",
      "model_name": "LayoutModel",
      "state": {}
     },
     "d1a83b14f43a48578f7426bbf4d543a6": {
      "model_module": "@jupyter-widgets/base",
      "model_module_version": "1.1.0",
      "model_name": "LayoutModel",
      "state": {}
     },
     "d1de1652bdff48a3a793d9fd243d415f": {
      "model_module": "@jupyter-widgets/output",
      "model_module_version": "1.0.0",
      "model_name": "OutputModel",
      "state": {
       "layout": "IPY_MODEL_f876fbf5f635474385693f0886f4cd47",
       "outputs": [
        {
         "data": {
          "image/png": "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\n",
          "text/plain": "<Figure size 576x576 with 1 Axes>"
         },
         "metadata": {
          "needs_background": "light"
         },
         "output_type": "display_data"
        },
        {
         "name": "stdout",
         "output_type": "stream",
         "text": "Monte Carlo error 0.0164073\n"
        }
       ]
      }
     },
     "d261e8ae2e5048f0ba52ddaee92d4116": {
      "model_module": "@jupyter-widgets/controls",
      "model_module_version": "1.4.0",
      "model_name": "IntSliderModel",
      "state": {
       "continuous_update": false,
       "layout": "IPY_MODEL_50a25a77347444cf84ada0458c1fa87a",
       "max": 10000,
       "min": 500,
       "step": 500,
       "style": "IPY_MODEL_ff746b1e97954a0ab558929a62947ced",
       "value": 2000
      }
     },
     "d52f962a611c4babb9508bb3b5dc11d0": {
      "model_module": "@jupyter-widgets/controls",
      "model_module_version": "1.4.0",
      "model_name": "DescriptionStyleModel",
      "state": {
       "description_width": ""
      }
     },
     "d533848a1ad9439aa46815ba3ddf3dfc": {
      "model_module": "@jupyter-widgets/output",
      "model_module_version": "1.0.0",
      "model_name": "OutputModel",
      "state": {
       "layout": "IPY_MODEL_d85ee63b19794c8eb97f0ff4befd7cc6"
      }
     },
     "d63e0d125f654278bc741b48445b30dd": {
      "model_module": "@jupyter-widgets/controls",
      "model_module_version": "1.4.0",
      "model_name": "DescriptionStyleModel",
      "state": {
       "description_width": ""
      }
     },
     "d7971ad988894223b241c11311b5d690": {
      "model_module": "@jupyter-widgets/controls",
      "model_module_version": "1.4.0",
      "model_name": "DescriptionStyleModel",
      "state": {
       "description_width": ""
      }
     },
     "d7e1969f28cb4dd395774ba457508949": {
      "model_module": "@jupyter-widgets/base",
      "model_module_version": "1.1.0",
      "model_name": "LayoutModel",
      "state": {}
     },
     "d82aa38897eb433795d2b08fd124e805": {
      "model_module": "@jupyter-widgets/base",
      "model_module_version": "1.1.0",
      "model_name": "LayoutModel",
      "state": {}
     },
     "d85ee63b19794c8eb97f0ff4befd7cc6": {
      "model_module": "@jupyter-widgets/base",
      "model_module_version": "1.1.0",
      "model_name": "LayoutModel",
      "state": {}
     },
     "d97b51928f4b4d59882b313ca182d62f": {
      "model_module": "@jupyter-widgets/controls",
      "model_module_version": "1.4.0",
      "model_name": "DescriptionStyleModel",
      "state": {
       "description_width": ""
      }
     },
     "dc5b28f898174cbc845f0ad265a477af": {
      "model_module": "@jupyter-widgets/controls",
      "model_module_version": "1.4.0",
      "model_name": "ButtonModel",
      "state": {
       "description": "Plot Convergence",
       "layout": "IPY_MODEL_3c118b14f4194b8eb82875cfec78b352",
       "style": "IPY_MODEL_b75d486455374ae9ab46948f4686ac86"
      }
     },
     "dce3541fa2154e9db1c80e5413e2533a": {
      "model_module": "@jupyter-widgets/controls",
      "model_module_version": "1.4.0",
      "model_name": "DescriptionStyleModel",
      "state": {
       "description_width": ""
      }
     },
     "de9d80e6c512470f86d5b8462b932031": {
      "model_module": "@jupyter-widgets/controls",
      "model_module_version": "1.4.0",
      "model_name": "ButtonStyleModel",
      "state": {}
     },
     "df7ca7f0111b4fe89aab2ba55a383d63": {
      "model_module": "@jupyter-widgets/controls",
      "model_module_version": "1.4.0",
      "model_name": "DescriptionStyleModel",
      "state": {
       "description_width": ""
      }
     },
     "e003a2b37b3948869d15ff841f94040c": {
      "model_module": "@jupyter-widgets/controls",
      "model_module_version": "1.4.0",
      "model_name": "DescriptionStyleModel",
      "state": {
       "description_width": ""
      }
     },
     "e051971e9d05406d825add3d56b9f4ce": {
      "model_module": "@jupyter-widgets/base",
      "model_module_version": "1.1.0",
      "model_name": "LayoutModel",
      "state": {}
     },
     "e24055a36fda46458eb8818709af459a": {
      "model_module": "@jupyter-widgets/controls",
      "model_module_version": "1.4.0",
      "model_name": "LabelModel",
      "state": {
       "layout": "IPY_MODEL_aa14e81cf8424c70b435b8efd0e5a897",
       "style": "IPY_MODEL_35a7e36b1e454fd18b89ab13ea4477f8",
       "value": "Click Run to compute mean and standard deviation of the samples and Plot Convergence to see the results"
      }
     },
     "e27b785317d34a0cb2b454c20c12b598": {
      "model_module": "@jupyter-widgets/controls",
      "model_module_version": "1.4.0",
      "model_name": "LabelModel",
      "state": {
       "layout": "IPY_MODEL_d7e1969f28cb4dd395774ba457508949",
       "style": "IPY_MODEL_e003a2b37b3948869d15ff841f94040c",
       "value": "Enter four Monte Carlo Sample sizes to compare"
      }
     },
     "e2c5149e24d64fdcba1c8f7b198b5a01": {
      "model_module": "@jupyter-widgets/controls",
      "model_module_version": "1.4.0",
      "model_name": "HBoxModel",
      "state": {
       "children": [
        "IPY_MODEL_5218e9ca5d8141dca9cdd291841eacac",
        "IPY_MODEL_2c510cd74bcb42db965b4af38caf48ac"
       ],
       "layout": "IPY_MODEL_72e2e929e20244a6a080edb0472329c4"
      }
     },
     "e53db50adfa24976bb976ac50aae1816": {
      "model_module": "@jupyter-widgets/controls",
      "model_module_version": "1.4.0",
      "model_name": "ButtonModel",
      "state": {
       "description": "Plot Convergence",
       "layout": "IPY_MODEL_eb3a5a4d44df417585f44caa3fd750be",
       "style": "IPY_MODEL_41d8b6af03024a2badf15c62c15338bb"
      }
     },
     "e5a92851bc6f4839a7c246813af47a09": {
      "model_module": "@jupyter-widgets/controls",
      "model_module_version": "1.4.0",
      "model_name": "DescriptionStyleModel",
      "state": {
       "description_width": ""
      }
     },
     "e5d2f3379bfc48d18a40b4a911394f38": {
      "model_module": "@jupyter-widgets/base",
      "model_module_version": "1.1.0",
      "model_name": "LayoutModel",
      "state": {}
     },
     "e613894486cf4f3ab0acdd65e6b38557": {
      "model_module": "@jupyter-widgets/base",
      "model_module_version": "1.1.0",
      "model_name": "LayoutModel",
      "state": {}
     },
     "e6b0492e3fb9438e8b73e8b56323284d": {
      "model_module": "@jupyter-widgets/output",
      "model_module_version": "1.0.0",
      "model_name": "OutputModel",
      "state": {
       "layout": "IPY_MODEL_619f0e42952a4e579098229e004b9fbf",
       "outputs": [
        {
         "data": {
          "image/png": "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\n",
          "text/plain": "<Figure size 576x576 with 1 Axes>"
         },
         "metadata": {
          "needs_background": "light"
         },
         "output_type": "display_data"
        },
        {
         "name": "stdout",
         "output_type": "stream",
         "text": "Monte Carlo error 0.0164073\n"
        }
       ]
      }
     },
     "e76a99a33bd744a7ad94e01bd8f0495b": {
      "model_module": "@jupyter-widgets/base",
      "model_module_version": "1.1.0",
      "model_name": "LayoutModel",
      "state": {}
     },
     "e7a826eed76545b9aab9b36ff389f917": {
      "model_module": "@jupyter-widgets/controls",
      "model_module_version": "1.4.0",
      "model_name": "LabelModel",
      "state": {
       "layout": "IPY_MODEL_fc69fc12436643d196c3b1b5b5d1f2a7",
       "style": "IPY_MODEL_1245c28272b54a98a6211d4492a8fd5f",
       "value": "Enter four Monte Carlo Sample sizes to compare"
      }
     },
     "e926f59ab75f4636be1ea2bd8d7ea388": {
      "model_module": "@jupyter-widgets/controls",
      "model_module_version": "1.4.0",
      "model_name": "SliderStyleModel",
      "state": {
       "description_width": ""
      }
     },
     "ea1bce5e600340ea969155dafcacd6c5": {
      "model_module": "@jupyter-widgets/base",
      "model_module_version": "1.1.0",
      "model_name": "LayoutModel",
      "state": {}
     },
     "eb3a5a4d44df417585f44caa3fd750be": {
      "model_module": "@jupyter-widgets/base",
      "model_module_version": "1.1.0",
      "model_name": "LayoutModel",
      "state": {}
     },
     "ec00f8332da040388cb428b2fe0c7f92": {
      "model_module": "@jupyter-widgets/controls",
      "model_module_version": "1.4.0",
      "model_name": "IntTextModel",
      "state": {
       "layout": "IPY_MODEL_78b85e749ac44b0ab05c53816028bfbf",
       "step": 1,
       "style": "IPY_MODEL_d97b51928f4b4d59882b313ca182d62f",
       "value": 2000
      }
     },
     "ec35e4d438a34f2f8a375db8036c00a1": {
      "model_module": "@jupyter-widgets/controls",
      "model_module_version": "1.4.0",
      "model_name": "LabelModel",
      "state": {
       "layout": "IPY_MODEL_e613894486cf4f3ab0acdd65e6b38557",
       "style": "IPY_MODEL_886e38be61954bc5be72e6d5dd23fc65",
       "value": "Number of Sample points:"
      }
     },
     "eceaa3edba1f497186b2556609e43a3c": {
      "model_module": "@jupyter-widgets/controls",
      "model_module_version": "1.4.0",
      "model_name": "DescriptionStyleModel",
      "state": {
       "description_width": ""
      }
     },
     "ed8be2201f2847b4bf4242ab92ef7111": {
      "model_module": "@jupyter-widgets/base",
      "model_module_version": "1.1.0",
      "model_name": "LayoutModel",
      "state": {}
     },
     "efadeb276157488dbe68a36d1bd31bdf": {
      "model_module": "@jupyter-widgets/base",
      "model_module_version": "1.1.0",
      "model_name": "LayoutModel",
      "state": {}
     },
     "efe773aef5a5487bb6b3bccdaea33009": {
      "model_module": "@jupyter-widgets/base",
      "model_module_version": "1.1.0",
      "model_name": "LayoutModel",
      "state": {}
     },
     "f00205535a1448e0930c4080e7d457d0": {
      "model_module": "@jupyter-widgets/base",
      "model_module_version": "1.1.0",
      "model_name": "LayoutModel",
      "state": {}
     },
     "f047e3767fbc4a9791fbe9ddad5cd78a": {
      "model_module": "@jupyter-widgets/base",
      "model_module_version": "1.1.0",
      "model_name": "LayoutModel",
      "state": {}
     },
     "f090cae2368644659d76d2430815fb6c": {
      "model_module": "@jupyter-widgets/controls",
      "model_module_version": "1.4.0",
      "model_name": "IntTextModel",
      "state": {
       "layout": "IPY_MODEL_4185afb9897b4c97bbda576413050e65",
       "step": 1,
       "style": "IPY_MODEL_5f63476552364b9eb3f5d5286057e33e",
       "value": 1000
      }
     },
     "f0eceac93d0b44ac95c1c5797b5642c9": {
      "model_module": "@jupyter-widgets/controls",
      "model_module_version": "1.4.0",
      "model_name": "IntTextModel",
      "state": {
       "layout": "IPY_MODEL_48e874ea639a4f6389860c18dc943262",
       "step": 1,
       "style": "IPY_MODEL_33754d24de7e4adbbd233a8d334b71c0",
       "value": 4000
      }
     },
     "f1eb0efc4a8f43069613046a917a4a20": {
      "model_module": "@jupyter-widgets/controls",
      "model_module_version": "1.4.0",
      "model_name": "HBoxModel",
      "state": {
       "children": [
        "IPY_MODEL_f090cae2368644659d76d2430815fb6c",
        "IPY_MODEL_ec00f8332da040388cb428b2fe0c7f92",
        "IPY_MODEL_ac3f104a857d471f90e1f01e8ec3a253",
        "IPY_MODEL_4b834472e9bb4427a1aed2d5fde7e768"
       ],
       "layout": "IPY_MODEL_ed8be2201f2847b4bf4242ab92ef7111"
      }
     },
     "f2366bfef2a14e6aa787b0731dad1c97": {
      "model_module": "@jupyter-widgets/output",
      "model_module_version": "1.0.0",
      "model_name": "OutputModel",
      "state": {
       "layout": "IPY_MODEL_5e63b399bbf044d09abf3cc11ed688db",
       "outputs": [
        {
         "data": {
          "image/png": "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\n",
          "text/plain": "<Figure size 576x576 with 1 Axes>"
         },
         "metadata": {
          "needs_background": "light"
         },
         "output_type": "display_data"
        },
        {
         "name": "stdout",
         "output_type": "stream",
         "text": "Monte Carlo error 0.0164073\n"
        }
       ]
      }
     },
     "f51fbeec5b754e2e94dbdbb7000253a9": {
      "model_module": "@jupyter-widgets/controls",
      "model_module_version": "1.4.0",
      "model_name": "ButtonModel",
      "state": {
       "description": "Plot Convergence",
       "layout": "IPY_MODEL_3ee9e1d416ca4d43ac75d1eacb231806",
       "style": "IPY_MODEL_0867bbbf3eaa4c9088fc67af62e39472"
      }
     },
     "f6be01b3592b4ca79f22b88084b1bb9d": {
      "model_module": "@jupyter-widgets/controls",
      "model_module_version": "1.4.0",
      "model_name": "IntTextModel",
      "state": {
       "layout": "IPY_MODEL_efe773aef5a5487bb6b3bccdaea33009",
       "step": 1,
       "style": "IPY_MODEL_c6be434e58ee47d08fe7acae28767e0a",
       "value": 2000
      }
     },
     "f755f9d69d9a40fb9b4fab4858f22d16": {
      "model_module": "@jupyter-widgets/base",
      "model_module_version": "1.1.0",
      "model_name": "LayoutModel",
      "state": {}
     },
     "f876fbf5f635474385693f0886f4cd47": {
      "model_module": "@jupyter-widgets/base",
      "model_module_version": "1.1.0",
      "model_name": "LayoutModel",
      "state": {}
     },
     "f90044fd290445d2b1474a8512f11751": {
      "model_module": "@jupyter-widgets/base",
      "model_module_version": "1.1.0",
      "model_name": "LayoutModel",
      "state": {}
     },
     "fa073a84b3914696a20537875e42afe4": {
      "model_module": "@jupyter-widgets/base",
      "model_module_version": "1.1.0",
      "model_name": "LayoutModel",
      "state": {}
     },
     "fa4c85070174453a892dc655003e9688": {
      "model_module": "@jupyter-widgets/controls",
      "model_module_version": "1.4.0",
      "model_name": "SliderStyleModel",
      "state": {
       "description_width": ""
      }
     },
     "facdcb6091824e478b4fe99714aaebcd": {
      "model_module": "@jupyter-widgets/base",
      "model_module_version": "1.1.0",
      "model_name": "LayoutModel",
      "state": {}
     },
     "fae7790e29a64ce883519e3aa80b4dab": {
      "model_module": "@jupyter-widgets/base",
      "model_module_version": "1.1.0",
      "model_name": "LayoutModel",
      "state": {}
     },
     "fc69fc12436643d196c3b1b5b5d1f2a7": {
      "model_module": "@jupyter-widgets/base",
      "model_module_version": "1.1.0",
      "model_name": "LayoutModel",
      "state": {}
     },
     "fcbde67cc2094e2e8b45473fae82591a": {
      "model_module": "@jupyter-widgets/controls",
      "model_module_version": "1.4.0",
      "model_name": "DescriptionStyleModel",
      "state": {
       "description_width": ""
      }
     },
     "fddf544f223a448ba24e0e0f5dde5ddf": {
      "model_module": "@jupyter-widgets/controls",
      "model_module_version": "1.4.0",
      "model_name": "DescriptionStyleModel",
      "state": {
       "description_width": ""
      }
     },
     "fed70e69cc7a41a1baff8215a3e1186e": {
      "model_module": "@jupyter-widgets/controls",
      "model_module_version": "1.4.0",
      "model_name": "LabelModel",
      "state": {
       "layout": "IPY_MODEL_a02d6e52b32d4dbb88ade6d93e7d022c",
       "style": "IPY_MODEL_fcbde67cc2094e2e8b45473fae82591a",
       "value": "Enter four Monte Carlo Sample sizes to compare"
      }
     },
     "ff1288240c37477b94fcf63bb9be34c7": {
      "model_module": "@jupyter-widgets/output",
      "model_module_version": "1.0.0",
      "model_name": "OutputModel",
      "state": {
       "layout": "IPY_MODEL_efadeb276157488dbe68a36d1bd31bdf",
       "outputs": [
        {
         "data": {
          "image/png": "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\n",
          "text/plain": "<Figure size 576x576 with 1 Axes>"
         },
         "metadata": {
          "needs_background": "light"
         },
         "output_type": "display_data"
        },
        {
         "name": "stdout",
         "output_type": "stream",
         "text": "Monte Carlo error 0.0164073\n"
        }
       ]
      }
     },
     "ff746b1e97954a0ab558929a62947ced": {
      "model_module": "@jupyter-widgets/controls",
      "model_module_version": "1.4.0",
      "model_name": "SliderStyleModel",
      "state": {
       "description_width": ""
      }
     }
    },
    "version_major": 2,
    "version_minor": 0
   }
  }
 },
 "nbformat": 4,
 "nbformat_minor": 2
}
